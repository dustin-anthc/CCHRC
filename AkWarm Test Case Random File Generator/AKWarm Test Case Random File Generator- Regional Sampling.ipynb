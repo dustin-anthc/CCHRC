{
 "cells": [
  {
   "cell_type": "code",
   "execution_count": 9,
   "metadata": {
    "collapsed": false
   },
   "outputs": [],
   "source": [
    "import pandas as pd\n",
    "import numpy as np\n",
    "from random import sample\n",
    "from pandas import *\n",
    "import matplotlib.pyplot as plt\n",
    "\n",
    "%matplotlib inline"
   ]
  },
  {
   "cell_type": "code",
   "execution_count": 10,
   "metadata": {
    "collapsed": false
   },
   "outputs": [
    {
     "data": {
      "text/html": [
       "<div style=\"max-height:1000px;max-width:1500px;overflow:auto;\">\n",
       "<table border=\"1\" class=\"dataframe\">\n",
       "  <thead>\n",
       "    <tr style=\"text-align: right;\">\n",
       "      <th></th>\n",
       "      <th>ProjectID</th>\n",
       "      <th>LocationID</th>\n",
       "      <th>Address</th>\n",
       "      <th>City</th>\n",
       "      <th>Rating Type</th>\n",
       "      <th>Rating_Date</th>\n",
       "      <th>RatingPoints</th>\n",
       "      <th>FileName</th>\n",
       "      <th>YearBuilt</th>\n",
       "      <th>MetadataID</th>\n",
       "      <th>...</th>\n",
       "      <th>APP_Oil2</th>\n",
       "      <th>APP_Propane</th>\n",
       "      <th>APP_Birch</th>\n",
       "      <th>APP_Spruce</th>\n",
       "      <th>Unnamed: 39</th>\n",
       "      <th>Unnamed: 40</th>\n",
       "      <th>Unnamed: 41</th>\n",
       "      <th>Unnamed: 42</th>\n",
       "      <th>Unnamed: 43</th>\n",
       "      <th>Unnamed: 44</th>\n",
       "    </tr>\n",
       "  </thead>\n",
       "  <tbody>\n",
       "    <tr>\n",
       "      <th>0</th>\n",
       "      <td>  644</td>\n",
       "      <td> 34229</td>\n",
       "      <td>                      </td>\n",
       "      <td>     ATKA</td>\n",
       "      <td> As_Is</td>\n",
       "      <td> 39:00.0</td>\n",
       "      <td> 91.2</td>\n",
       "      <td>                       re-created 644.hm2</td>\n",
       "      <td> 1985</td>\n",
       "      <td> 2971</td>\n",
       "      <td>...</td>\n",
       "      <td> 0</td>\n",
       "      <td> 0</td>\n",
       "      <td> 0</td>\n",
       "      <td> 0</td>\n",
       "      <td>NaN</td>\n",
       "      <td>NaN</td>\n",
       "      <td>NaN</td>\n",
       "      <td>NaN</td>\n",
       "      <td>NaN</td>\n",
       "      <td>NaN</td>\n",
       "    </tr>\n",
       "    <tr>\n",
       "      <th>1</th>\n",
       "      <td>  648</td>\n",
       "      <td> 36723</td>\n",
       "      <td>                      </td>\n",
       "      <td>     ATKA</td>\n",
       "      <td> As_Is</td>\n",
       "      <td> 39:00.0</td>\n",
       "      <td> 91.2</td>\n",
       "      <td>                       re-created 648.hm2</td>\n",
       "      <td> 1985</td>\n",
       "      <td> 4572</td>\n",
       "      <td>...</td>\n",
       "      <td> 0</td>\n",
       "      <td> 0</td>\n",
       "      <td> 0</td>\n",
       "      <td> 0</td>\n",
       "      <td>NaN</td>\n",
       "      <td>NaN</td>\n",
       "      <td>NaN</td>\n",
       "      <td>NaN</td>\n",
       "      <td>NaN</td>\n",
       "      <td>NaN</td>\n",
       "    </tr>\n",
       "    <tr>\n",
       "      <th>2</th>\n",
       "      <td>  655</td>\n",
       "      <td> 34231</td>\n",
       "      <td>                      </td>\n",
       "      <td>     ATKA</td>\n",
       "      <td> As_Is</td>\n",
       "      <td> 00:00.0</td>\n",
       "      <td> 91.2</td>\n",
       "      <td>                       re-created 655.hm2</td>\n",
       "      <td> 1985</td>\n",
       "      <td> 2974</td>\n",
       "      <td>...</td>\n",
       "      <td> 0</td>\n",
       "      <td> 0</td>\n",
       "      <td> 0</td>\n",
       "      <td> 0</td>\n",
       "      <td>NaN</td>\n",
       "      <td>NaN</td>\n",
       "      <td>NaN</td>\n",
       "      <td>NaN</td>\n",
       "      <td>NaN</td>\n",
       "      <td>NaN</td>\n",
       "    </tr>\n",
       "    <tr>\n",
       "      <th>3</th>\n",
       "      <td> 4058</td>\n",
       "      <td>  2836</td>\n",
       "      <td>      215 SHOTGUN ALY </td>\n",
       "      <td>    SITKA</td>\n",
       "      <td> As_Is</td>\n",
       "      <td> 00:00.0</td>\n",
       "      <td> 86.3</td>\n",
       "      <td>           Dave Lubin re-created 4058.hm2</td>\n",
       "      <td> 1997</td>\n",
       "      <td> 4834</td>\n",
       "      <td>...</td>\n",
       "      <td> 0</td>\n",
       "      <td> 0</td>\n",
       "      <td> 0</td>\n",
       "      <td> 0</td>\n",
       "      <td>NaN</td>\n",
       "      <td>NaN</td>\n",
       "      <td>NaN</td>\n",
       "      <td>NaN</td>\n",
       "      <td>NaN</td>\n",
       "      <td>NaN</td>\n",
       "    </tr>\n",
       "    <tr>\n",
       "      <th>4</th>\n",
       "      <td> 6429</td>\n",
       "      <td> 37176</td>\n",
       "      <td> 38365 MOOSE RANGE DR </td>\n",
       "      <td> STERLING</td>\n",
       "      <td> As_Is</td>\n",
       "      <td> 49:00.0</td>\n",
       "      <td> 86.0</td>\n",
       "      <td> Gail/Orville McWethy re-created 6429.hm2</td>\n",
       "      <td>  NaN</td>\n",
       "      <td> 7992</td>\n",
       "      <td>...</td>\n",
       "      <td> 0</td>\n",
       "      <td> 0</td>\n",
       "      <td> 0</td>\n",
       "      <td> 0</td>\n",
       "      <td>NaN</td>\n",
       "      <td>NaN</td>\n",
       "      <td>NaN</td>\n",
       "      <td>NaN</td>\n",
       "      <td>NaN</td>\n",
       "      <td>NaN</td>\n",
       "    </tr>\n",
       "  </tbody>\n",
       "</table>\n",
       "<p>5 rows × 45 columns</p>\n",
       "</div>"
      ],
      "text/plain": [
       "   ProjectID  LocationID                Address      City Rating Type  \\\n",
       "0        644       34229                             ATKA       As_Is   \n",
       "1        648       36723                             ATKA       As_Is   \n",
       "2        655       34231                             ATKA       As_Is   \n",
       "3       4058        2836       215 SHOTGUN ALY      SITKA       As_Is   \n",
       "4       6429       37176  38365 MOOSE RANGE DR   STERLING       As_Is   \n",
       "\n",
       "  Rating_Date  RatingPoints                                  FileName  \\\n",
       "0     39:00.0          91.2                        re-created 644.hm2   \n",
       "1     39:00.0          91.2                        re-created 648.hm2   \n",
       "2     00:00.0          91.2                        re-created 655.hm2   \n",
       "3     00:00.0          86.3            Dave Lubin re-created 4058.hm2   \n",
       "4     49:00.0          86.0  Gail/Orville McWethy re-created 6429.hm2   \n",
       "\n",
       "   YearBuilt  MetadataID     ...     APP_Oil2  APP_Propane APP_Birch  \\\n",
       "0       1985        2971     ...            0            0         0   \n",
       "1       1985        4572     ...            0            0         0   \n",
       "2       1985        2974     ...            0            0         0   \n",
       "3       1997        4834     ...            0            0         0   \n",
       "4        NaN        7992     ...            0            0         0   \n",
       "\n",
       "  APP_Spruce  Unnamed: 39  Unnamed: 40  Unnamed: 41  Unnamed: 42  Unnamed: 43  \\\n",
       "0          0          NaN          NaN          NaN          NaN          NaN   \n",
       "1          0          NaN          NaN          NaN          NaN          NaN   \n",
       "2          0          NaN          NaN          NaN          NaN          NaN   \n",
       "3          0          NaN          NaN          NaN          NaN          NaN   \n",
       "4          0          NaN          NaN          NaN          NaN          NaN   \n",
       "\n",
       "   Unnamed: 44  \n",
       "0          NaN  \n",
       "1          NaN  \n",
       "2          NaN  \n",
       "3          NaN  \n",
       "4          NaN  \n",
       "\n",
       "[5 rows x 45 columns]"
      ]
     },
     "execution_count": 10,
     "metadata": {},
     "output_type": "execute_result"
    }
   ],
   "source": [
    "# This section reads a csv file and tests to make sure the header is correct\n",
    "\n",
    "df = pd.read_csv(r\"C:\\Users\\dustin\\Dropbox\\AKWarm Consolidated\\CSV Data for IRS Tax Credit Sampling.csv\", index_col=None, header=0)\n",
    "df.head()"
   ]
  },
  {
   "cell_type": "code",
   "execution_count": 11,
   "metadata": {
    "collapsed": false
   },
   "outputs": [],
   "source": [
    "# This function chooses x ratings at random from a dataframe\n",
    "\n",
    "def SampleX(df, x):\n",
    "    \n",
    "# create random index \n",
    "    rindex = np.array(sample(xrange(len(df)), x))\n",
    "\n",
    "# Uses random index to select 10 ratings from the data frame \n",
    "    random_samples = df.iloc[rindex]\n",
    "    \n",
    "    return random_samples\n",
    "\n",
    "\n"
   ]
  },
  {
   "cell_type": "code",
   "execution_count": 12,
   "metadata": {
    "collapsed": true
   },
   "outputs": [],
   "source": [
    "ancsa_regions = (20, #Aleut\n",
    "                13, #Sealaska Corporation - outside Juneau\n",
    "                18, #Cook Inlet Regional (CIRI) - outside Anchorage Borough\n",
    "                17, #Cook Inlet Regional (CIRI) - Anchorage Borough only \n",
    "                22, #Doyon - Fairbanks North Star Borough only\n",
    "                21, #Calista\n",
    "                25, #NANA Regional Corporation\n",
    "                15, #Ahtna-Chugach\n",
    "                23, #Doyon - outside Fairbanks North Star Borough\n",
    "                14, #Sealaska Corporation - Juneau only\n",
    "                26, #Bering Straits Native Corporation\n",
    "                16, #Bristol Bay Native Corporation\n",
    "                24, #Arctic Slope Regional Corporation\n",
    "                19, #Koniag\n",
    "                )"
   ]
  },
  {
   "cell_type": "code",
   "execution_count": 13,
   "metadata": {
    "collapsed": false
   },
   "outputs": [],
   "source": [
    "# Need to manually set the percentage of ratings you want sampled\n",
    "sample_pct = 0.18\n",
    "\n",
    "# This function calculates the number of regional samples that should be performed based on the proportion of ratings in \n",
    "# the region to the total number of ratings and the manually set sample percentage.\n",
    "def representative_sample(df, region_id, sample_percent):\n",
    "    total_ratings = df['ProjectID'].nunique()\n",
    "    regional_df = df.query('ANCSARegionId == %s' % region_id)\n",
    "    total = regional_df['ProjectID'].nunique()\n",
    "    sample_size = int(round(total * sample_percent))\n",
    "    \n",
    "    return sample_size \n",
    "\n",
    "# This function samples the number entered in a particular region\n",
    "def sample_region(df, region_id, sample_number):\n",
    "    regional_df = df.query('ANCSARegionId == %s' % region_id)\n",
    "    regional_samples = SampleX(regional_df, sample_number)\n",
    "\n",
    "    return regional_samples\n",
    "\n",
    "all_samples = pd.DataFrame()    # Blank DataFrame to start with\n",
    "for reg_id in ancsa_regions:\n",
    "    samplesize = representative_sample(df, reg_id, sample_pct)\n",
    "    samples = sample_region(df, reg_id, samplesize)\n",
    "    all_samples = all_samples.append(samples)\n",
    "all_samples.to_excel('Randomly_Sampled_AKWarm_Test_Files_18_percent.xlsx', sheet_name=\"Test_Files\")"
   ]
  },
  {
   "cell_type": "code",
   "execution_count": null,
   "metadata": {
    "collapsed": false
   },
   "outputs": [],
   "source": [
    "# This function randomly samples 10 files from BEES, As_Is, and Wx_As_Is files using a region mask input.\n",
    "\n",
    "#def sample_region(*args):\n",
    "#    df, region_mask = args\n",
    "#    regional_df = df[region_mask]\n",
    "#    As_Is, BEES, Wx_As_Is = split_ratings( regional_df )\n",
    "#    regional_samples = location_samples(As_Is, BEES, Wx_As_Is)\n",
    "    \n",
    "#    return regional_samples"
   ]
  },
  {
   "cell_type": "code",
   "execution_count": null,
   "metadata": {
    "collapsed": false
   },
   "outputs": [],
   "source": [
    "# This section determines the regions which should be sampled and then samples them.  \n",
    "#To change regions, simply change the ANCSA region ID.\n",
    "\n",
    "#anchorage_mask = df['ANCSARegionId'] == 17\n",
    "#anchorage_samples = sample_region(df, anchorage_mask)\n",
    "#fairbanks_mask = df['ANCSARegionId'] == 22\n",
    "#fairbanks_samples =  sample_region(df, fairbanks_mask)\n",
    "#juneau_mask = df['ANCSARegionId'] == 14\n",
    "#juneau_samples = sample_region(df, juneau_mask)\n",
    "#calista_mask = df['ANCSARegionId'] == 21\n",
    "#calista_samples = sample_region(df, calista_mask)\n",
    "#beringstraits_mask = df['ANCSARegionId'] == 26\n",
    "#beringstraits_samples = sample_region(df, beringstraits_mask)"
   ]
  },
  {
   "cell_type": "code",
   "execution_count": 3,
   "metadata": {
    "collapsed": false
   },
   "outputs": [
    {
     "ename": "NameError",
     "evalue": "name 'anchorage_samples' is not defined",
     "output_type": "error",
     "traceback": [
      "\u001b[1;31m---------------------------------------------------------------------------\u001b[0m",
      "\u001b[1;31mNameError\u001b[0m                                 Traceback (most recent call last)",
      "\u001b[1;32m<ipython-input-3-e7c0350f8d81>\u001b[0m in \u001b[0;36m<module>\u001b[1;34m()\u001b[0m\n\u001b[0;32m      1\u001b[0m \u001b[1;31m# This section appends all of the different regional samples into a single data frame and then exports it to Excel.\u001b[0m\u001b[1;33m\u001b[0m\u001b[1;33m\u001b[0m\u001b[0m\n\u001b[0;32m      2\u001b[0m \u001b[1;33m\u001b[0m\u001b[0m\n\u001b[1;32m----> 3\u001b[1;33m \u001b[0mall_samples\u001b[0m \u001b[1;33m=\u001b[0m \u001b[0manchorage_samples\u001b[0m\u001b[1;33m.\u001b[0m\u001b[0mappend\u001b[0m\u001b[1;33m(\u001b[0m\u001b[0mfairbanks_samples\u001b[0m\u001b[1;33m,\u001b[0m \u001b[0mignore_index\u001b[0m\u001b[1;33m=\u001b[0m\u001b[0mTrue\u001b[0m\u001b[1;33m)\u001b[0m\u001b[1;33m\u001b[0m\u001b[0m\n\u001b[0m\u001b[0;32m      4\u001b[0m \u001b[0mall_samples\u001b[0m \u001b[1;33m=\u001b[0m \u001b[0mall_samples\u001b[0m\u001b[1;33m.\u001b[0m\u001b[0mappend\u001b[0m\u001b[1;33m(\u001b[0m\u001b[0mjuneau_samples\u001b[0m\u001b[1;33m,\u001b[0m \u001b[0mignore_index\u001b[0m\u001b[1;33m=\u001b[0m\u001b[0mTrue\u001b[0m\u001b[1;33m)\u001b[0m\u001b[1;33m\u001b[0m\u001b[0m\n\u001b[0;32m      5\u001b[0m \u001b[0mall_samples\u001b[0m \u001b[1;33m=\u001b[0m \u001b[0mall_samples\u001b[0m\u001b[1;33m.\u001b[0m\u001b[0mappend\u001b[0m\u001b[1;33m(\u001b[0m\u001b[0mcalista_samples\u001b[0m\u001b[1;33m,\u001b[0m \u001b[0mignore_index\u001b[0m\u001b[1;33m=\u001b[0m\u001b[0mTrue\u001b[0m\u001b[1;33m)\u001b[0m\u001b[1;33m\u001b[0m\u001b[0m\n",
      "\u001b[1;31mNameError\u001b[0m: name 'anchorage_samples' is not defined"
     ]
    }
   ],
   "source": [
    "# This section appends all of the different regional samples into a single data frame and then exports it to Excel.\n",
    "\n",
    "#all_samples = anchorage_samples.append(fairbanks_samples, ignore_index=True)\n",
    "#all_samples = all_samples.append(juneau_samples, ignore_index=True)\n",
    "#all_samples = all_samples.append(calista_samples, ignore_index=True)\n",
    "#all_samples = all_samples.append(beringstraits_samples, ignore_index=True)\n",
    "#all_samples.to_excel('Randomly_Sampled_AKWarm_Test_Files6-29.xlsx', sheet_name=\"Test_Files\")"
   ]
  },
  {
   "cell_type": "code",
   "execution_count": null,
   "metadata": {
    "collapsed": false
   },
   "outputs": [],
   "source": [
    "# Splits Ratings into As_Is, BEES, and Wx_As_Is files\n",
    "\n",
    "#def split_ratings( df ):\n",
    "    \n",
    "#    mask2 = df['RatingType'] == 'As_Is'\n",
    "#    As_Is = df[mask2]\n",
    "\n",
    "#    mask3 = df['RatingType'] == 'BEES'\n",
    "#    BEES = df[mask3]\n",
    "\n",
    "#    mask4 = df['RatingType'] == 'Wx_As_Is'\n",
    "#    Wx_As_Is = df[mask4]\n",
    "    \n",
    "#    return As_Is, BEES, Wx_As_Is\n",
    "\n"
   ]
  },
  {
   "cell_type": "code",
   "execution_count": null,
   "metadata": {
    "collapsed": false
   },
   "outputs": [],
   "source": [
    "# This function randomly samples 10 As_Is, BEES, and Wx_As_Is ratings for a given location specific \n",
    "# data frame and returns a dataframe with all of the samples\n",
    "\n",
    "#def location_samples(*args):\n",
    "#    As_Is, BEES, Wx_As_Is = args\n",
    "\n",
    "#    rand_as_is = Sample10(As_Is)\n",
    "#    rand_bees = Sample10(BEES)\n",
    "#    rand_wx_as_is = Sample10(Wx_As_Is)\n",
    "#    bees_as_is = rand_as_is.append(rand_bees, ignore_index=True)\n",
    "#    all_random_samples = bees_as_is.append(rand_wx_as_is, ignore_index=True)\n",
    "\n",
    "#    return all_random_samples"
   ]
  },
  {
   "cell_type": "code",
   "execution_count": null,
   "metadata": {
    "collapsed": true
   },
   "outputs": [],
   "source": []
  }
 ],
 "metadata": {
  "kernelspec": {
   "display_name": "Python 2",
   "language": "python",
   "name": "python2"
  },
  "language_info": {
   "codemirror_mode": {
    "name": "ipython",
    "version": 2
   },
   "file_extension": ".py",
   "mimetype": "text/x-python",
   "name": "python",
   "nbconvert_exporter": "python",
   "pygments_lexer": "ipython2",
   "version": "2.7.6"
  }
 },
 "nbformat": 4,
 "nbformat_minor": 0
}
