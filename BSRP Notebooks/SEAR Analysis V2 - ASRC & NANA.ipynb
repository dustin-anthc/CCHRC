{
 "metadata": {
  "name": ""
 },
 "nbformat": 3,
 "nbformat_minor": 0,
 "worksheets": [
  {
   "cells": [
    {
     "cell_type": "code",
     "collapsed": false,
     "input": [
      "import pandas as pd\n",
      "import numpy as np\n",
      "from random import sample\n",
      "from pandas import *\n",
      "import matplotlib.pyplot as plt\n",
      "\n",
      "%matplotlib inline"
     ],
     "language": "python",
     "metadata": {},
     "outputs": [],
     "prompt_number": 2
    },
    {
     "cell_type": "code",
     "collapsed": false,
     "input": [
      "# This section reads the csv files with the data from the SQL queries for the basic energy data and as-is and post wall data.  \n",
      "# Note that for each file you will have to put in the  correct file pathname.\n",
      "basic_data = pd.read_csv(r\"C:\\Users\\dustin\\Desktop\\SEAR\\ASRC_NANA_Basic_Energy_Data.csv\", index_col=None, header=0)\n",
      "as_is_wall_data = pd.read_csv(r\"C:\\Users\\dustin\\Desktop\\SEAR\\ASRC_NANA_asis_sheathed_wall_data.csv\", index_col=None, header=0)\n",
      "post_wall_data = pd.read_csv(r\"C:\\Users\\dustin\\Desktop\\SEAR\\ASRC_NANA_post_sheathed_wall_data.csv\", index_col=None, header=0)"
     ],
     "language": "python",
     "metadata": {},
     "outputs": [],
     "prompt_number": 3
    },
    {
     "cell_type": "code",
     "collapsed": false,
     "input": [
      "# This section changes the name of the project ID column in the post wall data so it can be joined w/ basic energy data\n",
      "new_columns = post_wall_data.columns.values;\n",
      "new_columns[1] = 'Post_ProjectID'\n",
      "post_wall_data.columns = new_columns"
     ],
     "language": "python",
     "metadata": {},
     "outputs": [],
     "prompt_number": 4
    },
    {
     "cell_type": "code",
     "collapsed": false,
     "input": [
      "# This section changes the name of the project id column in the As-Is wall data so it can be joined with the basic energy data\n",
      "new_asis_columns = as_is_wall_data.columns.values;\n",
      "new_asis_columns[1] = 'Asis_ProjectID'\n",
      "as_is_wall_data.columns = new_asis_columns"
     ],
     "language": "python",
     "metadata": {},
     "outputs": [],
     "prompt_number": 5
    },
    {
     "cell_type": "code",
     "collapsed": false,
     "input": [
      "# This section appends the post wall data to the basic data\n",
      "combined_data = merge(basic_data, post_wall_data, how='left', on=\"Post_ProjectID\", sort=False, suffixes=('_bed', '_post'))"
     ],
     "language": "python",
     "metadata": {},
     "outputs": [],
     "prompt_number": 6
    },
    {
     "cell_type": "code",
     "collapsed": false,
     "input": [
      "# Sorts the data so the largest wall component is first in the list, and then groups the data by project ID so there is only one wall\n",
      "# component per ProjectID.\n",
      "combined_data = combined_data.sort(['Post_ProjectID', 'GrossArea'], ascending=[True, False])\n",
      "combined_data = combined_data.groupby('Post_ProjectID', as_index=False).first()\n",
      "# combined_data.to_excel(\"Z_Test.xlsx\", sheet_name=\"Post_Test\")"
     ],
     "language": "python",
     "metadata": {},
     "outputs": [],
     "prompt_number": 7
    },
    {
     "cell_type": "code",
     "collapsed": false,
     "input": [
      "# This section appends the as is wall data to the basic energy and post wall data. \n",
      "combined_data = merge(combined_data, as_is_wall_data, how='left', on=\"Asis_ProjectID\", sort=False, suffixes=('_bed2', '_asis'))"
     ],
     "language": "python",
     "metadata": {},
     "outputs": [],
     "prompt_number": 8
    },
    {
     "cell_type": "code",
     "collapsed": false,
     "input": [
      "# This section just lists the columns so they can be referenced\n",
      "# list(combined_data.columns.values)"
     ],
     "language": "python",
     "metadata": {},
     "outputs": [],
     "prompt_number": 9
    },
    {
     "cell_type": "code",
     "collapsed": false,
     "input": [
      "# Sorts the data so the largest wall component is first in the list, and then groups the data by project ID so there is only one wall\n",
      "# component per As-Is ProjectID.\n",
      "combined_data = combined_data.sort(['Asis_ProjectID', 'GrossArea_asis'], ascending=[True, False])\n",
      "combined_data = combined_data.groupby('Asis_ProjectID', as_index=False).first()\n",
      "# combined_data.to_excel(\"ZZ_Test.xlsx\", sheet_name=\"Asis_Test\")"
     ],
     "language": "python",
     "metadata": {},
     "outputs": [],
     "prompt_number": 10
    },
    {
     "cell_type": "code",
     "collapsed": false,
     "input": [
      "# This section changes the name of the column because when something is labeled with a '.' like TypeID.2 it doesn't work.\n",
      "change_columns = combined_data.columns.values;\n",
      "change_columns[242] = 'asis_type_id'\n",
      "combined_data.columns = change_columns"
     ],
     "language": "python",
     "metadata": {},
     "outputs": [],
     "prompt_number": 11
    },
    {
     "cell_type": "code",
     "collapsed": false,
     "input": [
      "change_columns = combined_data.columns.values\n",
      "change_columns[175] = 'post_type_id'\n",
      "combined_data.columns = change_columns"
     ],
     "language": "python",
     "metadata": {},
     "outputs": [],
     "prompt_number": 12
    },
    {
     "cell_type": "code",
     "collapsed": false,
     "input": [
      "# This section selects only the ratings which did not have sheathing in the As-Is file but do have sheathing in the Post file,\n",
      "# indicating a sheathing retrofit was performed.\n",
      "sheathing_retrofits = combined_data.query(\"asis_type_id != 14 and post_type_id == 14\")"
     ],
     "language": "python",
     "metadata": {},
     "outputs": [],
     "prompt_number": 13
    },
    {
     "cell_type": "code",
     "collapsed": false,
     "input": [
      "# This is the number of sheathing retrofits that have been performed in this region. \n",
      "sheathed_retro = len(sheathing_retrofits.index)\n",
      "retrofits = len(combined_data.index)\n",
      "print \"Of approximately %d retrofits analyzed, %d added insulative sheathing.\" % (retrofits, sheathed_retro)"
     ],
     "language": "python",
     "metadata": {},
     "outputs": [
      {
       "output_type": "stream",
       "stream": "stdout",
       "text": [
        "Of approximately 292 retrofits analyzed, 80 added insulative sheathing.\n"
       ]
      }
     ],
     "prompt_number": 14
    },
    {
     "cell_type": "code",
     "collapsed": false,
     "input": [
      "# Delete the pound sign below to print a test Excel file for checking if necessary\n",
      "# sheathing_retrofits.to_excel(\"Sheating_retrofits_test.xlsx\", sheet_name=\"Test\")"
     ],
     "language": "python",
     "metadata": {},
     "outputs": [],
     "prompt_number": 15
    },
    {
     "cell_type": "code",
     "collapsed": false,
     "input": [
      "# This section changes the column name to avoid the '.2' column naming problem\n",
      "change_columns = sheathing_retrofits.columns.values;\n",
      "change_columns[164] = 'sheathing_thickness'\n",
      "sheathing_retrofits.columns = change_columns"
     ],
     "language": "python",
     "metadata": {},
     "outputs": [],
     "prompt_number": 16
    },
    {
     "cell_type": "code",
     "collapsed": false,
     "input": [
      "# This section calculates the percentage of sheathing retrofits that added less than 2\" of sheathing\n",
      "little_sheathing = sheathing_retrofits.query(\"sheathing_thickness <= 2\")\n",
      "percent_less_two = float(len(little_sheathing.index)) / float(len(sheathing_retrofits.index)) * 100\n",
      "print \"%f percent of homes with sheathing retrofits added less than 2 in. of insulation.\" % percent_less_two"
     ],
     "language": "python",
     "metadata": {},
     "outputs": [
      {
       "output_type": "stream",
       "stream": "stdout",
       "text": [
        "96.250000 percent of homes with sheathing retrofits added less than 2 in. of insulation.\n"
       ]
      }
     ],
     "prompt_number": 17
    },
    {
     "cell_type": "code",
     "collapsed": false,
     "input": [
      "# Just a check\n",
      "# sheathing_retrofits['sheathing_thickness']"
     ],
     "language": "python",
     "metadata": {},
     "outputs": [],
     "prompt_number": 18
    },
    {
     "cell_type": "code",
     "collapsed": false,
     "input": [
      "# This section calculates the ratio of sheathing R-value to total wall R-value for each row\n",
      "sheathing_retrofits['sheath_rval_ratio'] = np.where(sheathing_retrofits['BattThickness_bed2'].isnull(), \n",
      "                                                    sheathing_retrofits['nominalRval_bed2'] * sheathing_retrofits['sheathing_thickness'] \n",
      "                                                    / sheathing_retrofits['Comp1R_bed2'], \n",
      "                                                    sheathing_retrofits['nominalRval_bed2'] / sheathing_retrofits['Comp1R_bed2'])\n",
      "sheathing_retrofits['sheath_rval_ratio']\n",
      "                                                    "
     ],
     "language": "python",
     "metadata": {},
     "outputs": [
      {
       "metadata": {},
       "output_type": "pyout",
       "prompt_number": 19,
       "text": [
        "1     0.250345\n",
        "2     0.257769\n",
        "4     0.327031\n",
        "5     0.334195\n",
        "6     0.327031\n",
        "8     0.327031\n",
        "10    0.250345\n",
        "12    0.334195\n",
        "14    0.250345\n",
        "15    0.327031\n",
        "16    0.250345\n",
        "18    0.387567\n",
        "19    0.250345\n",
        "21    0.257729\n",
        "32    0.373553\n",
        "...\n",
        "202    0.289836\n",
        "203    0.382745\n",
        "204    0.581399\n",
        "205    0.245802\n",
        "206    0.245802\n",
        "207    0.245802\n",
        "218    0.429243\n",
        "237    0.396618\n",
        "244    0.344200\n",
        "245    0.364888\n",
        "248    0.247986\n",
        "249    0.255372\n",
        "251    0.255372\n",
        "257    0.456521\n",
        "282    0.463511\n",
        "Name: sheath_rval_ratio, Length: 80, dtype: float64"
       ]
      }
     ],
     "prompt_number": 19
    },
    {
     "cell_type": "code",
     "collapsed": false,
     "input": [
      "# sheathing_retrofits.to_excel(\"Sheating_retrofits_test3.xlsx\", sheet_name=\"Test\")"
     ],
     "language": "python",
     "metadata": {},
     "outputs": [],
     "prompt_number": 20
    },
    {
     "cell_type": "code",
     "collapsed": false,
     "input": [
      "sheathing = sheathing_retrofits['sheath_rval_ratio'].median() * 100\n",
      "cavity = 100 - sheathing\n",
      "print \"The median sheathing r-value ratio in homes with a sheathing retrofit is: %f percent sheathing insulation\" % sheathing\n",
      "print \"and %f percent cavity insulation\" % cavity"
     ],
     "language": "python",
     "metadata": {},
     "outputs": [
      {
       "output_type": "stream",
       "stream": "stdout",
       "text": [
        "The median sheathing r-value ratio in homes with a sheathing retrofit is: 31.481853 percent sheathing insulation\n",
        "and 68.518147 percent cavity insulation\n"
       ]
      }
     ],
     "prompt_number": 21
    },
    {
     "cell_type": "code",
     "collapsed": false,
     "input": [
      "add_sheath_add_vent = sheathing_retrofits.query(\"asis_VentType == 'None'\")\n",
      "add_sheath_add_vent = add_sheath_add_vent.query(\"post_VentType == 'HRV' or post_VentType == 'Mechancial_with_no_Heat_Recovery'\")\n",
      "add_sheath_add_vent_percent = float(len(add_sheath_add_vent.index)) / float(len(sheathing_retrofits.index)) * 100\n",
      "add_sheath_no_vent_percent = 100 - add_sheath_add_vent_percent\n",
      "print \"The percentage of homes with a sheathing retrofit that also added mechanical ventilation is %f.\" % add_sheath_add_vent_percent"
     ],
     "language": "python",
     "metadata": {},
     "outputs": [
      {
       "output_type": "stream",
       "stream": "stdout",
       "text": [
        "The percentage of homes with a sheathing retrofit that also added mechanical ventilation is 46.250000.\n"
       ]
      }
     ],
     "prompt_number": 22
    },
    {
     "cell_type": "code",
     "collapsed": false,
     "input": [
      "retrofit_no_vent = sheathing_retrofits.query(\"post_VentType == 'None'\")\n",
      "asis = retrofit_no_vent['asis_ACH50'].mean()\n",
      "post = retrofit_no_vent['post_ACH50'].mean()\n",
      "print \"The other %f percent of retrofits without continuous mechanical ventilation became more air-tight: %f --> %f ACH50\" % (add_sheath_no_vent_percent, asis, post)"
     ],
     "language": "python",
     "metadata": {},
     "outputs": [
      {
       "output_type": "stream",
       "stream": "stdout",
       "text": [
        "The other 53.750000 percent of retrofits without continuous mechanical ventilation became more air-tight: 7.856992 --> 5.405287 ACH50\n"
       ]
      }
     ],
     "prompt_number": 23
    },
    {
     "cell_type": "code",
     "collapsed": false,
     "input": [
      "# list(combined_data.columns.values)"
     ],
     "language": "python",
     "metadata": {},
     "outputs": [],
     "prompt_number": 24
    },
    {
     "cell_type": "code",
     "collapsed": false,
     "input": [
      "# Groups the data by the wwall's framing type and lumber dimensions\n",
      "wall_analysis = combined_data.groupby(['WallType_bed2', 'Name_bed2']).count()\n",
      "wall_analysis                               "
     ],
     "language": "python",
     "metadata": {},
     "outputs": [
      {
       "html": [
        "<div style=\"max-height:1000px;max-width:1500px;overflow:auto;\">\n",
        "<table border=\"1\" class=\"dataframe\">\n",
        "  <thead>\n",
        "    <tr style=\"text-align: right;\">\n",
        "      <th></th>\n",
        "      <th></th>\n",
        "      <th>Asis_ProjectID</th>\n",
        "      <th>Post_ProjectID</th>\n",
        "      <th>LocationID_bed</th>\n",
        "      <th>asis_address</th>\n",
        "      <th>asis_city</th>\n",
        "      <th>RatingType</th>\n",
        "      <th>YearBuilt</th>\n",
        "      <th>asis_AirLoss</th>\n",
        "      <th>post_AirLoss</th>\n",
        "      <th>asis_Applicances_loss</th>\n",
        "      <th>...</th>\n",
        "      <th>Name.1_asis</th>\n",
        "      <th>BattThickness_asis</th>\n",
        "      <th>nominalRval_asis</th>\n",
        "      <th>asis_type_id</th>\n",
        "      <th>Message_asis</th>\n",
        "      <th>Description_asis</th>\n",
        "      <th>CreateBy.1_asis</th>\n",
        "      <th>CreateDate.1_asis</th>\n",
        "      <th>UpdateBy.1_asis</th>\n",
        "      <th>UpdateDate.1_asis</th>\n",
        "    </tr>\n",
        "    <tr>\n",
        "      <th>WallType_bed2</th>\n",
        "      <th>Name_bed2</th>\n",
        "      <th></th>\n",
        "      <th></th>\n",
        "      <th></th>\n",
        "      <th></th>\n",
        "      <th></th>\n",
        "      <th></th>\n",
        "      <th></th>\n",
        "      <th></th>\n",
        "      <th></th>\n",
        "      <th></th>\n",
        "      <th></th>\n",
        "      <th></th>\n",
        "      <th></th>\n",
        "      <th></th>\n",
        "      <th></th>\n",
        "      <th></th>\n",
        "      <th></th>\n",
        "      <th></th>\n",
        "      <th></th>\n",
        "      <th></th>\n",
        "      <th></th>\n",
        "    </tr>\n",
        "  </thead>\n",
        "  <tbody>\n",
        "    <tr>\n",
        "      <th>Double_Wall</th>\n",
        "      <th>2 x 4</th>\n",
        "      <td>  1</td>\n",
        "      <td>  1</td>\n",
        "      <td>  1</td>\n",
        "      <td>  1</td>\n",
        "      <td>  1</td>\n",
        "      <td>  1</td>\n",
        "      <td>  1</td>\n",
        "      <td>  1</td>\n",
        "      <td>  1</td>\n",
        "      <td>  1</td>\n",
        "      <td>...</td>\n",
        "      <td>  0</td>\n",
        "      <td> 0</td>\n",
        "      <td>  0</td>\n",
        "      <td>  0</td>\n",
        "      <td>  0</td>\n",
        "      <td>  0</td>\n",
        "      <td>  0</td>\n",
        "      <td>  0</td>\n",
        "      <td>  0</td>\n",
        "      <td>  0</td>\n",
        "    </tr>\n",
        "    <tr>\n",
        "      <th rowspan=\"4\" valign=\"top\">Single_Stud</th>\n",
        "      <th>2 x 10</th>\n",
        "      <td>  2</td>\n",
        "      <td>  2</td>\n",
        "      <td>  2</td>\n",
        "      <td>  2</td>\n",
        "      <td>  2</td>\n",
        "      <td>  2</td>\n",
        "      <td>  2</td>\n",
        "      <td>  2</td>\n",
        "      <td>  2</td>\n",
        "      <td>  2</td>\n",
        "      <td>...</td>\n",
        "      <td>  2</td>\n",
        "      <td> 0</td>\n",
        "      <td>  2</td>\n",
        "      <td>  2</td>\n",
        "      <td>  2</td>\n",
        "      <td>  2</td>\n",
        "      <td>  2</td>\n",
        "      <td>  2</td>\n",
        "      <td>  2</td>\n",
        "      <td>  2</td>\n",
        "    </tr>\n",
        "    <tr>\n",
        "      <th>2 x 3</th>\n",
        "      <td>  2</td>\n",
        "      <td>  2</td>\n",
        "      <td>  2</td>\n",
        "      <td>  2</td>\n",
        "      <td>  2</td>\n",
        "      <td>  2</td>\n",
        "      <td>  2</td>\n",
        "      <td>  2</td>\n",
        "      <td>  2</td>\n",
        "      <td>  2</td>\n",
        "      <td>...</td>\n",
        "      <td>  2</td>\n",
        "      <td> 0</td>\n",
        "      <td>  2</td>\n",
        "      <td>  2</td>\n",
        "      <td>  2</td>\n",
        "      <td>  2</td>\n",
        "      <td>  2</td>\n",
        "      <td>  2</td>\n",
        "      <td>  2</td>\n",
        "      <td>  2</td>\n",
        "    </tr>\n",
        "    <tr>\n",
        "      <th>2 x 4</th>\n",
        "      <td> 54</td>\n",
        "      <td> 54</td>\n",
        "      <td> 54</td>\n",
        "      <td> 54</td>\n",
        "      <td> 54</td>\n",
        "      <td> 54</td>\n",
        "      <td> 53</td>\n",
        "      <td> 54</td>\n",
        "      <td> 54</td>\n",
        "      <td> 54</td>\n",
        "      <td>...</td>\n",
        "      <td> 23</td>\n",
        "      <td> 0</td>\n",
        "      <td> 23</td>\n",
        "      <td> 23</td>\n",
        "      <td> 23</td>\n",
        "      <td> 23</td>\n",
        "      <td> 23</td>\n",
        "      <td> 23</td>\n",
        "      <td> 23</td>\n",
        "      <td> 23</td>\n",
        "    </tr>\n",
        "    <tr>\n",
        "      <th>2 x 6</th>\n",
        "      <td> 69</td>\n",
        "      <td> 69</td>\n",
        "      <td> 69</td>\n",
        "      <td> 69</td>\n",
        "      <td> 69</td>\n",
        "      <td> 69</td>\n",
        "      <td> 67</td>\n",
        "      <td> 69</td>\n",
        "      <td> 69</td>\n",
        "      <td> 69</td>\n",
        "      <td>...</td>\n",
        "      <td> 21</td>\n",
        "      <td> 3</td>\n",
        "      <td> 21</td>\n",
        "      <td> 21</td>\n",
        "      <td> 21</td>\n",
        "      <td> 21</td>\n",
        "      <td> 21</td>\n",
        "      <td> 21</td>\n",
        "      <td> 21</td>\n",
        "      <td> 21</td>\n",
        "    </tr>\n",
        "    <tr>\n",
        "      <th>Strapped_Log</th>\n",
        "      <th>2 x 2</th>\n",
        "      <td>  1</td>\n",
        "      <td>  1</td>\n",
        "      <td>  1</td>\n",
        "      <td>  1</td>\n",
        "      <td>  1</td>\n",
        "      <td>  1</td>\n",
        "      <td>  1</td>\n",
        "      <td>  1</td>\n",
        "      <td>  1</td>\n",
        "      <td>  1</td>\n",
        "      <td>...</td>\n",
        "      <td>  1</td>\n",
        "      <td> 0</td>\n",
        "      <td>  1</td>\n",
        "      <td>  1</td>\n",
        "      <td>  1</td>\n",
        "      <td>  1</td>\n",
        "      <td>  1</td>\n",
        "      <td>  1</td>\n",
        "      <td>  1</td>\n",
        "      <td>  1</td>\n",
        "    </tr>\n",
        "  </tbody>\n",
        "</table>\n",
        "<p>6 rows \u00d7 247 columns</p>\n",
        "</div>"
       ],
       "metadata": {},
       "output_type": "pyout",
       "prompt_number": 25,
       "text": [
        "                         Asis_ProjectID  Post_ProjectID  LocationID_bed  \\\n",
        "WallType_bed2 Name_bed2                                                   \n",
        "Double_Wall   2 x 4                   1               1               1   \n",
        "Single_Stud   2 x 10                  2               2               2   \n",
        "              2 x 3                   2               2               2   \n",
        "              2 x 4                  54              54              54   \n",
        "              2 x 6                  69              69              69   \n",
        "Strapped_Log  2 x 2                   1               1               1   \n",
        "\n",
        "                         asis_address  asis_city  RatingType  YearBuilt  \\\n",
        "WallType_bed2 Name_bed2                                                   \n",
        "Double_Wall   2 x 4                 1          1           1          1   \n",
        "Single_Stud   2 x 10                2          2           2          2   \n",
        "              2 x 3                 2          2           2          2   \n",
        "              2 x 4                54         54          54         53   \n",
        "              2 x 6                69         69          69         67   \n",
        "Strapped_Log  2 x 2                 1          1           1          1   \n",
        "\n",
        "                         asis_AirLoss  post_AirLoss  asis_Applicances_loss  \\\n",
        "WallType_bed2 Name_bed2                                                      \n",
        "Double_Wall   2 x 4                 1             1                      1   \n",
        "Single_Stud   2 x 10                2             2                      2   \n",
        "              2 x 3                 2             2                      2   \n",
        "              2 x 4                54            54                     54   \n",
        "              2 x 6                69            69                     69   \n",
        "Strapped_Log  2 x 2                 1             1                      1   \n",
        "\n",
        "                                 ...            Name.1_asis  \\\n",
        "WallType_bed2 Name_bed2          ...                          \n",
        "Double_Wall   2 x 4              ...                      0   \n",
        "Single_Stud   2 x 10             ...                      2   \n",
        "              2 x 3              ...                      2   \n",
        "              2 x 4              ...                     23   \n",
        "              2 x 6              ...                     21   \n",
        "Strapped_Log  2 x 2              ...                      1   \n",
        "\n",
        "                         BattThickness_asis  nominalRval_asis  asis_type_id  \\\n",
        "WallType_bed2 Name_bed2                                                       \n",
        "Double_Wall   2 x 4                       0                 0             0   \n",
        "Single_Stud   2 x 10                      0                 2             2   \n",
        "              2 x 3                       0                 2             2   \n",
        "              2 x 4                       0                23            23   \n",
        "              2 x 6                       3                21            21   \n",
        "Strapped_Log  2 x 2                       0                 1             1   \n",
        "\n",
        "                         Message_asis  Description_asis  CreateBy.1_asis  \\\n",
        "WallType_bed2 Name_bed2                                                    \n",
        "Double_Wall   2 x 4                 0                 0                0   \n",
        "Single_Stud   2 x 10                2                 2                2   \n",
        "              2 x 3                 2                 2                2   \n",
        "              2 x 4                23                23               23   \n",
        "              2 x 6                21                21               21   \n",
        "Strapped_Log  2 x 2                 1                 1                1   \n",
        "\n",
        "                         CreateDate.1_asis  UpdateBy.1_asis  UpdateDate.1_asis  \n",
        "WallType_bed2 Name_bed2                                                         \n",
        "Double_Wall   2 x 4                      0                0                  0  \n",
        "Single_Stud   2 x 10                     2                2                  2  \n",
        "              2 x 3                      2                2                  2  \n",
        "              2 x 4                     23               23                 23  \n",
        "              2 x 6                     21               21                 21  \n",
        "Strapped_Log  2 x 2                      1                1                  1  \n",
        "\n",
        "[6 rows x 247 columns]"
       ]
      }
     ],
     "prompt_number": 25
    },
    {
     "cell_type": "code",
     "collapsed": false,
     "input": [
      "# Calculates the percentage of each wall type \n",
      "wall_total = wall_analysis['Post_ProjectID'].sum()\n",
      "wall_total = float(wall_total)\n",
      "wall_analysis['Wall_Percentages'] = wall_analysis['Post_ProjectID'].map(lambda x: float(x) / wall_total * 100)\n",
      "wall_analysis['Wall_Percentages']"
     ],
     "language": "python",
     "metadata": {},
     "outputs": [
      {
       "metadata": {},
       "output_type": "pyout",
       "prompt_number": 26,
       "text": [
        "WallType_bed2  Name_bed2\n",
        "Double_Wall    2 x 4         0.775194\n",
        "Single_Stud    2 x 10        1.550388\n",
        "               2 x 3         1.550388\n",
        "               2 x 4        41.860465\n",
        "               2 x 6        53.488372\n",
        "Strapped_Log   2 x 2         0.775194\n",
        "Name: Wall_Percentages, dtype: float64"
       ]
      }
     ],
     "prompt_number": 26
    },
    {
     "cell_type": "code",
     "collapsed": false,
     "input": [],
     "language": "python",
     "metadata": {},
     "outputs": []
    }
   ],
   "metadata": {}
  }
 ]
}