{
 "metadata": {
  "name": ""
 },
 "nbformat": 3,
 "nbformat_minor": 0,
 "worksheets": [
  {
   "cells": [
    {
     "cell_type": "code",
     "collapsed": false,
     "input": [
      "import pandas as pd\n",
      "import numpy as np\n",
      "from random import sample\n",
      "from pandas import *\n",
      "import matplotlib.pyplot as plt\n",
      "\n",
      "%matplotlib inline"
     ],
     "language": "python",
     "metadata": {},
     "outputs": [],
     "prompt_number": 5
    },
    {
     "cell_type": "code",
     "collapsed": false,
     "input": [
      "# This section reads the csv files with the data from the SQL queries for the basic energy data and as-is and post wall data.  \n",
      "# Note that for each file you will have to put in the  correct file pathname.\n",
      "basic_data = pd.read_csv(r\"C:\\Users\\dustin\\Desktop\\SEAR\\statewide_basic_energy_data.csv\", index_col=None, header=0)"
     ],
     "language": "python",
     "metadata": {},
     "outputs": [],
     "prompt_number": 6
    },
    {
     "cell_type": "code",
     "collapsed": false,
     "input": [
      "basic_data['%Wall_Loss'] = basic_data['asis_WallDoor_loss'].div(basic_data['asis_Space_use'], axis='index')\n",
      "basic_data['%Wall_Loss']"
     ],
     "language": "python",
     "metadata": {},
     "outputs": [
      {
       "metadata": {},
       "output_type": "pyout",
       "prompt_number": 7,
       "text": [
        "0     0.158610\n",
        "1     0.232594\n",
        "2     0.393779\n",
        "3     0.165517\n",
        "4     0.151361\n",
        "5     0.275258\n",
        "6     0.152754\n",
        "7     0.180045\n",
        "8     0.204354\n",
        "9     0.218255\n",
        "10    0.218435\n",
        "11    0.267231\n",
        "12    0.331321\n",
        "13    0.369919\n",
        "14    0.234754\n",
        "...\n",
        "25201    0.261498\n",
        "25202    0.209731\n",
        "25203    0.165979\n",
        "25204    0.206714\n",
        "25205    0.189775\n",
        "25206    0.165159\n",
        "25207    0.089575\n",
        "25208    0.195094\n",
        "25209    0.109297\n",
        "25210    0.086806\n",
        "25211    0.239360\n",
        "25212    0.188414\n",
        "25213    0.226737\n",
        "25214    0.161110\n",
        "25215    0.092654\n",
        "Name: %Wall_Loss, Length: 25216, dtype: float64"
       ]
      }
     ],
     "prompt_number": 7
    },
    {
     "cell_type": "code",
     "collapsed": false,
     "input": [
      "basic_data['%airloss'] = basic_data['asis_AirLoss'].div(basic_data['asis_Space_use'], axis='index')\n",
      "basic_data['%airloss']"
     ],
     "language": "python",
     "metadata": {},
     "outputs": [
      {
       "metadata": {},
       "output_type": "pyout",
       "prompt_number": 8,
       "text": [
        "0     0.206612\n",
        "1     0.171287\n",
        "2     0.160517\n",
        "3     0.109732\n",
        "4     0.100203\n",
        "5     0.190554\n",
        "6     0.119633\n",
        "7     0.096419\n",
        "8     0.184314\n",
        "9     0.159716\n",
        "10    0.162898\n",
        "11    0.273038\n",
        "12    0.352730\n",
        "13    0.236290\n",
        "14    0.201418\n",
        "...\n",
        "25201    0.183907\n",
        "25202    0.124474\n",
        "25203    0.303792\n",
        "25204    0.152070\n",
        "25205    0.174940\n",
        "25206    0.276154\n",
        "25207    0.250476\n",
        "25208    0.192127\n",
        "25209    0.288793\n",
        "25210    0.330518\n",
        "25211    0.183262\n",
        "25212    0.167358\n",
        "25213    0.137426\n",
        "25214    0.179855\n",
        "25215    0.376844\n",
        "Name: %airloss, Length: 25216, dtype: float64"
       ]
      }
     ],
     "prompt_number": 8
    },
    {
     "cell_type": "code",
     "collapsed": false,
     "input": [
      "basic_data['%Wall_Loss'].hist()"
     ],
     "language": "python",
     "metadata": {},
     "outputs": [
      {
       "metadata": {},
       "output_type": "pyout",
       "prompt_number": 9,
       "text": [
        "<matplotlib.axes.AxesSubplot at 0x12604320>"
       ]
      },
      {
       "metadata": {},
       "output_type": "display_data",
       "png": "[encoded data removed]",
       "text": [
        "<matplotlib.figure.Figure at 0x12604160>"
       ]
      }
     ],
     "prompt_number": 9
    },
    {
     "cell_type": "code",
     "collapsed": false,
     "input": [
      "basic_data['%airloss'].hist()"
     ],
     "language": "python",
     "metadata": {},
     "outputs": [
      {
       "metadata": {},
       "output_type": "pyout",
       "prompt_number": 10,
       "text": [
        "<matplotlib.axes.AxesSubplot at 0x12629e10>"
       ]
      },
      {
       "metadata": {},
       "output_type": "display_data",
       "png": "[encoded data removed]",
       "text": [
        "<matplotlib.figure.Figure at 0x52c5d30>"
       ]
      }
     ],
     "prompt_number": 10
    },
    {
     "cell_type": "code",
     "collapsed": false,
     "input": [
      "basic_data['%Wall_Loss'].describe()"
     ],
     "language": "python",
     "metadata": {},
     "outputs": [
      {
       "metadata": {},
       "output_type": "pyout",
       "prompt_number": 11,
       "text": [
        "count    2.521600e+04\n",
        "mean     2.299623e-01\n",
        "std      7.579565e-02\n",
        "min     -3.106431e-08\n",
        "25%      1.812543e-01\n",
        "50%      2.242336e-01\n",
        "75%      2.727623e-01\n",
        "max      7.941297e-01\n",
        "dtype: float64"
       ]
      }
     ],
     "prompt_number": 11
    },
    {
     "cell_type": "code",
     "collapsed": false,
     "input": [
      "basic_data['%airloss'].describe()"
     ],
     "language": "python",
     "metadata": {},
     "outputs": [
      {
       "metadata": {},
       "output_type": "pyout",
       "prompt_number": 12,
       "text": [
        "count    2.521600e+04\n",
        "mean     1.824423e-01\n",
        "std      6.599879e-02\n",
        "min     -1.257481e-08\n",
        "25%      1.384078e-01\n",
        "50%      1.729808e-01\n",
        "75%      2.170724e-01\n",
        "max      7.915947e-01\n",
        "dtype: float64"
       ]
      }
     ],
     "prompt_number": 12
    },
    {
     "cell_type": "code",
     "collapsed": false,
     "input": [
      "basic_data['wall&airloss'] = basic_data['%airloss'] + basic_data['%Wall_Loss']\n",
      "basic_data['wall&airloss'].describe()"
     ],
     "language": "python",
     "metadata": {},
     "outputs": [
      {
       "metadata": {},
       "output_type": "pyout",
       "prompt_number": 13,
       "text": [
        "count    2.521600e+04\n",
        "mean     4.124046e-01\n",
        "std      9.999625e-02\n",
        "min     -4.363912e-08\n",
        "25%      3.548102e-01\n",
        "50%      4.092419e-01\n",
        "75%      4.729475e-01\n",
        "max      1.585724e+00\n",
        "dtype: float64"
       ]
      }
     ],
     "prompt_number": 13
    },
    {
     "cell_type": "code",
     "collapsed": false,
     "input": [
      "basic_data['wall&airloss'].hist()"
     ],
     "language": "python",
     "metadata": {},
     "outputs": [
      {
       "metadata": {},
       "output_type": "pyout",
       "prompt_number": 14,
       "text": [
        "<matplotlib.axes.AxesSubplot at 0x117cc080>"
       ]
      },
      {
       "metadata": {},
       "output_type": "display_data",
       "png": "[encoded data removed]",
       "text": [
        "<matplotlib.figure.Figure at 0x1123eeb8>"
       ]
      }
     ],
     "prompt_number": 14
    }
   ],
   "metadata": {}
  }
 ]
}