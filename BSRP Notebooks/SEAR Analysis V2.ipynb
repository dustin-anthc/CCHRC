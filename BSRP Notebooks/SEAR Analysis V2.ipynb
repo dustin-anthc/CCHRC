{
 "cells": [
  {
   "cell_type": "code",
   "execution_count": 50,
   "metadata": {
    "collapsed": false
   },
   "outputs": [],
   "source": [
    "import pandas as pd\n",
    "import numpy as np\n",
    "from random import sample\n",
    "from pandas import *\n",
    "import matplotlib.pyplot as plt\n",
    "\n",
    "%matplotlib inline"
   ]
  },
  {
   "cell_type": "code",
   "execution_count": 51,
   "metadata": {
    "collapsed": false
   },
   "outputs": [],
   "source": [
    "# This section reads the csv files with the data from the SQL queries for the basic energy data and as-is and post wall data.  \n",
    "# Note that for each file you will have to put in the  correct file pathname.\n",
    "basic_data = pd.read_csv(r\"C:\\Users\\dustin\\Desktop\\SEAR\\calista_basic_energy_data.csv\", index_col=None, header=0)\n",
    "as_is_wall_data = pd.read_csv(r\"C:\\Users\\dustin\\Desktop\\SEAR\\calista_asis_wall_data.csv\", index_col=None, header=0)\n",
    "post_wall_data = pd.read_csv(r\"C:\\Users\\dustin\\Desktop\\SEAR\\calista_post_wall_data.csv\", index_col=None, header=0)"
   ]
  },
  {
   "cell_type": "code",
   "execution_count": 52,
   "metadata": {
    "collapsed": false
   },
   "outputs": [],
   "source": [
    "# This section changes the name of the project ID column in the post wall data so it can be joined w/ basic energy data\n",
    "new_columns = post_wall_data.columns.values;\n",
    "new_columns[1] = 'Post_ProjectID'\n",
    "post_wall_data.columns = new_columns"
   ]
  },
  {
   "cell_type": "code",
   "execution_count": 53,
   "metadata": {
    "collapsed": false
   },
   "outputs": [],
   "source": [
    "# This section changes the name of the project id column in the As-Is wall data so it can be joined with the basic energy data\n",
    "new_asis_columns = as_is_wall_data.columns.values;\n",
    "new_asis_columns[1] = 'Asis_ProjectID'\n",
    "as_is_wall_data.columns = new_asis_columns"
   ]
  },
  {
   "cell_type": "code",
   "execution_count": 54,
   "metadata": {
    "collapsed": false
   },
   "outputs": [],
   "source": [
    "# This section appends the post wall data to the basic data\n",
    "combined_data = merge(basic_data, post_wall_data, how='left', on=\"Post_ProjectID\", sort=False, suffixes=('_bed', '_post'))"
   ]
  },
  {
   "cell_type": "code",
   "execution_count": 55,
   "metadata": {
    "collapsed": false
   },
   "outputs": [],
   "source": [
    "# Sorts the data so the largest wall component is first in the list, and then groups the data by project ID so there is only one wall\n",
    "# component per ProjectID.\n",
    "combined_data = combined_data.sort(['Post_ProjectID', 'GrossArea'], ascending=[True, False])\n",
    "combined_data = combined_data.groupby('Post_ProjectID', as_index=False).first()\n",
    "# combined_data.to_excel(\"Z_Test.xlsx\", sheet_name=\"Post_Test\")"
   ]
  },
  {
   "cell_type": "code",
   "execution_count": 56,
   "metadata": {
    "collapsed": false
   },
   "outputs": [],
   "source": [
    "# This section appends the as is wall data to the basic energy and post wall data. \n",
    "combined_data = merge(combined_data, as_is_wall_data, how='left', on=\"Asis_ProjectID\", sort=False, suffixes=('_bed2', '_asis'))"
   ]
  },
  {
   "cell_type": "code",
   "execution_count": 57,
   "metadata": {
    "collapsed": false
   },
   "outputs": [],
   "source": [
    "# This section just lists the columns so they can be referenced\n",
    "# list(combined_data.columns.values)"
   ]
  },
  {
   "cell_type": "code",
   "execution_count": 58,
   "metadata": {
    "collapsed": false
   },
   "outputs": [],
   "source": [
    "# Sorts the data so the largest wall component is first in the list, and then groups the data by project ID so there is only one wall\n",
    "# component per As-Is ProjectID.\n",
    "combined_data = combined_data.sort(['Asis_ProjectID', 'GrossArea_asis'], ascending=[True, False])\n",
    "combined_data = combined_data.groupby('Asis_ProjectID', as_index=False).first()\n",
    "# combined_data.to_excel(\"ZZ_Test.xlsx\", sheet_name=\"Asis_Test\")"
   ]
  },
  {
   "cell_type": "code",
   "execution_count": 59,
   "metadata": {
    "collapsed": false
   },
   "outputs": [],
   "source": [
    "# This section changes the name of the column because when something is labeled with a '.' like TypeID.2 it doesn't work.\n",
    "change_columns = combined_data.columns.values;\n",
    "change_columns[242] = 'asis_type_id'\n",
    "combined_data.columns = change_columns"
   ]
  },
  {
   "cell_type": "code",
   "execution_count": 61,
   "metadata": {
    "collapsed": false
   },
   "outputs": [],
   "source": [
    "change_columns = combined_data.columns.values\n",
    "change_columns[175] = 'post_type_id'\n",
    "combined_data.columns = change_columns"
   ]
  },
  {
   "cell_type": "code",
   "execution_count": 62,
   "metadata": {
    "collapsed": false
   },
   "outputs": [],
   "source": [
    "# This section selects only the ratings which did not have sheathing in the As-Is file but do have sheathing in the Post file,\n",
    "# indicating a sheathing retrofit was performed.\n",
    "sheathing_retrofits = combined_data.query(\"asis_type_id != 14 and post_type_id == 14\")"
   ]
  },
  {
   "cell_type": "code",
   "execution_count": 63,
   "metadata": {
    "collapsed": false
   },
   "outputs": [
    {
     "name": "stdout",
     "output_type": "stream",
     "text": [
      "Of approximately 636 retrofits analyzed, 217 added insulative sheathing.\n"
     ]
    }
   ],
   "source": [
    "# This is the number of sheathing retrofits that have been performed in this region. \n",
    "sheathed_retro = len(sheathing_retrofits.index)\n",
    "retrofits = len(combined_data.index)\n",
    "print \"Of approximately %d retrofits analyzed, %d added insulative sheathing.\" % (retrofits, sheathed_retro)"
   ]
  },
  {
   "cell_type": "code",
   "execution_count": 64,
   "metadata": {
    "collapsed": false
   },
   "outputs": [],
   "source": [
    "# Delete the pound sign below to print a test Excel file for checking if necessary\n",
    "# sheathing_retrofits.to_excel(\"Sheating_retrofits_test.xlsx\", sheet_name=\"Test\")"
   ]
  },
  {
   "cell_type": "code",
   "execution_count": 65,
   "metadata": {
    "collapsed": false
   },
   "outputs": [],
   "source": [
    "# This section changes the column name to avoid the '.2' column naming problem\n",
    "change_columns = sheathing_retrofits.columns.values;\n",
    "change_columns[164] = 'sheathing_thickness'\n",
    "sheathing_retrofits.columns = change_columns"
   ]
  },
  {
   "cell_type": "code",
   "execution_count": 66,
   "metadata": {
    "collapsed": false
   },
   "outputs": [
    {
     "name": "stdout",
     "output_type": "stream",
     "text": [
      "98.617512 percent of homes with sheathing retrofits added less than 2 in. of insulation.\n"
     ]
    }
   ],
   "source": [
    "# This section calculates the percentage of sheathing retrofits that added less than 2\" of sheathing\n",
    "little_sheathing = sheathing_retrofits.query(\"sheathing_thickness <= 2\")\n",
    "percent_less_two = float(len(little_sheathing.index)) / float(len(sheathing_retrofits.index)) * 100\n",
    "print \"%f percent of homes with sheathing retrofits added less than 2 in. of insulation.\" % percent_less_two"
   ]
  },
  {
   "cell_type": "code",
   "execution_count": 67,
   "metadata": {
    "collapsed": false
   },
   "outputs": [],
   "source": [
    "# Just a check\n",
    "# sheathing_retrofits['sheathing_thickness']"
   ]
  },
  {
   "cell_type": "code",
   "execution_count": 68,
   "metadata": {
    "collapsed": false
   },
   "outputs": [
    {
     "data": {
      "text/plain": [
       "1     0.257769\n",
       "2     0.250345\n",
       "3     0.250345\n",
       "4     0.395089\n",
       "5     0.250345\n",
       "6     0.232046\n",
       "8     0.464149\n",
       "10    0.305960\n",
       "12    0.284733\n",
       "15    0.327031\n",
       "16    0.257729\n",
       "17    0.339276\n",
       "18    0.339276\n",
       "25    0.314342\n",
       "26    0.339276\n",
       "...\n",
       "552    0.374861\n",
       "553    0.504865\n",
       "554    0.385410\n",
       "556    0.369153\n",
       "559    0.366140\n",
       "563    0.374861\n",
       "564    0.650638\n",
       "565    0.302624\n",
       "568    0.374861\n",
       "569    0.394591\n",
       "570    0.395089\n",
       "571    0.366140\n",
       "584    0.423982\n",
       "607    0.423982\n",
       "609    0.423982\n",
       "Name: sheath_rval_ratio, Length: 217, dtype: float64"
      ]
     },
     "execution_count": 68,
     "metadata": {},
     "output_type": "execute_result"
    }
   ],
   "source": [
    "# This section calculates the ratio of sheathing R-value to total wall R-value for each row\n",
    "sheathing_retrofits['sheath_rval_ratio'] = np.where(sheathing_retrofits['BattThickness_bed2'].isnull(), \n",
    "                                                    sheathing_retrofits['nominalRval_bed2'] * sheathing_retrofits['sheathing_thickness'] \n",
    "                                                    / sheathing_retrofits['Comp1R_bed2'], \n",
    "                                                    sheathing_retrofits['nominalRval_bed2'] / sheathing_retrofits['Comp1R_bed2'])\n",
    "sheathing_retrofits['sheath_rval_ratio']\n",
    "                                                    "
   ]
  },
  {
   "cell_type": "code",
   "execution_count": 69,
   "metadata": {
    "collapsed": false
   },
   "outputs": [],
   "source": [
    "# sheathing_retrofits.to_excel(\"Sheating_retrofits_test3.xlsx\", sheet_name=\"Test\")"
   ]
  },
  {
   "cell_type": "code",
   "execution_count": 70,
   "metadata": {
    "collapsed": false
   },
   "outputs": [
    {
     "name": "stdout",
     "output_type": "stream",
     "text": [
      "The median sheathing r-value ratio in homes with a sheathing retrofit is: 33.927614 percent sheathing insulation\n",
      "and 66.072386 percent cavity insulation\n"
     ]
    }
   ],
   "source": [
    "sheathing = sheathing_retrofits['sheath_rval_ratio'].median() * 100\n",
    "cavity = 100 - sheathing\n",
    "print \"The median sheathing r-value ratio in homes with a sheathing retrofit is: %f percent sheathing insulation\" % sheathing\n",
    "print \"and %f percent cavity insulation\" % cavity"
   ]
  },
  {
   "cell_type": "code",
   "execution_count": 71,
   "metadata": {
    "collapsed": false
   },
   "outputs": [
    {
     "name": "stdout",
     "output_type": "stream",
     "text": [
      "The percentage of homes with a sheathing retrofit that also added mechanical ventilation is 85.714286.\n"
     ]
    }
   ],
   "source": [
    "add_sheath_add_vent = sheathing_retrofits.query(\"asis_VentType == 'None'\")\n",
    "add_sheath_add_vent = add_sheath_add_vent.query(\"post_VentType == 'HRV' or post_VentType == 'Mechancial_with_no_Heat_Recovery'\")\n",
    "add_sheath_add_vent_percent = float(len(add_sheath_add_vent.index)) / float(len(sheathing_retrofits.index)) * 100\n",
    "add_sheath_no_vent_percent = 100 - add_sheath_add_vent_percent\n",
    "print \"The percentage of homes with a sheathing retrofit that also added mechanical ventilation is %f.\" % add_sheath_add_vent_percent"
   ]
  },
  {
   "cell_type": "code",
   "execution_count": 72,
   "metadata": {
    "collapsed": false
   },
   "outputs": [
    {
     "name": "stdout",
     "output_type": "stream",
     "text": [
      "The other 14.285714 percent of retrofits without continuous mechanical ventilation became more air-tight: 11.449657 --> 6.958659 ACH50\n"
     ]
    }
   ],
   "source": [
    "retrofit_no_vent = sheathing_retrofits.query(\"post_VentType == 'None'\")\n",
    "asis = retrofit_no_vent['asis_ACH50'].mean()\n",
    "post = retrofit_no_vent['post_ACH50'].mean()\n",
    "print \"The other %f percent of retrofits without continuous mechanical ventilation became more air-tight: %f --> %f ACH50\" % (add_sheath_no_vent_percent, asis, post)"
   ]
  },
  {
   "cell_type": "code",
   "execution_count": 73,
   "metadata": {
    "collapsed": false
   },
   "outputs": [],
   "source": [
    "# list(combined_data.columns.values)"
   ]
  },
  {
   "cell_type": "code",
   "execution_count": 74,
   "metadata": {
    "collapsed": false
   },
   "outputs": [
    {
     "data": {
      "text/html": [
       "<div style=\"max-height:1000px;max-width:1500px;overflow:auto;\">\n",
       "<table border=\"1\" class=\"dataframe\">\n",
       "  <thead>\n",
       "    <tr style=\"text-align: right;\">\n",
       "      <th></th>\n",
       "      <th></th>\n",
       "      <th>Asis_ProjectID</th>\n",
       "      <th>Post_ProjectID</th>\n",
       "      <th>LocationID_bed</th>\n",
       "      <th>asis_address</th>\n",
       "      <th>asis_city</th>\n",
       "      <th>RatingType</th>\n",
       "      <th>YearBuilt</th>\n",
       "      <th>asis_AirLoss</th>\n",
       "      <th>post_AirLoss</th>\n",
       "      <th>asis_Applicances_loss</th>\n",
       "      <th>...</th>\n",
       "      <th>Name.1_asis</th>\n",
       "      <th>BattThickness_asis</th>\n",
       "      <th>nominalRval_asis</th>\n",
       "      <th>asis_type_id</th>\n",
       "      <th>Message_asis</th>\n",
       "      <th>Description_asis</th>\n",
       "      <th>CreateBy.1_asis</th>\n",
       "      <th>CreateDate.1_asis</th>\n",
       "      <th>UpdateBy.1_asis</th>\n",
       "      <th>UpdateDate.1_asis</th>\n",
       "    </tr>\n",
       "    <tr>\n",
       "      <th>WallType_bed2</th>\n",
       "      <th>Name_bed2</th>\n",
       "      <th></th>\n",
       "      <th></th>\n",
       "      <th></th>\n",
       "      <th></th>\n",
       "      <th></th>\n",
       "      <th></th>\n",
       "      <th></th>\n",
       "      <th></th>\n",
       "      <th></th>\n",
       "      <th></th>\n",
       "      <th></th>\n",
       "      <th></th>\n",
       "      <th></th>\n",
       "      <th></th>\n",
       "      <th></th>\n",
       "      <th></th>\n",
       "      <th></th>\n",
       "      <th></th>\n",
       "      <th></th>\n",
       "      <th></th>\n",
       "      <th></th>\n",
       "    </tr>\n",
       "  </thead>\n",
       "  <tbody>\n",
       "    <tr>\n",
       "      <th rowspan=\"5\" valign=\"top\">Single_Stud</th>\n",
       "      <th>2 x 2</th>\n",
       "      <td>   1</td>\n",
       "      <td>   1</td>\n",
       "      <td>   1</td>\n",
       "      <td>   1</td>\n",
       "      <td>   1</td>\n",
       "      <td>   1</td>\n",
       "      <td>   1</td>\n",
       "      <td>   1</td>\n",
       "      <td>   1</td>\n",
       "      <td>   1</td>\n",
       "      <td>...</td>\n",
       "      <td>  0</td>\n",
       "      <td> 0</td>\n",
       "      <td>  0</td>\n",
       "      <td>  0</td>\n",
       "      <td>  0</td>\n",
       "      <td>  0</td>\n",
       "      <td>  0</td>\n",
       "      <td>  0</td>\n",
       "      <td>  0</td>\n",
       "      <td>  0</td>\n",
       "    </tr>\n",
       "    <tr>\n",
       "      <th>2 x 3</th>\n",
       "      <td>   1</td>\n",
       "      <td>   1</td>\n",
       "      <td>   1</td>\n",
       "      <td>   1</td>\n",
       "      <td>   1</td>\n",
       "      <td>   1</td>\n",
       "      <td>   1</td>\n",
       "      <td>   1</td>\n",
       "      <td>   1</td>\n",
       "      <td>   1</td>\n",
       "      <td>...</td>\n",
       "      <td>  0</td>\n",
       "      <td> 0</td>\n",
       "      <td>  0</td>\n",
       "      <td>  0</td>\n",
       "      <td>  0</td>\n",
       "      <td>  0</td>\n",
       "      <td>  0</td>\n",
       "      <td>  0</td>\n",
       "      <td>  0</td>\n",
       "      <td>  0</td>\n",
       "    </tr>\n",
       "    <tr>\n",
       "      <th>2 x 4</th>\n",
       "      <td> 179</td>\n",
       "      <td> 179</td>\n",
       "      <td> 179</td>\n",
       "      <td> 179</td>\n",
       "      <td> 179</td>\n",
       "      <td> 179</td>\n",
       "      <td> 179</td>\n",
       "      <td> 179</td>\n",
       "      <td> 179</td>\n",
       "      <td> 179</td>\n",
       "      <td>...</td>\n",
       "      <td> 36</td>\n",
       "      <td> 1</td>\n",
       "      <td> 36</td>\n",
       "      <td> 36</td>\n",
       "      <td> 36</td>\n",
       "      <td> 36</td>\n",
       "      <td> 36</td>\n",
       "      <td> 36</td>\n",
       "      <td> 36</td>\n",
       "      <td> 36</td>\n",
       "    </tr>\n",
       "    <tr>\n",
       "      <th>2 x 6</th>\n",
       "      <td> 133</td>\n",
       "      <td> 133</td>\n",
       "      <td> 133</td>\n",
       "      <td> 133</td>\n",
       "      <td> 133</td>\n",
       "      <td> 133</td>\n",
       "      <td> 133</td>\n",
       "      <td> 133</td>\n",
       "      <td> 133</td>\n",
       "      <td> 133</td>\n",
       "      <td>...</td>\n",
       "      <td> 63</td>\n",
       "      <td> 1</td>\n",
       "      <td> 63</td>\n",
       "      <td> 63</td>\n",
       "      <td> 63</td>\n",
       "      <td> 63</td>\n",
       "      <td> 63</td>\n",
       "      <td> 63</td>\n",
       "      <td> 63</td>\n",
       "      <td> 63</td>\n",
       "    </tr>\n",
       "    <tr>\n",
       "      <th>2 x 8</th>\n",
       "      <td>  13</td>\n",
       "      <td>  13</td>\n",
       "      <td>  13</td>\n",
       "      <td>  13</td>\n",
       "      <td>  13</td>\n",
       "      <td>  13</td>\n",
       "      <td>  13</td>\n",
       "      <td>  13</td>\n",
       "      <td>  13</td>\n",
       "      <td>  13</td>\n",
       "      <td>...</td>\n",
       "      <td> 12</td>\n",
       "      <td> 0</td>\n",
       "      <td> 12</td>\n",
       "      <td> 12</td>\n",
       "      <td> 12</td>\n",
       "      <td> 12</td>\n",
       "      <td> 12</td>\n",
       "      <td> 12</td>\n",
       "      <td> 12</td>\n",
       "      <td> 12</td>\n",
       "    </tr>\n",
       "    <tr>\n",
       "      <th rowspan=\"2\" valign=\"top\">Strapped_Log</th>\n",
       "      <th>2 x 2</th>\n",
       "      <td>   1</td>\n",
       "      <td>   1</td>\n",
       "      <td>   1</td>\n",
       "      <td>   1</td>\n",
       "      <td>   1</td>\n",
       "      <td>   1</td>\n",
       "      <td>   1</td>\n",
       "      <td>   1</td>\n",
       "      <td>   1</td>\n",
       "      <td>   1</td>\n",
       "      <td>...</td>\n",
       "      <td>  1</td>\n",
       "      <td> 1</td>\n",
       "      <td>  1</td>\n",
       "      <td>  1</td>\n",
       "      <td>  1</td>\n",
       "      <td>  1</td>\n",
       "      <td>  1</td>\n",
       "      <td>  1</td>\n",
       "      <td>  1</td>\n",
       "      <td>  1</td>\n",
       "    </tr>\n",
       "    <tr>\n",
       "      <th>2 x 3</th>\n",
       "      <td>   1</td>\n",
       "      <td>   1</td>\n",
       "      <td>   1</td>\n",
       "      <td>   1</td>\n",
       "      <td>   1</td>\n",
       "      <td>   1</td>\n",
       "      <td>   1</td>\n",
       "      <td>   1</td>\n",
       "      <td>   1</td>\n",
       "      <td>   1</td>\n",
       "      <td>...</td>\n",
       "      <td>  1</td>\n",
       "      <td> 0</td>\n",
       "      <td>  1</td>\n",
       "      <td>  1</td>\n",
       "      <td>  1</td>\n",
       "      <td>  1</td>\n",
       "      <td>  1</td>\n",
       "      <td>  1</td>\n",
       "      <td>  1</td>\n",
       "      <td>  1</td>\n",
       "    </tr>\n",
       "    <tr>\n",
       "      <th>Strapped_Stud</th>\n",
       "      <th>2 x 3</th>\n",
       "      <td>   1</td>\n",
       "      <td>   1</td>\n",
       "      <td>   1</td>\n",
       "      <td>   1</td>\n",
       "      <td>   1</td>\n",
       "      <td>   1</td>\n",
       "      <td>   1</td>\n",
       "      <td>   1</td>\n",
       "      <td>   1</td>\n",
       "      <td>   1</td>\n",
       "      <td>...</td>\n",
       "      <td>  1</td>\n",
       "      <td> 0</td>\n",
       "      <td>  1</td>\n",
       "      <td>  1</td>\n",
       "      <td>  1</td>\n",
       "      <td>  1</td>\n",
       "      <td>  1</td>\n",
       "      <td>  1</td>\n",
       "      <td>  1</td>\n",
       "      <td>  1</td>\n",
       "    </tr>\n",
       "    <tr>\n",
       "      <th rowspan=\"2\" valign=\"top\">Stressed_Skin_Panel</th>\n",
       "      <th>2 x 6</th>\n",
       "      <td>   3</td>\n",
       "      <td>   3</td>\n",
       "      <td>   3</td>\n",
       "      <td>   3</td>\n",
       "      <td>   3</td>\n",
       "      <td>   3</td>\n",
       "      <td>   3</td>\n",
       "      <td>   3</td>\n",
       "      <td>   3</td>\n",
       "      <td>   3</td>\n",
       "      <td>...</td>\n",
       "      <td>  3</td>\n",
       "      <td> 0</td>\n",
       "      <td>  3</td>\n",
       "      <td>  3</td>\n",
       "      <td>  3</td>\n",
       "      <td>  3</td>\n",
       "      <td>  3</td>\n",
       "      <td>  3</td>\n",
       "      <td>  3</td>\n",
       "      <td>  3</td>\n",
       "    </tr>\n",
       "    <tr>\n",
       "      <th>2 x 8</th>\n",
       "      <td>   1</td>\n",
       "      <td>   1</td>\n",
       "      <td>   1</td>\n",
       "      <td>   1</td>\n",
       "      <td>   1</td>\n",
       "      <td>   1</td>\n",
       "      <td>   1</td>\n",
       "      <td>   1</td>\n",
       "      <td>   1</td>\n",
       "      <td>   1</td>\n",
       "      <td>...</td>\n",
       "      <td>  1</td>\n",
       "      <td> 0</td>\n",
       "      <td>  1</td>\n",
       "      <td>  1</td>\n",
       "      <td>  1</td>\n",
       "      <td>  1</td>\n",
       "      <td>  1</td>\n",
       "      <td>  1</td>\n",
       "      <td>  1</td>\n",
       "      <td>  1</td>\n",
       "    </tr>\n",
       "  </tbody>\n",
       "</table>\n",
       "<p>10 rows × 247 columns</p>\n",
       "</div>"
      ],
      "text/plain": [
       "                               Asis_ProjectID  Post_ProjectID  LocationID_bed  \\\n",
       "WallType_bed2       Name_bed2                                                   \n",
       "Single_Stud         2 x 2                   1               1               1   \n",
       "                    2 x 3                   1               1               1   \n",
       "                    2 x 4                 179             179             179   \n",
       "                    2 x 6                 133             133             133   \n",
       "                    2 x 8                  13              13              13   \n",
       "Strapped_Log        2 x 2                   1               1               1   \n",
       "                    2 x 3                   1               1               1   \n",
       "Strapped_Stud       2 x 3                   1               1               1   \n",
       "Stressed_Skin_Panel 2 x 6                   3               3               3   \n",
       "                    2 x 8                   1               1               1   \n",
       "\n",
       "                               asis_address  asis_city  RatingType  YearBuilt  \\\n",
       "WallType_bed2       Name_bed2                                                   \n",
       "Single_Stud         2 x 2                 1          1           1          1   \n",
       "                    2 x 3                 1          1           1          1   \n",
       "                    2 x 4               179        179         179        179   \n",
       "                    2 x 6               133        133         133        133   \n",
       "                    2 x 8                13         13          13         13   \n",
       "Strapped_Log        2 x 2                 1          1           1          1   \n",
       "                    2 x 3                 1          1           1          1   \n",
       "Strapped_Stud       2 x 3                 1          1           1          1   \n",
       "Stressed_Skin_Panel 2 x 6                 3          3           3          3   \n",
       "                    2 x 8                 1          1           1          1   \n",
       "\n",
       "                               asis_AirLoss  post_AirLoss  \\\n",
       "WallType_bed2       Name_bed2                               \n",
       "Single_Stud         2 x 2                 1             1   \n",
       "                    2 x 3                 1             1   \n",
       "                    2 x 4               179           179   \n",
       "                    2 x 6               133           133   \n",
       "                    2 x 8                13            13   \n",
       "Strapped_Log        2 x 2                 1             1   \n",
       "                    2 x 3                 1             1   \n",
       "Strapped_Stud       2 x 3                 1             1   \n",
       "Stressed_Skin_Panel 2 x 6                 3             3   \n",
       "                    2 x 8                 1             1   \n",
       "\n",
       "                               asis_Applicances_loss          ...            \\\n",
       "WallType_bed2       Name_bed2                                 ...             \n",
       "Single_Stud         2 x 2                          1          ...             \n",
       "                    2 x 3                          1          ...             \n",
       "                    2 x 4                        179          ...             \n",
       "                    2 x 6                        133          ...             \n",
       "                    2 x 8                         13          ...             \n",
       "Strapped_Log        2 x 2                          1          ...             \n",
       "                    2 x 3                          1          ...             \n",
       "Strapped_Stud       2 x 3                          1          ...             \n",
       "Stressed_Skin_Panel 2 x 6                          3          ...             \n",
       "                    2 x 8                          1          ...             \n",
       "\n",
       "                               Name.1_asis  BattThickness_asis  \\\n",
       "WallType_bed2       Name_bed2                                    \n",
       "Single_Stud         2 x 2                0                   0   \n",
       "                    2 x 3                0                   0   \n",
       "                    2 x 4               36                   1   \n",
       "                    2 x 6               63                   1   \n",
       "                    2 x 8               12                   0   \n",
       "Strapped_Log        2 x 2                1                   1   \n",
       "                    2 x 3                1                   0   \n",
       "Strapped_Stud       2 x 3                1                   0   \n",
       "Stressed_Skin_Panel 2 x 6                3                   0   \n",
       "                    2 x 8                1                   0   \n",
       "\n",
       "                               nominalRval_asis  asis_type_id  Message_asis  \\\n",
       "WallType_bed2       Name_bed2                                                 \n",
       "Single_Stud         2 x 2                     0             0             0   \n",
       "                    2 x 3                     0             0             0   \n",
       "                    2 x 4                    36            36            36   \n",
       "                    2 x 6                    63            63            63   \n",
       "                    2 x 8                    12            12            12   \n",
       "Strapped_Log        2 x 2                     1             1             1   \n",
       "                    2 x 3                     1             1             1   \n",
       "Strapped_Stud       2 x 3                     1             1             1   \n",
       "Stressed_Skin_Panel 2 x 6                     3             3             3   \n",
       "                    2 x 8                     1             1             1   \n",
       "\n",
       "                               Description_asis  CreateBy.1_asis  \\\n",
       "WallType_bed2       Name_bed2                                      \n",
       "Single_Stud         2 x 2                     0                0   \n",
       "                    2 x 3                     0                0   \n",
       "                    2 x 4                    36               36   \n",
       "                    2 x 6                    63               63   \n",
       "                    2 x 8                    12               12   \n",
       "Strapped_Log        2 x 2                     1                1   \n",
       "                    2 x 3                     1                1   \n",
       "Strapped_Stud       2 x 3                     1                1   \n",
       "Stressed_Skin_Panel 2 x 6                     3                3   \n",
       "                    2 x 8                     1                1   \n",
       "\n",
       "                               CreateDate.1_asis  UpdateBy.1_asis  \\\n",
       "WallType_bed2       Name_bed2                                       \n",
       "Single_Stud         2 x 2                      0                0   \n",
       "                    2 x 3                      0                0   \n",
       "                    2 x 4                     36               36   \n",
       "                    2 x 6                     63               63   \n",
       "                    2 x 8                     12               12   \n",
       "Strapped_Log        2 x 2                      1                1   \n",
       "                    2 x 3                      1                1   \n",
       "Strapped_Stud       2 x 3                      1                1   \n",
       "Stressed_Skin_Panel 2 x 6                      3                3   \n",
       "                    2 x 8                      1                1   \n",
       "\n",
       "                               UpdateDate.1_asis  \n",
       "WallType_bed2       Name_bed2                     \n",
       "Single_Stud         2 x 2                      0  \n",
       "                    2 x 3                      0  \n",
       "                    2 x 4                     36  \n",
       "                    2 x 6                     63  \n",
       "                    2 x 8                     12  \n",
       "Strapped_Log        2 x 2                      1  \n",
       "                    2 x 3                      1  \n",
       "Strapped_Stud       2 x 3                      1  \n",
       "Stressed_Skin_Panel 2 x 6                      3  \n",
       "                    2 x 8                      1  \n",
       "\n",
       "[10 rows x 247 columns]"
      ]
     },
     "execution_count": 74,
     "metadata": {},
     "output_type": "execute_result"
    }
   ],
   "source": [
    "# Groups the data by the wwall's framing type and lumber dimensions\n",
    "wall_analysis = combined_data.groupby(['WallType_bed2', 'Name_bed2']).count()\n",
    "wall_analysis                               "
   ]
  },
  {
   "cell_type": "code",
   "execution_count": 75,
   "metadata": {
    "collapsed": false
   },
   "outputs": [
    {
     "data": {
      "text/plain": [
       "WallType_bed2        Name_bed2\n",
       "Single_Stud          2 x 2         0.299401\n",
       "                     2 x 3         0.299401\n",
       "                     2 x 4        53.592814\n",
       "                     2 x 6        39.820359\n",
       "                     2 x 8         3.892216\n",
       "Strapped_Log         2 x 2         0.299401\n",
       "                     2 x 3         0.299401\n",
       "Strapped_Stud        2 x 3         0.299401\n",
       "Stressed_Skin_Panel  2 x 6         0.898204\n",
       "                     2 x 8         0.299401\n",
       "Name: Wall_Percentages, dtype: float64"
      ]
     },
     "execution_count": 75,
     "metadata": {},
     "output_type": "execute_result"
    }
   ],
   "source": [
    "# Calculates the percentage of each wall type \n",
    "wall_total = wall_analysis['Post_ProjectID'].sum()\n",
    "wall_total = float(wall_total)\n",
    "wall_analysis['Wall_Percentages'] = wall_analysis['Post_ProjectID'].map(lambda x: float(x) / wall_total * 100)\n",
    "wall_analysis['Wall_Percentages']"
   ]
  },
  {
   "cell_type": "code",
   "execution_count": null,
   "metadata": {
    "collapsed": false
   },
   "outputs": [],
   "source": []
  }
 ],
 "metadata": {
  "kernelspec": {
   "display_name": "Python 2",
   "language": "python",
   "name": "python2"
  },
  "language_info": {
   "codemirror_mode": {
    "name": "ipython",
    "version": 2
   },
   "file_extension": ".py",
   "mimetype": "text/x-python",
   "name": "python",
   "nbconvert_exporter": "python",
   "pygments_lexer": "ipython2",
   "version": "2.7.6"
  }
 },
 "nbformat": 4,
 "nbformat_minor": 0
}
