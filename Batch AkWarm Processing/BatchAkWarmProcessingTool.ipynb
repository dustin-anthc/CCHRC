{
 "cells": [
  {
   "cell_type": "code",
   "execution_count": 5,
   "metadata": {
    "collapsed": true
   },
   "outputs": [],
   "source": [
    "import os\n",
    "import subprocess\n",
    "from lxml import etree\n",
    "import csv"
   ]
  },
  {
   "cell_type": "code",
   "execution_count": 6,
   "metadata": {
    "collapsed": true
   },
   "outputs": [],
   "source": [
    "AkWarmExe = r'C:\\Program Files (x86)\\AHFC\\AkWarm\\AkWarmCL.exe'\n",
    "inputDirectory = r'C:\\Users\\dustin\\Dropbox\\AKWarm Documentation\\02. Work\\02. Task X - Build AKWarm Rating Comparison Tool\\Randomly Sampled Files\\Small Sample File Set'\n",
    "outputDirectory = r'C:\\Users\\dustin\\Dropbox\\AKWarm Documentation\\02. Work\\02. Task X - Build AKWarm Rating Comparison Tool\\Randomly Sampled Files\\OutputXML'\n",
    "libraryToUse = 'BestMatch'  # valid choices are Newest, BestMatch, or a filename"
   ]
  },
  {
   "cell_type": "code",
   "execution_count": 7,
   "metadata": {
    "collapsed": true
   },
   "outputs": [],
   "source": [
    "class CalculationResults(object):\n",
    "\n",
    "    def __init__(self, filename):\n",
    "        self.filename = os.path.basename(filename)\n",
    "        input_file = filename\n",
    "        output_file = os.path.join(outputDirectory, os.path.splitext(self.filename)[1] + '.xml')\n",
    "        self.exitCode = subprocess.call([AkWarmExe, input_file, output_file, libraryToUse])\n",
    "        if self.exitCode in [0, 1, 2]:\n",
    "            try:\n",
    "                self.tree = etree.parse(output_file)\n",
    "            except:\n",
    "                self.tree = None\n",
    "        else:\n",
    "            self.tree = None\n",
    "\n",
    "    @staticmethod\n",
    "    def as_keys():\n",
    "        return ['FileName',\n",
    "                'Result',\n",
    "                'RatingPoints',\n",
    "                'EnergyCost',\n",
    "                'ElectricUse']\n",
    "\n",
    "    def as_dict(self):\n",
    "        return {'FileName': self.filename,\n",
    "                'Result': self.exit_code_text(),\n",
    "                'RatingPoints': self.rating_points(),\n",
    "                'EnergyCost': self.energy_cost(),\n",
    "                'ElectricUse': self.electric_use()}\n",
    "\n",
    "    def exit_code_text(self):\n",
    "        exit_code_lookup = {0: 'Success',\n",
    "                            1: 'CalculatedWithValidationErrors',\n",
    "                            2: 'CalculatedWithValidationWarnings',\n",
    "                            10: 'CalculationError',\n",
    "                            20: 'InvalidInputFile',\n",
    "                            21: 'InvalidLibrary',\n",
    "                            22: 'ErrorCreatingOutputFile',\n",
    "                            29: 'OtherProcessingError'}\n",
    "        if self.exitCode in exit_code_lookup:\n",
    "            return exit_code_lookup[self.exitCode]\n",
    "        else:\n",
    "            return self.exitCode\n",
    "\n",
    "    def rating_points(self):\n",
    "        if self.tree:\n",
    "            try:\n",
    "                return self.tree.xpath('//RateResults/RatingPoints')[0].text\n",
    "            except:\n",
    "                pass\n",
    "        return None\n",
    "\n",
    "    def energy_cost(self):\n",
    "        if self.tree:\n",
    "            try:\n",
    "                return self.tree.xpath('//EnrgResults/EnergyCost')[0].text.replace(',', '')\n",
    "            except:\n",
    "                pass\n",
    "        return None\n",
    "\n",
    "    def electric_use(self):\n",
    "        if self.tree:\n",
    "            try:\n",
    "                return self.tree.xpath('//AnnualQuantityFuel/Electric')[0].text.replace(',', '')\n",
    "            except:\n",
    "                pass\n",
    "        return None"
   ]
  },
  {
   "cell_type": "code",
   "execution_count": 8,
   "metadata": {
    "collapsed": false
   },
   "outputs": [],
   "source": [
    "%time\n",
    "with open(os.path.join(outputDirectory, 'Results2.csv'), 'wb+') as outputCSV:\n",
    "    outputWriter = csv.DictWriter(outputCSV, CalculationResults.as_keys())\n",
    "    outputWriter.writeheader()\n",
    "\n",
    "    for path, dirs, files in os.walk(inputDirectory):\n",
    "        for fileName in files:\n",
    "            fileRoot, fileExtension = os.path.splitext(fileName)\n",
    "            if fileExtension in ['.hm2', '.hom', '.hmc']:\n",
    "                results = CalculationResults(os.path.join(path, fileName))\n",
    "                outputWriter.writerow(results.as_dict())"
   ]
  },
  {
   "cell_type": "code",
   "execution_count": null,
   "metadata": {
    "collapsed": true
   },
   "outputs": [],
   "source": []
  }
 ],
 "metadata": {
  "kernelspec": {
   "display_name": "Python 2",
   "language": "python",
   "name": "python2"
  },
  "language_info": {
   "codemirror_mode": {
    "name": "ipython",
    "version": 2
   },
   "file_extension": ".py",
   "mimetype": "text/x-python",
   "name": "python",
   "nbconvert_exporter": "python",
   "pygments_lexer": "ipython2",
   "version": "2.7.6"
  }
 },
 "nbformat": 4,
 "nbformat_minor": 0
}
