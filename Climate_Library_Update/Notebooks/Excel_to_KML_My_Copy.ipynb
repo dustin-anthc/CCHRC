{
 "cells": [
  {
   "cell_type": "code",
   "execution_count": 1,
   "metadata": {
    "collapsed": true
   },
   "outputs": [],
   "source": [
    "import xlrd\n",
    "from lxml import etree"
   ]
  },
  {
   "cell_type": "code",
   "execution_count": null,
   "metadata": {
    "collapsed": true
   },
   "outputs": [],
   "source": [
    "# Settings\n",
    "worksheet_name = 'NOAA_1981-2010_Annual_temps.xlsx'\n",
    "latitude_column = 'LATITUDE'\n",
    "longitude_column = 'LONGITUDE'\n",
    "#label_column = 'Annual Tavg'\n",
    "label_column = 'DJF Tavg'\n",
    "description_column = 'STATION_NAME'"
   ]
  },
  {
   "cell_type": "code",
   "execution_count": null,
   "metadata": {
    "collapsed": true
   },
   "outputs": [],
   "source": [
    "# Create the root kml element and document\n",
    "kml_element = etree.Element('kml', xmlns=\"http://www.opengis.net/kml/2.2\")\n",
    "kml_doc = etree.ElementTree(kml_element)\n",
    "document_element = etree.SubElement(kml_element, 'Document')\n",
    "document_name_element = etree.SubElement(document_element, 'name')\n",
    "document_name_element.text = worksheet_name\n",
    "style_element = etree.SubElement(document_element,'Style', id=\"style1\")"
   ]
  },
  {
   "cell_type": "code",
   "execution_count": null,
   "metadata": {
    "collapsed": true
   },
   "outputs": [],
   "source": [
    "# Open the Excel worksheet and extract the header row\n",
    "worksheet = xlrd.open_workbook(worksheet_name).sheet_by_index(0)\n",
    "sheet_keys = worksheet.row_values(0)"
   ]
  },
  {
   "cell_type": "code",
   "execution_count": null,
   "metadata": {
    "collapsed": true
   },
   "outputs": [],
   "source": [
    "# Loop through the content rows in the worksheet and create KML placemarks\n",
    "for row_number in range(1, worksheet.nrows):\n",
    "    values = worksheet.row_values(row_number)\n",
    "    row_data = dict(zip(sheet_keys, values))\n",
    "    try:\n",
    "        latitude = float(row_data[latitude_column])\n",
    "        longitude = float(row_data[longitude_column])\n",
    "\n",
    "        placemark_element = etree.SubElement(document_element, 'Placemark')\n",
    "\n",
    "        placemark_name_element = etree.SubElement(placemark_element, 'name')\n",
    "        placemark_name_element.text = str(row_data[label_column])\n",
    "\n",
    "        snippet_element = etree.SubElement(placemark_element, 'snippet')\n",
    "        snippet_element.text = str(row_data[description_column])\n",
    "\n",
    "        description_element = etree.SubElement(placemark_element, 'description')\n",
    "        description_element.text = str(row_data[description_column])\n",
    "\n",
    "        styleurl_element = etree.SubElement(placemark_element, 'styleUrl')\n",
    "        styleurl_element.text = '#style1'\n",
    "\n",
    "        point_element = etree.SubElement(placemark_element, 'Point')\n",
    "\n",
    "        coordinates_element = etree.SubElement(point_element, 'coordinates')\n",
    "        coordinates_element.text = str(longitude) + ',' + str(latitude)\n",
    "    except ValueError:\n",
    "        print \"Invalid Coords: %s\" % row_data"
   ]
  },
  {
   "cell_type": "code",
   "execution_count": null,
   "metadata": {
    "collapsed": true
   },
   "outputs": [],
   "source": [
    "# Write the KML file\n",
    "with open(worksheet_name + '.kml', 'w') as f:\n",
    "    kml_doc.write(f, xml_declaration=True, encoding='utf-8')"
   ]
  }
 ],
 "metadata": {
  "kernelspec": {
   "display_name": "Python 2",
   "language": "python",
   "name": "python2"
  },
  "language_info": {
   "codemirror_mode": {
    "name": "ipython",
    "version": 2
   },
   "file_extension": ".py",
   "mimetype": "text/x-python",
   "name": "python",
   "nbconvert_exporter": "python",
   "pygments_lexer": "ipython2",
   "version": "2.7.6"
  }
 },
 "nbformat": 4,
 "nbformat_minor": 0
}
