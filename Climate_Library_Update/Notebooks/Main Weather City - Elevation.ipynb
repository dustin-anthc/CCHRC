{
 "cells": [
  {
   "cell_type": "code",
   "execution_count": 23,
   "metadata": {
    "collapsed": false
   },
   "outputs": [
    {
     "name": "stdout",
     "output_type": "stream",
     "text": [
      "Pandas version: 0.14.0\n"
     ]
    }
   ],
   "source": [
    "import pandas as pd\n",
    "import numpy as np\n",
    "from random import sample\n",
    "from pandas import *\n",
    "import matplotlib.pyplot as plt\n",
    "import statsmodels.formula.api as smf\n",
    "\n",
    "# Libraries from Alan\n",
    "from __future__ import division\n",
    "import json\n",
    "import os\n",
    "from matplotlib.pyplot import *\n",
    "\n",
    "import requests\n",
    "#import tmy_ids\n",
    "\n",
    "# Show Plots in the Notebook\n",
    "%matplotlib inline\n",
    "\n",
    "# Make Plots larger\n",
    "rcParams['figure.figsize']= (10, 6)\n",
    "rcParams['font.size'] = 14\n",
    "\n",
    "%matplotlib inline\n",
    "\n",
    "print 'Pandas version: ' + pd.__version__"
   ]
  },
  {
   "cell_type": "code",
   "execution_count": 24,
   "metadata": {
    "collapsed": false
   },
   "outputs": [
    {
     "data": {
      "text/html": [
       "<div style=\"max-height:1000px;max-width:1500px;overflow:auto;\">\n",
       "<table border=\"1\" class=\"dataframe\">\n",
       "  <thead>\n",
       "    <tr style=\"text-align: right;\">\n",
       "      <th></th>\n",
       "      <th>station_name</th>\n",
       "    </tr>\n",
       "    <tr>\n",
       "      <th>index</th>\n",
       "      <th></th>\n",
       "    </tr>\n",
       "  </thead>\n",
       "  <tbody>\n",
       "    <tr>\n",
       "      <th>0</th>\n",
       "      <td>                                     ALYESKA AK US</td>\n",
       "    </tr>\n",
       "    <tr>\n",
       "      <th>1</th>\n",
       "      <td> ANCHORAGE TED STEVENS INTERNATIONAL AIRPORT AK US</td>\n",
       "    </tr>\n",
       "    <tr>\n",
       "      <th>2</th>\n",
       "      <td>      ANNETTE WEATHER SERVICE OFFICE AIRPORT AK US</td>\n",
       "    </tr>\n",
       "    <tr>\n",
       "      <th>3</th>\n",
       "      <td>                                    AUKE BAY AK US</td>\n",
       "    </tr>\n",
       "    <tr>\n",
       "      <th>4</th>\n",
       "      <td>              BARROW W POST W ROGERS AIRPORT AK US</td>\n",
       "    </tr>\n",
       "  </tbody>\n",
       "</table>\n",
       "</div>"
      ],
      "text/plain": [
       "                                            station_name\n",
       "index                                                   \n",
       "0                                          ALYESKA AK US\n",
       "1      ANCHORAGE TED STEVENS INTERNATIONAL AIRPORT AK US\n",
       "2           ANNETTE WEATHER SERVICE OFFICE AIRPORT AK US\n",
       "3                                         AUKE BAY AK US\n",
       "4                   BARROW W POST W ROGERS AIRPORT AK US"
      ]
     },
     "execution_count": 24,
     "metadata": {},
     "output_type": "execute_result"
    }
   ],
   "source": [
    "stations52 = pd.read_csv(\"C:\\Users\\dustin\\Documents\\IPython Notebooks\\stations52.csv\", index_col=['index'])\n",
    "stations52.head()"
   ]
  },
  {
   "cell_type": "code",
   "execution_count": 25,
   "metadata": {
    "collapsed": false
   },
   "outputs": [
    {
     "data": {
      "text/html": [
       "<div style=\"max-height:1000px;max-width:1500px;overflow:auto;\">\n",
       "<table border=\"1\" class=\"dataframe\">\n",
       "  <thead>\n",
       "    <tr style=\"text-align: right;\">\n",
       "      <th></th>\n",
       "      <th>STATION</th>\n",
       "      <th>STATION_NAME</th>\n",
       "      <th>ELEVATION</th>\n",
       "      <th>LATITUDE</th>\n",
       "      <th>LONGITUDE</th>\n",
       "      <th>DATE</th>\n",
       "      <th>MLY-CLDD-BASE45</th>\n",
       "      <th>Completeness Flag</th>\n",
       "      <th>MLY-CLDD-BASE50</th>\n",
       "      <th>Completeness Flag.1</th>\n",
       "      <th>...</th>\n",
       "      <th>MLY-TMIN-NORMAL</th>\n",
       "      <th>Completeness Flag.34</th>\n",
       "      <th>MLY-TAVG-STDDEV</th>\n",
       "      <th>Completeness Flag.35</th>\n",
       "      <th>MLY-DUTR-STDDEV</th>\n",
       "      <th>Completeness Flag.36</th>\n",
       "      <th>MLY-TMAX-STDDEV</th>\n",
       "      <th>Completeness Flag.37</th>\n",
       "      <th>MLY-TMIN-STDDEV</th>\n",
       "      <th>Completeness Flag.38</th>\n",
       "    </tr>\n",
       "  </thead>\n",
       "  <tbody>\n",
       "    <tr>\n",
       "      <th>0</th>\n",
       "      <td> GHCND:USC00501180</td>\n",
       "      <td> BUTTE 1 W AK US</td>\n",
       "      <td> 24.4</td>\n",
       "      <td> 61.52</td>\n",
       "      <td> -149.05611</td>\n",
       "      <td> 201001</td>\n",
       "      <td>  0</td>\n",
       "      <td> Q</td>\n",
       "      <td>    0</td>\n",
       "      <td> Q</td>\n",
       "      <td>...</td>\n",
       "      <td>  35</td>\n",
       "      <td> Q</td>\n",
       "      <td>-9999</td>\n",
       "      <td>  </td>\n",
       "      <td>-9999</td>\n",
       "      <td>  </td>\n",
       "      <td>-9999</td>\n",
       "      <td>  </td>\n",
       "      <td>-9999</td>\n",
       "      <td>  </td>\n",
       "    </tr>\n",
       "    <tr>\n",
       "      <th>1</th>\n",
       "      <td> GHCND:USC00501180</td>\n",
       "      <td> BUTTE 1 W AK US</td>\n",
       "      <td> 24.4</td>\n",
       "      <td> 61.52</td>\n",
       "      <td> -149.05611</td>\n",
       "      <td> 201002</td>\n",
       "      <td>  0</td>\n",
       "      <td> Q</td>\n",
       "      <td>    0</td>\n",
       "      <td> Q</td>\n",
       "      <td>...</td>\n",
       "      <td>  85</td>\n",
       "      <td> Q</td>\n",
       "      <td>-9999</td>\n",
       "      <td>  </td>\n",
       "      <td>-9999</td>\n",
       "      <td>  </td>\n",
       "      <td>-9999</td>\n",
       "      <td>  </td>\n",
       "      <td>-9999</td>\n",
       "      <td>  </td>\n",
       "    </tr>\n",
       "    <tr>\n",
       "      <th>2</th>\n",
       "      <td> GHCND:USC00501180</td>\n",
       "      <td> BUTTE 1 W AK US</td>\n",
       "      <td> 24.4</td>\n",
       "      <td> 61.52</td>\n",
       "      <td> -149.05611</td>\n",
       "      <td> 201003</td>\n",
       "      <td>  0</td>\n",
       "      <td> Q</td>\n",
       "      <td>    0</td>\n",
       "      <td> Q</td>\n",
       "      <td>...</td>\n",
       "      <td> 155</td>\n",
       "      <td> Q</td>\n",
       "      <td>-9999</td>\n",
       "      <td>  </td>\n",
       "      <td>-9999</td>\n",
       "      <td>  </td>\n",
       "      <td>-9999</td>\n",
       "      <td>  </td>\n",
       "      <td>-9999</td>\n",
       "      <td>  </td>\n",
       "    </tr>\n",
       "    <tr>\n",
       "      <th>3</th>\n",
       "      <td> GHCND:USC00501180</td>\n",
       "      <td> BUTTE 1 W AK US</td>\n",
       "      <td> 24.4</td>\n",
       "      <td> 61.52</td>\n",
       "      <td> -149.05611</td>\n",
       "      <td> 201004</td>\n",
       "      <td>  4</td>\n",
       "      <td> Q</td>\n",
       "      <td>-7777</td>\n",
       "      <td> Q</td>\n",
       "      <td>...</td>\n",
       "      <td> 269</td>\n",
       "      <td> Q</td>\n",
       "      <td>-9999</td>\n",
       "      <td>  </td>\n",
       "      <td>-9999</td>\n",
       "      <td>  </td>\n",
       "      <td>-9999</td>\n",
       "      <td>  </td>\n",
       "      <td>-9999</td>\n",
       "      <td>  </td>\n",
       "    </tr>\n",
       "    <tr>\n",
       "      <th>4</th>\n",
       "      <td> GHCND:USC00501180</td>\n",
       "      <td> BUTTE 1 W AK US</td>\n",
       "      <td> 24.4</td>\n",
       "      <td> 61.52</td>\n",
       "      <td> -149.05611</td>\n",
       "      <td> 201005</td>\n",
       "      <td> 99</td>\n",
       "      <td> Q</td>\n",
       "      <td>   24</td>\n",
       "      <td> Q</td>\n",
       "      <td>...</td>\n",
       "      <td> 355</td>\n",
       "      <td> Q</td>\n",
       "      <td>-9999</td>\n",
       "      <td>  </td>\n",
       "      <td>-9999</td>\n",
       "      <td>  </td>\n",
       "      <td>-9999</td>\n",
       "      <td>  </td>\n",
       "      <td>-9999</td>\n",
       "      <td>  </td>\n",
       "    </tr>\n",
       "  </tbody>\n",
       "</table>\n",
       "<p>5 rows × 84 columns</p>\n",
       "</div>"
      ],
      "text/plain": [
       "             STATION     STATION_NAME ELEVATION LATITUDE   LONGITUDE    DATE  \\\n",
       "0  GHCND:USC00501180  BUTTE 1 W AK US      24.4    61.52  -149.05611  201001   \n",
       "1  GHCND:USC00501180  BUTTE 1 W AK US      24.4    61.52  -149.05611  201002   \n",
       "2  GHCND:USC00501180  BUTTE 1 W AK US      24.4    61.52  -149.05611  201003   \n",
       "3  GHCND:USC00501180  BUTTE 1 W AK US      24.4    61.52  -149.05611  201004   \n",
       "4  GHCND:USC00501180  BUTTE 1 W AK US      24.4    61.52  -149.05611  201005   \n",
       "\n",
       "   MLY-CLDD-BASE45 Completeness Flag  MLY-CLDD-BASE50 Completeness Flag.1  \\\n",
       "0                0                 Q                0                   Q   \n",
       "1                0                 Q                0                   Q   \n",
       "2                0                 Q                0                   Q   \n",
       "3                4                 Q            -7777                   Q   \n",
       "4               99                 Q               24                   Q   \n",
       "\n",
       "          ...          MLY-TMIN-NORMAL Completeness Flag.34  MLY-TAVG-STDDEV  \\\n",
       "0         ...                       35                    Q            -9999   \n",
       "1         ...                       85                    Q            -9999   \n",
       "2         ...                      155                    Q            -9999   \n",
       "3         ...                      269                    Q            -9999   \n",
       "4         ...                      355                    Q            -9999   \n",
       "\n",
       "  Completeness Flag.35  MLY-DUTR-STDDEV Completeness Flag.36  MLY-TMAX-STDDEV  \\\n",
       "0                                 -9999                                 -9999   \n",
       "1                                 -9999                                 -9999   \n",
       "2                                 -9999                                 -9999   \n",
       "3                                 -9999                                 -9999   \n",
       "4                                 -9999                                 -9999   \n",
       "\n",
       "  Completeness Flag.37  MLY-TMIN-STDDEV Completeness Flag.38  \n",
       "0                                 -9999                       \n",
       "1                                 -9999                       \n",
       "2                                 -9999                       \n",
       "3                                 -9999                       \n",
       "4                                 -9999                       \n",
       "\n",
       "[5 rows x 84 columns]"
      ]
     },
     "execution_count": 25,
     "metadata": {},
     "output_type": "execute_result"
    }
   ],
   "source": [
    "temps = pd.read_csv(r\"C:\\Users\\dustin\\Dropbox\\AKWarm Documentation\\02. Work\\01. Task 2 - AKWarm library update\\Climate Library\\NOAA 1981-2010 Monthly Averages - All AK Locs.csv\", index_col=None, header=0)\n",
    "temps.head()"
   ]
  },
  {
   "cell_type": "code",
   "execution_count": 26,
   "metadata": {
    "collapsed": false
   },
   "outputs": [
    {
     "data": {
      "text/html": [
       "<div style=\"max-height:1000px;max-width:1500px;overflow:auto;\">\n",
       "<table border=\"1\" class=\"dataframe\">\n",
       "  <thead>\n",
       "    <tr style=\"text-align: right;\">\n",
       "      <th></th>\n",
       "      <th>STATION</th>\n",
       "      <th>STATION_NAME</th>\n",
       "      <th>ELEVATION</th>\n",
       "      <th>LATITUDE</th>\n",
       "      <th>LONGITUDE</th>\n",
       "      <th>DATE</th>\n",
       "      <th>MLY-CLDD-BASE45</th>\n",
       "      <th>Completeness Flag</th>\n",
       "      <th>MLY-CLDD-BASE50</th>\n",
       "      <th>Completeness Flag.1</th>\n",
       "      <th>...</th>\n",
       "      <th>MLY-TMIN-NORMAL</th>\n",
       "      <th>Completeness Flag.34</th>\n",
       "      <th>MLY-TAVG-STDDEV</th>\n",
       "      <th>Completeness Flag.35</th>\n",
       "      <th>MLY-DUTR-STDDEV</th>\n",
       "      <th>Completeness Flag.36</th>\n",
       "      <th>MLY-TMAX-STDDEV</th>\n",
       "      <th>Completeness Flag.37</th>\n",
       "      <th>MLY-TMIN-STDDEV</th>\n",
       "      <th>Completeness Flag.38</th>\n",
       "    </tr>\n",
       "  </thead>\n",
       "  <tbody>\n",
       "    <tr>\n",
       "      <th>0</th>\n",
       "      <td> GHCND:USC00501180</td>\n",
       "      <td> BUTTE 1 W AK US</td>\n",
       "      <td> 24.4</td>\n",
       "      <td> 61.52</td>\n",
       "      <td> -149.05611</td>\n",
       "      <td>2010-01-01</td>\n",
       "      <td>  0</td>\n",
       "      <td> Q</td>\n",
       "      <td>    0</td>\n",
       "      <td> Q</td>\n",
       "      <td>...</td>\n",
       "      <td>  35</td>\n",
       "      <td> Q</td>\n",
       "      <td>-9999</td>\n",
       "      <td>  </td>\n",
       "      <td>-9999</td>\n",
       "      <td>  </td>\n",
       "      <td>-9999</td>\n",
       "      <td>  </td>\n",
       "      <td>-9999</td>\n",
       "      <td>  </td>\n",
       "    </tr>\n",
       "    <tr>\n",
       "      <th>1</th>\n",
       "      <td> GHCND:USC00501180</td>\n",
       "      <td> BUTTE 1 W AK US</td>\n",
       "      <td> 24.4</td>\n",
       "      <td> 61.52</td>\n",
       "      <td> -149.05611</td>\n",
       "      <td>2010-02-01</td>\n",
       "      <td>  0</td>\n",
       "      <td> Q</td>\n",
       "      <td>    0</td>\n",
       "      <td> Q</td>\n",
       "      <td>...</td>\n",
       "      <td>  85</td>\n",
       "      <td> Q</td>\n",
       "      <td>-9999</td>\n",
       "      <td>  </td>\n",
       "      <td>-9999</td>\n",
       "      <td>  </td>\n",
       "      <td>-9999</td>\n",
       "      <td>  </td>\n",
       "      <td>-9999</td>\n",
       "      <td>  </td>\n",
       "    </tr>\n",
       "    <tr>\n",
       "      <th>2</th>\n",
       "      <td> GHCND:USC00501180</td>\n",
       "      <td> BUTTE 1 W AK US</td>\n",
       "      <td> 24.4</td>\n",
       "      <td> 61.52</td>\n",
       "      <td> -149.05611</td>\n",
       "      <td>2010-03-01</td>\n",
       "      <td>  0</td>\n",
       "      <td> Q</td>\n",
       "      <td>    0</td>\n",
       "      <td> Q</td>\n",
       "      <td>...</td>\n",
       "      <td> 155</td>\n",
       "      <td> Q</td>\n",
       "      <td>-9999</td>\n",
       "      <td>  </td>\n",
       "      <td>-9999</td>\n",
       "      <td>  </td>\n",
       "      <td>-9999</td>\n",
       "      <td>  </td>\n",
       "      <td>-9999</td>\n",
       "      <td>  </td>\n",
       "    </tr>\n",
       "    <tr>\n",
       "      <th>3</th>\n",
       "      <td> GHCND:USC00501180</td>\n",
       "      <td> BUTTE 1 W AK US</td>\n",
       "      <td> 24.4</td>\n",
       "      <td> 61.52</td>\n",
       "      <td> -149.05611</td>\n",
       "      <td>2010-04-01</td>\n",
       "      <td>  4</td>\n",
       "      <td> Q</td>\n",
       "      <td>-7777</td>\n",
       "      <td> Q</td>\n",
       "      <td>...</td>\n",
       "      <td> 269</td>\n",
       "      <td> Q</td>\n",
       "      <td>-9999</td>\n",
       "      <td>  </td>\n",
       "      <td>-9999</td>\n",
       "      <td>  </td>\n",
       "      <td>-9999</td>\n",
       "      <td>  </td>\n",
       "      <td>-9999</td>\n",
       "      <td>  </td>\n",
       "    </tr>\n",
       "    <tr>\n",
       "      <th>4</th>\n",
       "      <td> GHCND:USC00501180</td>\n",
       "      <td> BUTTE 1 W AK US</td>\n",
       "      <td> 24.4</td>\n",
       "      <td> 61.52</td>\n",
       "      <td> -149.05611</td>\n",
       "      <td>2010-05-01</td>\n",
       "      <td> 99</td>\n",
       "      <td> Q</td>\n",
       "      <td>   24</td>\n",
       "      <td> Q</td>\n",
       "      <td>...</td>\n",
       "      <td> 355</td>\n",
       "      <td> Q</td>\n",
       "      <td>-9999</td>\n",
       "      <td>  </td>\n",
       "      <td>-9999</td>\n",
       "      <td>  </td>\n",
       "      <td>-9999</td>\n",
       "      <td>  </td>\n",
       "      <td>-9999</td>\n",
       "      <td>  </td>\n",
       "    </tr>\n",
       "  </tbody>\n",
       "</table>\n",
       "<p>5 rows × 84 columns</p>\n",
       "</div>"
      ],
      "text/plain": [
       "             STATION     STATION_NAME ELEVATION LATITUDE   LONGITUDE  \\\n",
       "0  GHCND:USC00501180  BUTTE 1 W AK US      24.4    61.52  -149.05611   \n",
       "1  GHCND:USC00501180  BUTTE 1 W AK US      24.4    61.52  -149.05611   \n",
       "2  GHCND:USC00501180  BUTTE 1 W AK US      24.4    61.52  -149.05611   \n",
       "3  GHCND:USC00501180  BUTTE 1 W AK US      24.4    61.52  -149.05611   \n",
       "4  GHCND:USC00501180  BUTTE 1 W AK US      24.4    61.52  -149.05611   \n",
       "\n",
       "        DATE  MLY-CLDD-BASE45 Completeness Flag  MLY-CLDD-BASE50  \\\n",
       "0 2010-01-01                0                 Q                0   \n",
       "1 2010-02-01                0                 Q                0   \n",
       "2 2010-03-01                0                 Q                0   \n",
       "3 2010-04-01                4                 Q            -7777   \n",
       "4 2010-05-01               99                 Q               24   \n",
       "\n",
       "  Completeness Flag.1         ...          MLY-TMIN-NORMAL  \\\n",
       "0                   Q         ...                       35   \n",
       "1                   Q         ...                       85   \n",
       "2                   Q         ...                      155   \n",
       "3                   Q         ...                      269   \n",
       "4                   Q         ...                      355   \n",
       "\n",
       "  Completeness Flag.34  MLY-TAVG-STDDEV Completeness Flag.35  MLY-DUTR-STDDEV  \\\n",
       "0                    Q            -9999                                 -9999   \n",
       "1                    Q            -9999                                 -9999   \n",
       "2                    Q            -9999                                 -9999   \n",
       "3                    Q            -9999                                 -9999   \n",
       "4                    Q            -9999                                 -9999   \n",
       "\n",
       "  Completeness Flag.36  MLY-TMAX-STDDEV Completeness Flag.37  MLY-TMIN-STDDEV  \\\n",
       "0                                 -9999                                 -9999   \n",
       "1                                 -9999                                 -9999   \n",
       "2                                 -9999                                 -9999   \n",
       "3                                 -9999                                 -9999   \n",
       "4                                 -9999                                 -9999   \n",
       "\n",
       "  Completeness Flag.38  \n",
       "0                       \n",
       "1                       \n",
       "2                       \n",
       "3                       \n",
       "4                       \n",
       "\n",
       "[5 rows x 84 columns]"
      ]
     },
     "execution_count": 26,
     "metadata": {},
     "output_type": "execute_result"
    }
   ],
   "source": [
    "temps['DATE'] = to_datetime(temps['DATE'], format=\"%Y%m\")\n",
    "temps.head()"
   ]
  },
  {
   "cell_type": "code",
   "execution_count": 27,
   "metadata": {
    "collapsed": false
   },
   "outputs": [
    {
     "data": {
      "text/html": [
       "<div style=\"max-height:1000px;max-width:1500px;overflow:auto;\">\n",
       "<table border=\"1\" class=\"dataframe\">\n",
       "  <thead>\n",
       "    <tr style=\"text-align: right;\">\n",
       "      <th></th>\n",
       "      <th>STATION</th>\n",
       "      <th>STATION_NAME</th>\n",
       "      <th>ELEVATION</th>\n",
       "      <th>LATITUDE</th>\n",
       "      <th>LONGITUDE</th>\n",
       "      <th>DATE</th>\n",
       "      <th>MLY-CLDD-BASE45</th>\n",
       "      <th>Completeness Flag</th>\n",
       "      <th>MLY-CLDD-BASE50</th>\n",
       "      <th>Completeness Flag.1</th>\n",
       "      <th>...</th>\n",
       "      <th>Completeness Flag.34</th>\n",
       "      <th>MLY-TAVG-STDDEV</th>\n",
       "      <th>Completeness Flag.35</th>\n",
       "      <th>MLY-DUTR-STDDEV</th>\n",
       "      <th>Completeness Flag.36</th>\n",
       "      <th>MLY-TMAX-STDDEV</th>\n",
       "      <th>Completeness Flag.37</th>\n",
       "      <th>MLY-TMIN-STDDEV</th>\n",
       "      <th>Completeness Flag.38</th>\n",
       "      <th>MONTH</th>\n",
       "    </tr>\n",
       "  </thead>\n",
       "  <tbody>\n",
       "    <tr>\n",
       "      <th>0</th>\n",
       "      <td> GHCND:USC00501180</td>\n",
       "      <td> BUTTE 1 W AK US</td>\n",
       "      <td> 24.4</td>\n",
       "      <td> 61.52</td>\n",
       "      <td> -149.05611</td>\n",
       "      <td>2010-01-01</td>\n",
       "      <td>  0</td>\n",
       "      <td> Q</td>\n",
       "      <td>    0</td>\n",
       "      <td> Q</td>\n",
       "      <td>...</td>\n",
       "      <td> Q</td>\n",
       "      <td>-9999</td>\n",
       "      <td>  </td>\n",
       "      <td>-9999</td>\n",
       "      <td>  </td>\n",
       "      <td>-9999</td>\n",
       "      <td>  </td>\n",
       "      <td>-9999</td>\n",
       "      <td>  </td>\n",
       "      <td> 1</td>\n",
       "    </tr>\n",
       "    <tr>\n",
       "      <th>1</th>\n",
       "      <td> GHCND:USC00501180</td>\n",
       "      <td> BUTTE 1 W AK US</td>\n",
       "      <td> 24.4</td>\n",
       "      <td> 61.52</td>\n",
       "      <td> -149.05611</td>\n",
       "      <td>2010-02-01</td>\n",
       "      <td>  0</td>\n",
       "      <td> Q</td>\n",
       "      <td>    0</td>\n",
       "      <td> Q</td>\n",
       "      <td>...</td>\n",
       "      <td> Q</td>\n",
       "      <td>-9999</td>\n",
       "      <td>  </td>\n",
       "      <td>-9999</td>\n",
       "      <td>  </td>\n",
       "      <td>-9999</td>\n",
       "      <td>  </td>\n",
       "      <td>-9999</td>\n",
       "      <td>  </td>\n",
       "      <td> 2</td>\n",
       "    </tr>\n",
       "    <tr>\n",
       "      <th>2</th>\n",
       "      <td> GHCND:USC00501180</td>\n",
       "      <td> BUTTE 1 W AK US</td>\n",
       "      <td> 24.4</td>\n",
       "      <td> 61.52</td>\n",
       "      <td> -149.05611</td>\n",
       "      <td>2010-03-01</td>\n",
       "      <td>  0</td>\n",
       "      <td> Q</td>\n",
       "      <td>    0</td>\n",
       "      <td> Q</td>\n",
       "      <td>...</td>\n",
       "      <td> Q</td>\n",
       "      <td>-9999</td>\n",
       "      <td>  </td>\n",
       "      <td>-9999</td>\n",
       "      <td>  </td>\n",
       "      <td>-9999</td>\n",
       "      <td>  </td>\n",
       "      <td>-9999</td>\n",
       "      <td>  </td>\n",
       "      <td> 3</td>\n",
       "    </tr>\n",
       "    <tr>\n",
       "      <th>3</th>\n",
       "      <td> GHCND:USC00501180</td>\n",
       "      <td> BUTTE 1 W AK US</td>\n",
       "      <td> 24.4</td>\n",
       "      <td> 61.52</td>\n",
       "      <td> -149.05611</td>\n",
       "      <td>2010-04-01</td>\n",
       "      <td>  4</td>\n",
       "      <td> Q</td>\n",
       "      <td>-7777</td>\n",
       "      <td> Q</td>\n",
       "      <td>...</td>\n",
       "      <td> Q</td>\n",
       "      <td>-9999</td>\n",
       "      <td>  </td>\n",
       "      <td>-9999</td>\n",
       "      <td>  </td>\n",
       "      <td>-9999</td>\n",
       "      <td>  </td>\n",
       "      <td>-9999</td>\n",
       "      <td>  </td>\n",
       "      <td> 4</td>\n",
       "    </tr>\n",
       "    <tr>\n",
       "      <th>4</th>\n",
       "      <td> GHCND:USC00501180</td>\n",
       "      <td> BUTTE 1 W AK US</td>\n",
       "      <td> 24.4</td>\n",
       "      <td> 61.52</td>\n",
       "      <td> -149.05611</td>\n",
       "      <td>2010-05-01</td>\n",
       "      <td> 99</td>\n",
       "      <td> Q</td>\n",
       "      <td>   24</td>\n",
       "      <td> Q</td>\n",
       "      <td>...</td>\n",
       "      <td> Q</td>\n",
       "      <td>-9999</td>\n",
       "      <td>  </td>\n",
       "      <td>-9999</td>\n",
       "      <td>  </td>\n",
       "      <td>-9999</td>\n",
       "      <td>  </td>\n",
       "      <td>-9999</td>\n",
       "      <td>  </td>\n",
       "      <td> 5</td>\n",
       "    </tr>\n",
       "  </tbody>\n",
       "</table>\n",
       "<p>5 rows × 85 columns</p>\n",
       "</div>"
      ],
      "text/plain": [
       "             STATION     STATION_NAME ELEVATION LATITUDE   LONGITUDE  \\\n",
       "0  GHCND:USC00501180  BUTTE 1 W AK US      24.4    61.52  -149.05611   \n",
       "1  GHCND:USC00501180  BUTTE 1 W AK US      24.4    61.52  -149.05611   \n",
       "2  GHCND:USC00501180  BUTTE 1 W AK US      24.4    61.52  -149.05611   \n",
       "3  GHCND:USC00501180  BUTTE 1 W AK US      24.4    61.52  -149.05611   \n",
       "4  GHCND:USC00501180  BUTTE 1 W AK US      24.4    61.52  -149.05611   \n",
       "\n",
       "        DATE  MLY-CLDD-BASE45 Completeness Flag  MLY-CLDD-BASE50  \\\n",
       "0 2010-01-01                0                 Q                0   \n",
       "1 2010-02-01                0                 Q                0   \n",
       "2 2010-03-01                0                 Q                0   \n",
       "3 2010-04-01                4                 Q            -7777   \n",
       "4 2010-05-01               99                 Q               24   \n",
       "\n",
       "  Completeness Flag.1         ...          Completeness Flag.34  \\\n",
       "0                   Q         ...                             Q   \n",
       "1                   Q         ...                             Q   \n",
       "2                   Q         ...                             Q   \n",
       "3                   Q         ...                             Q   \n",
       "4                   Q         ...                             Q   \n",
       "\n",
       "  MLY-TAVG-STDDEV  Completeness Flag.35 MLY-DUTR-STDDEV  Completeness Flag.36  \\\n",
       "0           -9999                                 -9999                         \n",
       "1           -9999                                 -9999                         \n",
       "2           -9999                                 -9999                         \n",
       "3           -9999                                 -9999                         \n",
       "4           -9999                                 -9999                         \n",
       "\n",
       "  MLY-TMAX-STDDEV  Completeness Flag.37 MLY-TMIN-STDDEV  Completeness Flag.38  \\\n",
       "0           -9999                                 -9999                         \n",
       "1           -9999                                 -9999                         \n",
       "2           -9999                                 -9999                         \n",
       "3           -9999                                 -9999                         \n",
       "4           -9999                                 -9999                         \n",
       "\n",
       "  MONTH  \n",
       "0     1  \n",
       "1     2  \n",
       "2     3  \n",
       "3     4  \n",
       "4     5  \n",
       "\n",
       "[5 rows x 85 columns]"
      ]
     },
     "execution_count": 27,
     "metadata": {},
     "output_type": "execute_result"
    }
   ],
   "source": [
    "# Creates month column\n",
    "temps['MONTH'] = pd.DatetimeIndex(temps['DATE']).month\n",
    "temps.head()"
   ]
  },
  {
   "cell_type": "code",
   "execution_count": 28,
   "metadata": {
    "collapsed": false
   },
   "outputs": [
    {
     "data": {
      "text/html": [
       "<div style=\"max-height:1000px;max-width:1500px;overflow:auto;\">\n",
       "<table border=\"1\" class=\"dataframe\">\n",
       "  <thead>\n",
       "    <tr style=\"text-align: right;\">\n",
       "      <th></th>\n",
       "      <th>STATION_NAME</th>\n",
       "      <th>MONTH</th>\n",
       "      <th>DBTempAvg</th>\n",
       "      <th>ELEVATION</th>\n",
       "    </tr>\n",
       "  </thead>\n",
       "  <tbody>\n",
       "    <tr>\n",
       "      <th>0</th>\n",
       "      <td> BUTTE 1 W AK US</td>\n",
       "      <td> 1</td>\n",
       "      <td> 12.2</td>\n",
       "      <td> 24.4</td>\n",
       "    </tr>\n",
       "    <tr>\n",
       "      <th>1</th>\n",
       "      <td> BUTTE 1 W AK US</td>\n",
       "      <td> 2</td>\n",
       "      <td> 17.6</td>\n",
       "      <td> 24.4</td>\n",
       "    </tr>\n",
       "    <tr>\n",
       "      <th>2</th>\n",
       "      <td> BUTTE 1 W AK US</td>\n",
       "      <td> 3</td>\n",
       "      <td> 25.5</td>\n",
       "      <td> 24.4</td>\n",
       "    </tr>\n",
       "    <tr>\n",
       "      <th>3</th>\n",
       "      <td> BUTTE 1 W AK US</td>\n",
       "      <td> 4</td>\n",
       "      <td> 37.1</td>\n",
       "      <td> 24.4</td>\n",
       "    </tr>\n",
       "    <tr>\n",
       "      <th>4</th>\n",
       "      <td> BUTTE 1 W AK US</td>\n",
       "      <td> 5</td>\n",
       "      <td> 47.7</td>\n",
       "      <td> 24.4</td>\n",
       "    </tr>\n",
       "  </tbody>\n",
       "</table>\n",
       "</div>"
      ],
      "text/plain": [
       "      STATION_NAME  MONTH  DBTempAvg ELEVATION\n",
       "0  BUTTE 1 W AK US      1       12.2      24.4\n",
       "1  BUTTE 1 W AK US      2       17.6      24.4\n",
       "2  BUTTE 1 W AK US      3       25.5      24.4\n",
       "3  BUTTE 1 W AK US      4       37.1      24.4\n",
       "4  BUTTE 1 W AK US      5       47.7      24.4"
      ]
     },
     "execution_count": 28,
     "metadata": {},
     "output_type": "execute_result"
    }
   ],
   "source": [
    "temps['DBTempAvg'] = temps['MLY-TAVG-NORMAL'].map(lambda x: float(x) / 10)\n",
    "temps = temps[['STATION_NAME', 'MONTH', 'DBTempAvg', 'ELEVATION']]\n",
    "temps.head()"
   ]
  },
  {
   "cell_type": "code",
   "execution_count": 29,
   "metadata": {
    "collapsed": false
   },
   "outputs": [],
   "source": [
    "station_list = stations52['station_name']\n",
    "#station_list"
   ]
  },
  {
   "cell_type": "code",
   "execution_count": 36,
   "metadata": {
    "collapsed": false
   },
   "outputs": [
    {
     "data": {
      "text/html": [
       "<div style=\"max-height:1000px;max-width:1500px;overflow:auto;\">\n",
       "<table border=\"1\" class=\"dataframe\">\n",
       "  <thead>\n",
       "    <tr style=\"text-align: right;\">\n",
       "      <th></th>\n",
       "      <th>STATION_NAME</th>\n",
       "      <th>MONTH</th>\n",
       "      <th>DBTempAvg</th>\n",
       "      <th>ELEVATION</th>\n",
       "    </tr>\n",
       "  </thead>\n",
       "  <tbody>\n",
       "    <tr>\n",
       "      <th>144</th>\n",
       "      <td> COLLEGE 5 NW AK US</td>\n",
       "      <td> 1</td>\n",
       "      <td>  1.0</td>\n",
       "      <td> 298.1</td>\n",
       "    </tr>\n",
       "    <tr>\n",
       "      <th>145</th>\n",
       "      <td> COLLEGE 5 NW AK US</td>\n",
       "      <td> 2</td>\n",
       "      <td>  6.3</td>\n",
       "      <td> 298.1</td>\n",
       "    </tr>\n",
       "    <tr>\n",
       "      <th>146</th>\n",
       "      <td> COLLEGE 5 NW AK US</td>\n",
       "      <td> 3</td>\n",
       "      <td> 15.5</td>\n",
       "      <td> 298.1</td>\n",
       "    </tr>\n",
       "    <tr>\n",
       "      <th>147</th>\n",
       "      <td> COLLEGE 5 NW AK US</td>\n",
       "      <td> 4</td>\n",
       "      <td> 32.8</td>\n",
       "      <td> 298.1</td>\n",
       "    </tr>\n",
       "    <tr>\n",
       "      <th>148</th>\n",
       "      <td> COLLEGE 5 NW AK US</td>\n",
       "      <td> 5</td>\n",
       "      <td> 48.5</td>\n",
       "      <td> 298.1</td>\n",
       "    </tr>\n",
       "  </tbody>\n",
       "</table>\n",
       "</div>"
      ],
      "text/plain": [
       "           STATION_NAME  MONTH  DBTempAvg ELEVATION\n",
       "144  COLLEGE 5 NW AK US      1        1.0     298.1\n",
       "145  COLLEGE 5 NW AK US      2        6.3     298.1\n",
       "146  COLLEGE 5 NW AK US      3       15.5     298.1\n",
       "147  COLLEGE 5 NW AK US      4       32.8     298.1\n",
       "148  COLLEGE 5 NW AK US      5       48.5     298.1"
      ]
     },
     "execution_count": 36,
     "metadata": {},
     "output_type": "execute_result"
    }
   ],
   "source": [
    "temps52 = temps[temps['STATION_NAME'].isin(stations52['station_name'])]\n",
    "temps52.head()"
   ]
  },
  {
   "cell_type": "code",
   "execution_count": 38,
   "metadata": {
    "collapsed": false
   },
   "outputs": [
    {
     "data": {
      "text/html": [
       "<div style=\"max-height:1000px;max-width:1500px;overflow:auto;\">\n",
       "<table border=\"1\" class=\"dataframe\">\n",
       "  <thead>\n",
       "    <tr style=\"text-align: right;\">\n",
       "      <th></th>\n",
       "      <th>ELEVATION</th>\n",
       "    </tr>\n",
       "    <tr>\n",
       "      <th>STATION_NAME</th>\n",
       "      <th></th>\n",
       "    </tr>\n",
       "  </thead>\n",
       "  <tbody>\n",
       "    <tr>\n",
       "      <th>ALYESKA AK US</th>\n",
       "      <td>  82.9</td>\n",
       "    </tr>\n",
       "    <tr>\n",
       "      <th>ANCHORAGE TED STEVENS INTERNATIONAL AIRPORT AK US</th>\n",
       "      <td>  40.2</td>\n",
       "    </tr>\n",
       "    <tr>\n",
       "      <th>ANNETTE WEATHER SERVICE OFFICE AIRPORT AK US</th>\n",
       "      <td>  33.2</td>\n",
       "    </tr>\n",
       "    <tr>\n",
       "      <th>AUKE BAY AK US</th>\n",
       "      <td>  12.8</td>\n",
       "    </tr>\n",
       "    <tr>\n",
       "      <th>BARROW W POST W ROGERS AIRPORT AK US</th>\n",
       "      <td>   9.4</td>\n",
       "    </tr>\n",
       "    <tr>\n",
       "      <th>BETHEL AIRPORT AK US</th>\n",
       "      <td>  31.1</td>\n",
       "    </tr>\n",
       "    <tr>\n",
       "      <th>BETTLES AIRPORT AK US</th>\n",
       "      <td> 195.7</td>\n",
       "    </tr>\n",
       "    <tr>\n",
       "      <th>BIG DELTA AIRPORT AK US</th>\n",
       "      <td> 386.5</td>\n",
       "    </tr>\n",
       "    <tr>\n",
       "      <th>BIG RIVER LAKES AK US</th>\n",
       "      <td>  18.3</td>\n",
       "    </tr>\n",
       "    <tr>\n",
       "      <th>CANNERY CREEK AK US</th>\n",
       "      <td>  13.7</td>\n",
       "    </tr>\n",
       "    <tr>\n",
       "      <th>COLD BAY AIRPORT AK US</th>\n",
       "      <td>  23.8</td>\n",
       "    </tr>\n",
       "    <tr>\n",
       "      <th>COLLEGE 5 NW AK US</th>\n",
       "      <td> 298.1</td>\n",
       "    </tr>\n",
       "    <tr>\n",
       "      <th>COLLEGE OBSERVATORY AK US</th>\n",
       "      <td>   182</td>\n",
       "    </tr>\n",
       "    <tr>\n",
       "      <th>COOPER LANDING 5 W AK US</th>\n",
       "      <td> 114.3</td>\n",
       "    </tr>\n",
       "    <tr>\n",
       "      <th>CORDOVA M K SMITH AIRPORT AK US</th>\n",
       "      <td>   9.4</td>\n",
       "    </tr>\n",
       "    <tr>\n",
       "      <th>DUTCH HARBOR AK US</th>\n",
       "      <td>     3</td>\n",
       "    </tr>\n",
       "    <tr>\n",
       "      <th>EAGLE AIRPORT AK US</th>\n",
       "      <td> 276.8</td>\n",
       "    </tr>\n",
       "    <tr>\n",
       "      <th>EIELSON FIELD AK US</th>\n",
       "      <td> 166.7</td>\n",
       "    </tr>\n",
       "    <tr>\n",
       "      <th>FAIRBANKS INTERNATIONAL AIRPORT AK US</th>\n",
       "      <td> 131.7</td>\n",
       "    </tr>\n",
       "    <tr>\n",
       "      <th>GLEN ALPS AK US</th>\n",
       "      <td> 688.8</td>\n",
       "    </tr>\n",
       "    <tr>\n",
       "      <th>GULKANA AIRPORT AK US</th>\n",
       "      <td> 478.8</td>\n",
       "    </tr>\n",
       "    <tr>\n",
       "      <th>HOMER 8 NW AK US</th>\n",
       "      <td> 329.2</td>\n",
       "    </tr>\n",
       "    <tr>\n",
       "      <th>HOMER AIRPORT AK US</th>\n",
       "      <td>  19.5</td>\n",
       "    </tr>\n",
       "    <tr>\n",
       "      <th>ILIAMNA AIRPORT AK US</th>\n",
       "      <td>  55.8</td>\n",
       "    </tr>\n",
       "    <tr>\n",
       "      <th>JUNEAU INTERNATIONAL AIRPORT AK US</th>\n",
       "      <td>   4.9</td>\n",
       "    </tr>\n",
       "    <tr>\n",
       "      <th>KENAI MUNICIPAL AIRPORT AK US</th>\n",
       "      <td>  27.7</td>\n",
       "    </tr>\n",
       "    <tr>\n",
       "      <th>KING SALMON AIRPORT AK US</th>\n",
       "      <td>  20.4</td>\n",
       "    </tr>\n",
       "    <tr>\n",
       "      <th>KITOI BAY AK US</th>\n",
       "      <td>  18.3</td>\n",
       "    </tr>\n",
       "    <tr>\n",
       "      <th>KODIAK AIRPORT AK US</th>\n",
       "      <td>  24.4</td>\n",
       "    </tr>\n",
       "    <tr>\n",
       "      <th>KOTZEBUE RALPH WEIN MEMORIAL AIRPORT AK </th>\n",
       "      <td>   9.1</td>\n",
       "    </tr>\n",
       "    <tr>\n",
       "      <th>KUPARUK AK US</th>\n",
       "      <td>  19.5</td>\n",
       "    </tr>\n",
       "    <tr>\n",
       "      <th>LITTLE PORT WALTER AK US</th>\n",
       "      <td>   4.3</td>\n",
       "    </tr>\n",
       "    <tr>\n",
       "      <th>MAIN BAY AK US</th>\n",
       "      <td>  17.4</td>\n",
       "    </tr>\n",
       "    <tr>\n",
       "      <th>MATANUSKA AGRICULTURAL EXPERIMENT STATION AK US</th>\n",
       "      <td>  52.4</td>\n",
       "    </tr>\n",
       "    <tr>\n",
       "      <th>MCGRATH AIRPORT AK US</th>\n",
       "      <td> 101.5</td>\n",
       "    </tr>\n",
       "    <tr>\n",
       "      <th>NABESNA AK US</th>\n",
       "      <td>   890</td>\n",
       "    </tr>\n",
       "    <tr>\n",
       "      <th>NOME MUNICIPAL AIRPORT AK US</th>\n",
       "      <td>     4</td>\n",
       "    </tr>\n",
       "    <tr>\n",
       "      <th>NORTH POLE AK US</th>\n",
       "      <td> 144.8</td>\n",
       "    </tr>\n",
       "    <tr>\n",
       "      <th>NORTHWAY AIRPORT AK US</th>\n",
       "      <td> 522.1</td>\n",
       "    </tr>\n",
       "    <tr>\n",
       "      <th>PORT ALSWORTH AK US</th>\n",
       "      <td>  79.2</td>\n",
       "    </tr>\n",
       "    <tr>\n",
       "      <th>SEWARD AIRPORT AK US</th>\n",
       "      <td>   6.7</td>\n",
       "    </tr>\n",
       "    <tr>\n",
       "      <th>SITKA AIRPORT AK US</th>\n",
       "      <td>   4.3</td>\n",
       "    </tr>\n",
       "    <tr>\n",
       "      <th>ST PAUL ISLAND AIRPORT AK US</th>\n",
       "      <td>  10.7</td>\n",
       "    </tr>\n",
       "    <tr>\n",
       "      <th>SUTTON 1 W AK US</th>\n",
       "      <td> 167.6</td>\n",
       "    </tr>\n",
       "    <tr>\n",
       "      <th>TALKEETNA AIRPORT AK US</th>\n",
       "      <td> 106.7</td>\n",
       "    </tr>\n",
       "    <tr>\n",
       "      <th>TANANA CALHOUN MEMORIAL AIRPORT AK US</th>\n",
       "      <td>  69.2</td>\n",
       "    </tr>\n",
       "    <tr>\n",
       "      <th>TOK AK US</th>\n",
       "      <td> 493.8</td>\n",
       "    </tr>\n",
       "    <tr>\n",
       "      <th>UNIVERSITY EXPERIMENT STATION AK US</th>\n",
       "      <td> 144.8</td>\n",
       "    </tr>\n",
       "    <tr>\n",
       "      <th>VALDEZ WEATHER SERVICE OFFICE AK US</th>\n",
       "      <td>    29</td>\n",
       "    </tr>\n",
       "    <tr>\n",
       "      <th>WHITES CROSSING AK US</th>\n",
       "      <td>  82.3</td>\n",
       "    </tr>\n",
       "    <tr>\n",
       "      <th>WRANGELL AIRPORT AK US</th>\n",
       "      <td>  17.1</td>\n",
       "    </tr>\n",
       "    <tr>\n",
       "      <th>YAKUTAT AIRPORT AK US</th>\n",
       "      <td>  10.1</td>\n",
       "    </tr>\n",
       "  </tbody>\n",
       "</table>\n",
       "</div>"
      ],
      "text/plain": [
       "                                                  ELEVATION\n",
       "STATION_NAME                                               \n",
       "ALYESKA AK US                                          82.9\n",
       "ANCHORAGE TED STEVENS INTERNATIONAL AIRPORT AK US      40.2\n",
       "ANNETTE WEATHER SERVICE OFFICE AIRPORT AK US           33.2\n",
       "AUKE BAY AK US                                         12.8\n",
       "BARROW W POST W ROGERS AIRPORT AK US                    9.4\n",
       "BETHEL AIRPORT AK US                                   31.1\n",
       "BETTLES AIRPORT AK US                                 195.7\n",
       "BIG DELTA AIRPORT AK US                               386.5\n",
       "BIG RIVER LAKES AK US                                  18.3\n",
       "CANNERY CREEK AK US                                    13.7\n",
       "COLD BAY AIRPORT AK US                                 23.8\n",
       "COLLEGE 5 NW AK US                                    298.1\n",
       "COLLEGE OBSERVATORY AK US                               182\n",
       "COOPER LANDING 5 W AK US                              114.3\n",
       "CORDOVA M K SMITH AIRPORT AK US                         9.4\n",
       "DUTCH HARBOR AK US                                        3\n",
       "EAGLE AIRPORT AK US                                   276.8\n",
       "EIELSON FIELD AK US                                   166.7\n",
       "FAIRBANKS INTERNATIONAL AIRPORT AK US                 131.7\n",
       "GLEN ALPS AK US                                       688.8\n",
       "GULKANA AIRPORT AK US                                 478.8\n",
       "HOMER 8 NW AK US                                      329.2\n",
       "HOMER AIRPORT AK US                                    19.5\n",
       "ILIAMNA AIRPORT AK US                                  55.8\n",
       "JUNEAU INTERNATIONAL AIRPORT AK US                      4.9\n",
       "KENAI MUNICIPAL AIRPORT AK US                          27.7\n",
       "KING SALMON AIRPORT AK US                              20.4\n",
       "KITOI BAY AK US                                        18.3\n",
       "KODIAK AIRPORT AK US                                   24.4\n",
       "KOTZEBUE RALPH WEIN MEMORIAL AIRPORT AK                 9.1\n",
       "KUPARUK AK US                                          19.5\n",
       "LITTLE PORT WALTER AK US                                4.3\n",
       "MAIN BAY AK US                                         17.4\n",
       "MATANUSKA AGRICULTURAL EXPERIMENT STATION AK US        52.4\n",
       "MCGRATH AIRPORT AK US                                 101.5\n",
       "NABESNA AK US                                           890\n",
       "NOME MUNICIPAL AIRPORT AK US                              4\n",
       "NORTH POLE AK US                                      144.8\n",
       "NORTHWAY AIRPORT AK US                                522.1\n",
       "PORT ALSWORTH AK US                                    79.2\n",
       "SEWARD AIRPORT AK US                                    6.7\n",
       "SITKA AIRPORT AK US                                     4.3\n",
       "ST PAUL ISLAND AIRPORT AK US                           10.7\n",
       "SUTTON 1 W AK US                                      167.6\n",
       "TALKEETNA AIRPORT AK US                               106.7\n",
       "TANANA CALHOUN MEMORIAL AIRPORT AK US                  69.2\n",
       "TOK AK US                                             493.8\n",
       "UNIVERSITY EXPERIMENT STATION AK US                   144.8\n",
       "VALDEZ WEATHER SERVICE OFFICE AK US                      29\n",
       "WHITES CROSSING AK US                                  82.3\n",
       "WRANGELL AIRPORT AK US                                 17.1\n",
       "YAKUTAT AIRPORT AK US                                  10.1"
      ]
     },
     "execution_count": 38,
     "metadata": {},
     "output_type": "execute_result"
    }
   ],
   "source": [
    "elevations52 = temps52.groupby(\"STATION_NAME\").max()\n",
    "elevations52 = elevations52[['ELEVATION']]\n",
    "elevations52"
   ]
  },
  {
   "cell_type": "code",
   "execution_count": 39,
   "metadata": {
    "collapsed": false
   },
   "outputs": [],
   "source": [
    "elevations52.to_csv(\"Main_Weather_Cities_Elevation_v2.csv\")"
   ]
  },
  {
   "cell_type": "code",
   "execution_count": null,
   "metadata": {
    "collapsed": true
   },
   "outputs": [],
   "source": []
  },
  {
   "cell_type": "code",
   "execution_count": null,
   "metadata": {
    "collapsed": true
   },
   "outputs": [],
   "source": []
  },
  {
   "cell_type": "code",
   "execution_count": null,
   "metadata": {
    "collapsed": true
   },
   "outputs": [],
   "source": []
  },
  {
   "cell_type": "code",
   "execution_count": null,
   "metadata": {
    "collapsed": true
   },
   "outputs": [],
   "source": []
  },
  {
   "cell_type": "code",
   "execution_count": null,
   "metadata": {
    "collapsed": true
   },
   "outputs": [],
   "source": []
  },
  {
   "cell_type": "code",
   "execution_count": null,
   "metadata": {
    "collapsed": true
   },
   "outputs": [],
   "source": []
  },
  {
   "cell_type": "code",
   "execution_count": null,
   "metadata": {
    "collapsed": true
   },
   "outputs": [],
   "source": []
  },
  {
   "cell_type": "code",
   "execution_count": null,
   "metadata": {
    "collapsed": true
   },
   "outputs": [],
   "source": []
  },
  {
   "cell_type": "code",
   "execution_count": null,
   "metadata": {
    "collapsed": true
   },
   "outputs": [],
   "source": []
  },
  {
   "cell_type": "code",
   "execution_count": null,
   "metadata": {
    "collapsed": true
   },
   "outputs": [],
   "source": []
  },
  {
   "cell_type": "code",
   "execution_count": null,
   "metadata": {
    "collapsed": true
   },
   "outputs": [],
   "source": []
  },
  {
   "cell_type": "code",
   "execution_count": null,
   "metadata": {
    "collapsed": true
   },
   "outputs": [],
   "source": []
  },
  {
   "cell_type": "code",
   "execution_count": null,
   "metadata": {
    "collapsed": true
   },
   "outputs": [],
   "source": []
  },
  {
   "cell_type": "code",
   "execution_count": null,
   "metadata": {
    "collapsed": true
   },
   "outputs": [],
   "source": []
  },
  {
   "cell_type": "code",
   "execution_count": null,
   "metadata": {
    "collapsed": true
   },
   "outputs": [],
   "source": []
  },
  {
   "cell_type": "code",
   "execution_count": null,
   "metadata": {
    "collapsed": true
   },
   "outputs": [],
   "source": []
  },
  {
   "cell_type": "code",
   "execution_count": null,
   "metadata": {
    "collapsed": true
   },
   "outputs": [],
   "source": []
  },
  {
   "cell_type": "code",
   "execution_count": null,
   "metadata": {
    "collapsed": true
   },
   "outputs": [],
   "source": []
  },
  {
   "cell_type": "code",
   "execution_count": null,
   "metadata": {
    "collapsed": true
   },
   "outputs": [],
   "source": []
  },
  {
   "cell_type": "code",
   "execution_count": null,
   "metadata": {
    "collapsed": true
   },
   "outputs": [],
   "source": []
  },
  {
   "cell_type": "code",
   "execution_count": null,
   "metadata": {
    "collapsed": true
   },
   "outputs": [],
   "source": []
  },
  {
   "cell_type": "code",
   "execution_count": null,
   "metadata": {
    "collapsed": true
   },
   "outputs": [],
   "source": []
  },
  {
   "cell_type": "code",
   "execution_count": null,
   "metadata": {
    "collapsed": true
   },
   "outputs": [],
   "source": []
  },
  {
   "cell_type": "code",
   "execution_count": null,
   "metadata": {
    "collapsed": true
   },
   "outputs": [],
   "source": []
  },
  {
   "cell_type": "code",
   "execution_count": null,
   "metadata": {
    "collapsed": true
   },
   "outputs": [],
   "source": []
  },
  {
   "cell_type": "code",
   "execution_count": null,
   "metadata": {
    "collapsed": true
   },
   "outputs": [],
   "source": []
  },
  {
   "cell_type": "code",
   "execution_count": null,
   "metadata": {
    "collapsed": true
   },
   "outputs": [],
   "source": []
  },
  {
   "cell_type": "code",
   "execution_count": null,
   "metadata": {
    "collapsed": true
   },
   "outputs": [],
   "source": []
  },
  {
   "cell_type": "code",
   "execution_count": null,
   "metadata": {
    "collapsed": true
   },
   "outputs": [],
   "source": []
  },
  {
   "cell_type": "code",
   "execution_count": null,
   "metadata": {
    "collapsed": true
   },
   "outputs": [],
   "source": []
  },
  {
   "cell_type": "code",
   "execution_count": null,
   "metadata": {
    "collapsed": true
   },
   "outputs": [],
   "source": []
  },
  {
   "cell_type": "code",
   "execution_count": null,
   "metadata": {
    "collapsed": true
   },
   "outputs": [],
   "source": []
  },
  {
   "cell_type": "code",
   "execution_count": null,
   "metadata": {
    "collapsed": true
   },
   "outputs": [],
   "source": []
  },
  {
   "cell_type": "code",
   "execution_count": null,
   "metadata": {
    "collapsed": true
   },
   "outputs": [],
   "source": []
  },
  {
   "cell_type": "code",
   "execution_count": null,
   "metadata": {
    "collapsed": true
   },
   "outputs": [],
   "source": []
  },
  {
   "cell_type": "code",
   "execution_count": null,
   "metadata": {
    "collapsed": true
   },
   "outputs": [],
   "source": []
  },
  {
   "cell_type": "code",
   "execution_count": null,
   "metadata": {
    "collapsed": true
   },
   "outputs": [],
   "source": []
  },
  {
   "cell_type": "code",
   "execution_count": null,
   "metadata": {
    "collapsed": true
   },
   "outputs": [],
   "source": []
  },
  {
   "cell_type": "code",
   "execution_count": null,
   "metadata": {
    "collapsed": true
   },
   "outputs": [],
   "source": []
  },
  {
   "cell_type": "code",
   "execution_count": null,
   "metadata": {
    "collapsed": true
   },
   "outputs": [],
   "source": []
  },
  {
   "cell_type": "code",
   "execution_count": null,
   "metadata": {
    "collapsed": true
   },
   "outputs": [],
   "source": []
  },
  {
   "cell_type": "code",
   "execution_count": null,
   "metadata": {
    "collapsed": true
   },
   "outputs": [],
   "source": []
  },
  {
   "cell_type": "code",
   "execution_count": null,
   "metadata": {
    "collapsed": true
   },
   "outputs": [],
   "source": []
  },
  {
   "cell_type": "code",
   "execution_count": null,
   "metadata": {
    "collapsed": true
   },
   "outputs": [],
   "source": []
  },
  {
   "cell_type": "code",
   "execution_count": null,
   "metadata": {
    "collapsed": true
   },
   "outputs": [],
   "source": []
  },
  {
   "cell_type": "code",
   "execution_count": null,
   "metadata": {
    "collapsed": true
   },
   "outputs": [],
   "source": []
  },
  {
   "cell_type": "code",
   "execution_count": null,
   "metadata": {
    "collapsed": true
   },
   "outputs": [],
   "source": []
  },
  {
   "cell_type": "code",
   "execution_count": null,
   "metadata": {
    "collapsed": true
   },
   "outputs": [],
   "source": []
  },
  {
   "cell_type": "code",
   "execution_count": null,
   "metadata": {
    "collapsed": true
   },
   "outputs": [],
   "source": []
  }
 ],
 "metadata": {
  "kernelspec": {
   "display_name": "Python 2",
   "language": "python",
   "name": "python2"
  },
  "language_info": {
   "codemirror_mode": {
    "name": "ipython",
    "version": 2
   },
   "file_extension": ".py",
   "mimetype": "text/x-python",
   "name": "python",
   "nbconvert_exporter": "python",
   "pygments_lexer": "ipython2",
   "version": "2.7.6"
  }
 },
 "nbformat": 4,
 "nbformat_minor": 0
}
