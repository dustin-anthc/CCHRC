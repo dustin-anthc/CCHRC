{
 "cells": [
  {
   "cell_type": "code",
   "execution_count": 3,
   "metadata": {
    "collapsed": false
   },
   "outputs": [
    {
     "name": "stdout",
     "output_type": "stream",
     "text": [
      "Pandas version: 0.14.0\n"
     ]
    }
   ],
   "source": [
    "import pandas as pd\n",
    "import numpy as np\n",
    "from random import sample\n",
    "from pandas import *\n",
    "import matplotlib.pyplot as plt\n",
    "import statsmodels.formula.api as smf\n",
    "\n",
    "# Libraries from Alan\n",
    "from __future__ import division\n",
    "import json\n",
    "import os\n",
    "from matplotlib.pyplot import *\n",
    "\n",
    "import requests\n",
    "#import tmy_ids\n",
    "\n",
    "# Show Plots in the Notebook\n",
    "%matplotlib inline\n",
    "\n",
    "# Make Plots larger\n",
    "rcParams['figure.figsize']= (10, 6)\n",
    "rcParams['font.size'] = 14\n",
    "\n",
    "%matplotlib inline\n",
    "\n",
    "print 'Pandas version: ' + pd.__version__"
   ]
  },
  {
   "cell_type": "code",
   "execution_count": 4,
   "metadata": {
    "collapsed": false
   },
   "outputs": [],
   "source": [
    "tmy3_to_noaa = [\n",
    "    (702730, 'Anchorage Intl AP', 'II', 'ANCHORAGE TED STEVENS INTERNATIONAL AIRPORT AK US'),\n",
    "    (703980, 'Annette Island AP', 'II',  'ANNETTE WEATHER SERVICE OFFICE AIRPORT AK US'),\n",
    "    (700260, 'Barrow W Post-W Rogers Arpt [NSA - ARM]', 'II', 'BARROW W POST W ROGERS AIRPORT AK US'),\n",
    "    (702190, 'Bethel Airport', 'II', 'BETHEL AIRPORT AK US'),\n",
    "    (701740, 'Bettles Field', 'II', 'BETTLES AIRPORT AK US'),\n",
    "    (702670, 'Big Delta Allen AAF', 'II', 'BIG DELTA AIRPORT AK US'),\n",
    "    (703160, 'Cold Bay Arpt', 'II', 'COLD BAY AIRPORT AK US'),\n",
    "    (702610, 'Fairbanks Intl Arpt', 'II', 'FAIRBANKS INTERNATIONAL AIRPORT AK US'),\n",
    "    (702710, 'Gulkana Intermediate Field', 'II',  'GULKANA AIRPORT AK US'),\n",
    "    (703410, 'Homer Arpt', 'II', 'HOMER AIRPORT AK US'),\n",
    "    (703810, 'Juneau Intl Arpt', 'II', 'JUNEAU INTERNATIONAL AIRPORT AK US'),\n",
    "    (703260, 'King Salmon Arpt', 'II', 'KING SALMON AIRPORT AK US'),\n",
    "    (703500, 'Kodiak Airport', 'II',  'KODIAK AIRPORT AK US'),\n",
    "    (701330, 'Kotzebue Ralph Wein Memorial', 'II', 'KOTZEBUE RALPH WEIN MEMORIAL AIRPORT AK '),\n",
    "    (702310, 'McGrath Arpt', 'II', 'MCGRATH AIRPORT AK US'),\n",
    "    (702000, 'Nome Municipal Arpt', 'II', 'NOME MUNICIPAL AIRPORT AK US'),\n",
    "    (703080, 'St Paul Island Arpt', 'II', 'ST PAUL ISLAND AIRPORT AK US'),\n",
    "    (702510, 'Talkeetna State Arpt', 'II', 'TALKEETNA AIRPORT AK US'),\n",
    "    (703610, 'Yakutat State Arpt', 'II', 'YAKUTAT AIRPORT AK US'),\n",
    "    (702986, 'Big River Lake', 'II', 'BIG RIVER LAKES AK US'),\n",
    "    (702960, 'Cordova', 'II','CORDOVA M K SMITH AIRPORT AK US'),\n",
    "    (704890, 'Dutch Harbor', 'II', 'DUTCH HARBOR AK US'),\n",
    "    (702650, 'Fairbanks/Eielson A', 'II', 'EIELSON FIELD AK US'),\n",
    "    \n",
    "    #'Homer Arpt' is 7 miles away from Homer 8 NW.  The airport is on the coast and the NW site is inland.\n",
    "    # Auke bay:  do we need this one?\n",
    "    # Alyeska: don't think we need it\n",
    "    # Cannery: middle of nowhere\n",
    "    # College 5 NW, College, North Pole, University Experiment Station are unnecessary since we have Fairbanks station\n",
    "    # Cooper landing: no nearby Tmy3\n",
    "    # Eagle airport - nothing nearby\n",
    "    # Glen alps : no station\n",
    "    # Kitoi bay : nothing nearby, on Kodiak island\n",
    "    # Kuparuk : 28 miles from deadhorse - use deadhorse tmy station?\n",
    "    # little port walter not near anything\n",
    "    # Matanuska Agricultural : 6 miles from Palmer Municipal TMY3 station\n",
    "    (702740, 'Palmer Municipal', 'II', 'MATANUSKA AGRICULTURAL EXPERIMENT STATION AK US'),\n",
    "    # main bay: not near anything\n",
    "    # Tok : nothing nearby\n",
    "    # White's crossing : no nearby tmy3\n",
    "    # Nabesna: nothing close\n",
    "    # Sutton: 10 miles from Palmer Municipal Airport tmy3 station\n",
    "    # Port Alsworth: Nothing nearby\n",
    "    (703400, 'Iliamna Arpt', 'II', 'ILIAMNA AIRPORT AK US'),\n",
    "    (702590, 'Kenai Municipal AP', 'II', 'KENAI MUNICIPAL AIRPORT AK US'),\n",
    "    (702910, 'Northway Airport', 'II', 'NORTHWAY AIRPORT AK US'),\n",
    "    (702770, 'Seward', 'II', 'SEWARD AIRPORT AK US'),\n",
    "    (703710, 'Sitka Japonski AP', 'II', 'SITKA AIRPORT AK US'),\n",
    "    (701780, 'Tanana Ralph M Calhoun Mem AP', 'II', 'TANANA CALHOUN MEMORIAL AIRPORT AK US'),\n",
    "    (702750, 'Valdez Wso', 'II', 'VALDEZ WEATHER SERVICE OFFICE AK US'),\n",
    "    (703870, 'Wrangell', 'II', 'WRANGELL AIRPORT AK US')\n",
    "]"
   ]
  },
  {
   "cell_type": "code",
   "execution_count": 5,
   "metadata": {
    "collapsed": false
   },
   "outputs": [
    {
     "data": {
      "text/plain": [
       "ids            32\n",
       "tmy_station    32\n",
       "tmy_class      32\n",
       "noaa_index     32\n",
       "dtype: int64"
      ]
     },
     "execution_count": 5,
     "metadata": {},
     "output_type": "execute_result"
    }
   ],
   "source": [
    "tmy_ids = DataFrame(tmy3_to_noaa, columns=['ids', 'tmy_station', 'tmy_class', 'noaa_index'])\n",
    "tmy_ids.count()"
   ]
  },
  {
   "cell_type": "code",
   "execution_count": 6,
   "metadata": {
    "collapsed": false
   },
   "outputs": [
    {
     "data": {
      "text/plain": [
       "[(702730L, 'ANCHORAGE TED STEVENS INTERNATIONAL AIRPORT AK US'),\n",
       " (703980L, 'ANNETTE WEATHER SERVICE OFFICE AIRPORT AK US'),\n",
       " (700260L, 'BARROW W POST W ROGERS AIRPORT AK US'),\n",
       " (702190L, 'BETHEL AIRPORT AK US'),\n",
       " (701740L, 'BETTLES AIRPORT AK US'),\n",
       " (702670L, 'BIG DELTA AIRPORT AK US'),\n",
       " (703160L, 'COLD BAY AIRPORT AK US'),\n",
       " (702610L, 'FAIRBANKS INTERNATIONAL AIRPORT AK US'),\n",
       " (702710L, 'GULKANA AIRPORT AK US'),\n",
       " (703410L, 'HOMER AIRPORT AK US'),\n",
       " (703810L, 'JUNEAU INTERNATIONAL AIRPORT AK US'),\n",
       " (703260L, 'KING SALMON AIRPORT AK US'),\n",
       " (703500L, 'KODIAK AIRPORT AK US'),\n",
       " (701330L, 'KOTZEBUE RALPH WEIN MEMORIAL AIRPORT AK '),\n",
       " (702310L, 'MCGRATH AIRPORT AK US'),\n",
       " (702000L, 'NOME MUNICIPAL AIRPORT AK US'),\n",
       " (703080L, 'ST PAUL ISLAND AIRPORT AK US'),\n",
       " (702510L, 'TALKEETNA AIRPORT AK US'),\n",
       " (703610L, 'YAKUTAT AIRPORT AK US'),\n",
       " (702986L, 'BIG RIVER LAKES AK US'),\n",
       " (702960L, 'CORDOVA M K SMITH AIRPORT AK US'),\n",
       " (704890L, 'DUTCH HARBOR AK US'),\n",
       " (702650L, 'EIELSON FIELD AK US'),\n",
       " (702740L, 'MATANUSKA AGRICULTURAL EXPERIMENT STATION AK US'),\n",
       " (703400L, 'ILIAMNA AIRPORT AK US'),\n",
       " (702590L, 'KENAI MUNICIPAL AIRPORT AK US'),\n",
       " (702910L, 'NORTHWAY AIRPORT AK US'),\n",
       " (702770L, 'SEWARD AIRPORT AK US'),\n",
       " (703710L, 'SITKA AIRPORT AK US'),\n",
       " (701780L, 'TANANA CALHOUN MEMORIAL AIRPORT AK US'),\n",
       " (702750L, 'VALDEZ WEATHER SERVICE OFFICE AK US'),\n",
       " (703870L, 'WRANGELL AIRPORT AK US')]"
      ]
     },
     "execution_count": 6,
     "metadata": {},
     "output_type": "execute_result"
    }
   ],
   "source": [
    "subset = tmy_ids[['ids', 'noaa_index']]\n",
    "tmy_tuple = [tuple(x) for x in subset.values]\n",
    "tmy_tuple"
   ]
  },
  {
   "cell_type": "code",
   "execution_count": 7,
   "metadata": {
    "collapsed": false
   },
   "outputs": [
    {
     "data": {
      "text/html": [
       "<div style=\"max-height:1000px;max-width:1500px;overflow:auto;\">\n",
       "<table border=\"1\" class=\"dataframe\">\n",
       "  <thead>\n",
       "    <tr style=\"text-align: right;\">\n",
       "      <th></th>\n",
       "      <th>Date (MM/DD/YYYY)</th>\n",
       "      <th>Time (HH:MM)</th>\n",
       "      <th>ETR (W/m^2)</th>\n",
       "      <th>ETRN (W/m^2)</th>\n",
       "      <th>GHI (W/m^2)</th>\n",
       "      <th>GHI source</th>\n",
       "      <th>GHI uncert (%)</th>\n",
       "      <th>DNI (W/m^2)</th>\n",
       "      <th>DNI source</th>\n",
       "      <th>DNI uncert (%)</th>\n",
       "      <th>...</th>\n",
       "      <th>Alb source</th>\n",
       "      <th>Alb uncert (code)</th>\n",
       "      <th>Lprecip depth (mm)</th>\n",
       "      <th>Lprecip quantity (hr)</th>\n",
       "      <th>Lprecip source</th>\n",
       "      <th>Lprecip uncert (code)</th>\n",
       "      <th>PresWth (METAR code)</th>\n",
       "      <th>PresWth source</th>\n",
       "      <th>PresWth uncert (code)</th>\n",
       "      <th>STATION_NAME</th>\n",
       "    </tr>\n",
       "  </thead>\n",
       "  <tbody>\n",
       "    <tr>\n",
       "      <th>0</th>\n",
       "      <td> 01/01/1976</td>\n",
       "      <td> 01:00</td>\n",
       "      <td> 0</td>\n",
       "      <td> 0</td>\n",
       "      <td> 0</td>\n",
       "      <td> 1</td>\n",
       "      <td> 0</td>\n",
       "      <td> 0</td>\n",
       "      <td> 1</td>\n",
       "      <td> 0</td>\n",
       "      <td>...</td>\n",
       "      <td> ?</td>\n",
       "      <td> 0</td>\n",
       "      <td> 0</td>\n",
       "      <td> 1</td>\n",
       "      <td> D</td>\n",
       "      <td> 9</td>\n",
       "      <td> 45</td>\n",
       "      <td> C</td>\n",
       "      <td> 8</td>\n",
       "      <td> ANCHORAGE TED STEVENS INTERNATIONAL AIRPORT AK US</td>\n",
       "    </tr>\n",
       "    <tr>\n",
       "      <th>1</th>\n",
       "      <td> 01/01/1976</td>\n",
       "      <td> 02:00</td>\n",
       "      <td> 0</td>\n",
       "      <td> 0</td>\n",
       "      <td> 0</td>\n",
       "      <td> 1</td>\n",
       "      <td> 0</td>\n",
       "      <td> 0</td>\n",
       "      <td> 1</td>\n",
       "      <td> 0</td>\n",
       "      <td>...</td>\n",
       "      <td> ?</td>\n",
       "      <td> 0</td>\n",
       "      <td> 0</td>\n",
       "      <td> 1</td>\n",
       "      <td> D</td>\n",
       "      <td> 9</td>\n",
       "      <td> 45</td>\n",
       "      <td> C</td>\n",
       "      <td> 8</td>\n",
       "      <td> ANCHORAGE TED STEVENS INTERNATIONAL AIRPORT AK US</td>\n",
       "    </tr>\n",
       "    <tr>\n",
       "      <th>2</th>\n",
       "      <td> 01/01/1976</td>\n",
       "      <td> 03:00</td>\n",
       "      <td> 0</td>\n",
       "      <td> 0</td>\n",
       "      <td> 0</td>\n",
       "      <td> 1</td>\n",
       "      <td> 0</td>\n",
       "      <td> 0</td>\n",
       "      <td> 1</td>\n",
       "      <td> 0</td>\n",
       "      <td>...</td>\n",
       "      <td> ?</td>\n",
       "      <td> 0</td>\n",
       "      <td> 0</td>\n",
       "      <td> 1</td>\n",
       "      <td> D</td>\n",
       "      <td> 9</td>\n",
       "      <td> 10</td>\n",
       "      <td> C</td>\n",
       "      <td> 8</td>\n",
       "      <td> ANCHORAGE TED STEVENS INTERNATIONAL AIRPORT AK US</td>\n",
       "    </tr>\n",
       "    <tr>\n",
       "      <th>3</th>\n",
       "      <td> 01/01/1976</td>\n",
       "      <td> 04:00</td>\n",
       "      <td> 0</td>\n",
       "      <td> 0</td>\n",
       "      <td> 0</td>\n",
       "      <td> 1</td>\n",
       "      <td> 0</td>\n",
       "      <td> 0</td>\n",
       "      <td> 1</td>\n",
       "      <td> 0</td>\n",
       "      <td>...</td>\n",
       "      <td> ?</td>\n",
       "      <td> 0</td>\n",
       "      <td> 0</td>\n",
       "      <td> 1</td>\n",
       "      <td> D</td>\n",
       "      <td> 9</td>\n",
       "      <td> 45</td>\n",
       "      <td> C</td>\n",
       "      <td> 8</td>\n",
       "      <td> ANCHORAGE TED STEVENS INTERNATIONAL AIRPORT AK US</td>\n",
       "    </tr>\n",
       "    <tr>\n",
       "      <th>4</th>\n",
       "      <td> 01/01/1976</td>\n",
       "      <td> 05:00</td>\n",
       "      <td> 0</td>\n",
       "      <td> 0</td>\n",
       "      <td> 0</td>\n",
       "      <td> 1</td>\n",
       "      <td> 0</td>\n",
       "      <td> 0</td>\n",
       "      <td> 1</td>\n",
       "      <td> 0</td>\n",
       "      <td>...</td>\n",
       "      <td> ?</td>\n",
       "      <td> 0</td>\n",
       "      <td> 0</td>\n",
       "      <td> 1</td>\n",
       "      <td> D</td>\n",
       "      <td> 9</td>\n",
       "      <td> 45</td>\n",
       "      <td> C</td>\n",
       "      <td> 8</td>\n",
       "      <td> ANCHORAGE TED STEVENS INTERNATIONAL AIRPORT AK US</td>\n",
       "    </tr>\n",
       "  </tbody>\n",
       "</table>\n",
       "<p>5 rows × 72 columns</p>\n",
       "</div>"
      ],
      "text/plain": [
       "  Date (MM/DD/YYYY) Time (HH:MM)  ETR (W/m^2)  ETRN (W/m^2)  GHI (W/m^2)  \\\n",
       "0        01/01/1976        01:00            0             0            0   \n",
       "1        01/01/1976        02:00            0             0            0   \n",
       "2        01/01/1976        03:00            0             0            0   \n",
       "3        01/01/1976        04:00            0             0            0   \n",
       "4        01/01/1976        05:00            0             0            0   \n",
       "\n",
       "   GHI source  GHI uncert (%)  DNI (W/m^2)  DNI source  DNI uncert (%)  \\\n",
       "0           1               0            0           1               0   \n",
       "1           1               0            0           1               0   \n",
       "2           1               0            0           1               0   \n",
       "3           1               0            0           1               0   \n",
       "4           1               0            0           1               0   \n",
       "\n",
       "        ...        Alb source  Alb uncert (code)  Lprecip depth (mm)  \\\n",
       "0       ...                 ?                  0                   0   \n",
       "1       ...                 ?                  0                   0   \n",
       "2       ...                 ?                  0                   0   \n",
       "3       ...                 ?                  0                   0   \n",
       "4       ...                 ?                  0                   0   \n",
       "\n",
       "   Lprecip quantity (hr)  Lprecip source  Lprecip uncert (code)  \\\n",
       "0                      1               D                      9   \n",
       "1                      1               D                      9   \n",
       "2                      1               D                      9   \n",
       "3                      1               D                      9   \n",
       "4                      1               D                      9   \n",
       "\n",
       "   PresWth (METAR code)  PresWth source  PresWth uncert (code)  \\\n",
       "0                    45               C                      8   \n",
       "1                    45               C                      8   \n",
       "2                    10               C                      8   \n",
       "3                    45               C                      8   \n",
       "4                    45               C                      8   \n",
       "\n",
       "                                        STATION_NAME  \n",
       "0  ANCHORAGE TED STEVENS INTERNATIONAL AIRPORT AK US  \n",
       "1  ANCHORAGE TED STEVENS INTERNATIONAL AIRPORT AK US  \n",
       "2  ANCHORAGE TED STEVENS INTERNATIONAL AIRPORT AK US  \n",
       "3  ANCHORAGE TED STEVENS INTERNATIONAL AIRPORT AK US  \n",
       "4  ANCHORAGE TED STEVENS INTERNATIONAL AIRPORT AK US  \n",
       "\n",
       "[5 rows x 72 columns]"
      ]
     },
     "execution_count": 7,
     "metadata": {},
     "output_type": "execute_result"
    }
   ],
   "source": [
    "tmy_rh = pd.DataFrame()\n",
    "\n",
    "for ids, tmy_name, tmy_class, noaa_name, in tmy3_to_noaa:\n",
    " \n",
    "    # Read the TMY3 file into a Pandas DataFrame direct from the NREL site\n",
    "    tmy = pd.read_csv('http://rredc.nrel.gov/solar/old_data/nsrdb/1991-2005/data/tmy3/%sTYA.CSV' % ids, skiprows=1)\n",
    "    # Create column with noaa station name\n",
    "    tmy['STATION_NAME'] = noaa_name\n",
    "    tmy_rh = tmy_rh.append(tmy)\n",
    "\n",
    "tmy_rh.head()"
   ]
  },
  {
   "cell_type": "code",
   "execution_count": 15,
   "metadata": {
    "collapsed": false
   },
   "outputs": [
    {
     "data": {
      "text/html": [
       "<div style=\"max-height:1000px;max-width:1500px;overflow:auto;\">\n",
       "<table border=\"1\" class=\"dataframe\">\n",
       "  <thead>\n",
       "    <tr style=\"text-align: right;\">\n",
       "      <th></th>\n",
       "      <th>STATION_NAME</th>\n",
       "      <th>Date (MM/DD/YYYY)</th>\n",
       "      <th>Time (HH:MM)</th>\n",
       "      <th>RHum (%)</th>\n",
       "    </tr>\n",
       "  </thead>\n",
       "  <tbody>\n",
       "    <tr>\n",
       "      <th>0</th>\n",
       "      <td> ANCHORAGE TED STEVENS INTERNATIONAL AIRPORT AK US</td>\n",
       "      <td> 01/01/1976</td>\n",
       "      <td> 01:00</td>\n",
       "      <td> 92</td>\n",
       "    </tr>\n",
       "    <tr>\n",
       "      <th>1</th>\n",
       "      <td> ANCHORAGE TED STEVENS INTERNATIONAL AIRPORT AK US</td>\n",
       "      <td> 01/01/1976</td>\n",
       "      <td> 02:00</td>\n",
       "      <td> 92</td>\n",
       "    </tr>\n",
       "    <tr>\n",
       "      <th>2</th>\n",
       "      <td> ANCHORAGE TED STEVENS INTERNATIONAL AIRPORT AK US</td>\n",
       "      <td> 01/01/1976</td>\n",
       "      <td> 03:00</td>\n",
       "      <td> 92</td>\n",
       "    </tr>\n",
       "    <tr>\n",
       "      <th>3</th>\n",
       "      <td> ANCHORAGE TED STEVENS INTERNATIONAL AIRPORT AK US</td>\n",
       "      <td> 01/01/1976</td>\n",
       "      <td> 04:00</td>\n",
       "      <td> 92</td>\n",
       "    </tr>\n",
       "    <tr>\n",
       "      <th>4</th>\n",
       "      <td> ANCHORAGE TED STEVENS INTERNATIONAL AIRPORT AK US</td>\n",
       "      <td> 01/01/1976</td>\n",
       "      <td> 05:00</td>\n",
       "      <td> 92</td>\n",
       "    </tr>\n",
       "  </tbody>\n",
       "</table>\n",
       "</div>"
      ],
      "text/plain": [
       "                                        STATION_NAME Date (MM/DD/YYYY)  \\\n",
       "0  ANCHORAGE TED STEVENS INTERNATIONAL AIRPORT AK US        01/01/1976   \n",
       "1  ANCHORAGE TED STEVENS INTERNATIONAL AIRPORT AK US        01/01/1976   \n",
       "2  ANCHORAGE TED STEVENS INTERNATIONAL AIRPORT AK US        01/01/1976   \n",
       "3  ANCHORAGE TED STEVENS INTERNATIONAL AIRPORT AK US        01/01/1976   \n",
       "4  ANCHORAGE TED STEVENS INTERNATIONAL AIRPORT AK US        01/01/1976   \n",
       "\n",
       "  Time (HH:MM)  RHum (%)  \n",
       "0        01:00        92  \n",
       "1        02:00        92  \n",
       "2        03:00        92  \n",
       "3        04:00        92  \n",
       "4        05:00        92  "
      ]
     },
     "execution_count": 15,
     "metadata": {},
     "output_type": "execute_result"
    }
   ],
   "source": [
    "tmy_rh_only = tmy_rh[['STATION_NAME', 'Date (MM/DD/YYYY)', 'Time (HH:MM)',  'RHum (%)']]\n",
    "tmy_rh_only.head()"
   ]
  },
  {
   "cell_type": "code",
   "execution_count": 16,
   "metadata": {
    "collapsed": false
   },
   "outputs": [
    {
     "name": "stderr",
     "output_type": "stream",
     "text": [
      "C:\\Users\\dustin\\Anaconda\\lib\\site-packages\\IPython\\kernel\\__main__.py:2: SettingWithCopyWarning: A value is trying to be set on a copy of a slice from a DataFrame.\n",
      "Try using .loc[row_index,col_indexer] = value instead\n",
      "  from IPython.kernel.zmq import kernelapp as app\n"
     ]
    },
    {
     "data": {
      "text/html": [
       "<div style=\"max-height:1000px;max-width:1500px;overflow:auto;\">\n",
       "<table border=\"1\" class=\"dataframe\">\n",
       "  <thead>\n",
       "    <tr style=\"text-align: right;\">\n",
       "      <th></th>\n",
       "      <th>STATION_NAME</th>\n",
       "      <th>Date (MM/DD/YYYY)</th>\n",
       "      <th>Time (HH:MM)</th>\n",
       "      <th>RHum (%)</th>\n",
       "      <th>MONTH</th>\n",
       "    </tr>\n",
       "  </thead>\n",
       "  <tbody>\n",
       "    <tr>\n",
       "      <th>0</th>\n",
       "      <td> ANCHORAGE TED STEVENS INTERNATIONAL AIRPORT AK US</td>\n",
       "      <td>1976-01-01</td>\n",
       "      <td> 01:00</td>\n",
       "      <td> 92</td>\n",
       "      <td> 1</td>\n",
       "    </tr>\n",
       "    <tr>\n",
       "      <th>1</th>\n",
       "      <td> ANCHORAGE TED STEVENS INTERNATIONAL AIRPORT AK US</td>\n",
       "      <td>1976-01-01</td>\n",
       "      <td> 02:00</td>\n",
       "      <td> 92</td>\n",
       "      <td> 1</td>\n",
       "    </tr>\n",
       "    <tr>\n",
       "      <th>2</th>\n",
       "      <td> ANCHORAGE TED STEVENS INTERNATIONAL AIRPORT AK US</td>\n",
       "      <td>1976-01-01</td>\n",
       "      <td> 03:00</td>\n",
       "      <td> 92</td>\n",
       "      <td> 1</td>\n",
       "    </tr>\n",
       "    <tr>\n",
       "      <th>3</th>\n",
       "      <td> ANCHORAGE TED STEVENS INTERNATIONAL AIRPORT AK US</td>\n",
       "      <td>1976-01-01</td>\n",
       "      <td> 04:00</td>\n",
       "      <td> 92</td>\n",
       "      <td> 1</td>\n",
       "    </tr>\n",
       "    <tr>\n",
       "      <th>4</th>\n",
       "      <td> ANCHORAGE TED STEVENS INTERNATIONAL AIRPORT AK US</td>\n",
       "      <td>1976-01-01</td>\n",
       "      <td> 05:00</td>\n",
       "      <td> 92</td>\n",
       "      <td> 1</td>\n",
       "    </tr>\n",
       "  </tbody>\n",
       "</table>\n",
       "</div>"
      ],
      "text/plain": [
       "                                        STATION_NAME Date (MM/DD/YYYY)  \\\n",
       "0  ANCHORAGE TED STEVENS INTERNATIONAL AIRPORT AK US        1976-01-01   \n",
       "1  ANCHORAGE TED STEVENS INTERNATIONAL AIRPORT AK US        1976-01-01   \n",
       "2  ANCHORAGE TED STEVENS INTERNATIONAL AIRPORT AK US        1976-01-01   \n",
       "3  ANCHORAGE TED STEVENS INTERNATIONAL AIRPORT AK US        1976-01-01   \n",
       "4  ANCHORAGE TED STEVENS INTERNATIONAL AIRPORT AK US        1976-01-01   \n",
       "\n",
       "  Time (HH:MM)  RHum (%)  MONTH  \n",
       "0        01:00        92      1  \n",
       "1        02:00        92      1  \n",
       "2        03:00        92      1  \n",
       "3        04:00        92      1  \n",
       "4        05:00        92      1  "
      ]
     },
     "execution_count": 16,
     "metadata": {},
     "output_type": "execute_result"
    }
   ],
   "source": [
    "# Changes date to pandas DateTime format\n",
    "tmy_rh_only['Date (MM/DD/YYYY)'] = to_datetime(tmy_rh_only['Date (MM/DD/YYYY)'])\n",
    "# Creates month column\n",
    "tmy_rh_only['MONTH'] = pd.DatetimeIndex(tmy_rh_only['Date (MM/DD/YYYY)']).month\n",
    "tmy_rh_only.head()"
   ]
  },
  {
   "cell_type": "code",
   "execution_count": 17,
   "metadata": {
    "collapsed": false
   },
   "outputs": [
    {
     "data": {
      "text/html": [
       "<div style=\"max-height:1000px;max-width:1500px;overflow:auto;\">\n",
       "<table border=\"1\" class=\"dataframe\">\n",
       "  <thead>\n",
       "    <tr style=\"text-align: right;\">\n",
       "      <th></th>\n",
       "      <th></th>\n",
       "      <th>RHum (%)</th>\n",
       "    </tr>\n",
       "    <tr>\n",
       "      <th>STATION_NAME</th>\n",
       "      <th>MONTH</th>\n",
       "      <th></th>\n",
       "    </tr>\n",
       "  </thead>\n",
       "  <tbody>\n",
       "    <tr>\n",
       "      <th rowspan=\"5\" valign=\"top\">ANCHORAGE TED STEVENS INTERNATIONAL AIRPORT AK US</th>\n",
       "      <th>1</th>\n",
       "      <td> 75.784946</td>\n",
       "    </tr>\n",
       "    <tr>\n",
       "      <th>2</th>\n",
       "      <td> 77.026786</td>\n",
       "    </tr>\n",
       "    <tr>\n",
       "      <th>3</th>\n",
       "      <td> 60.801075</td>\n",
       "    </tr>\n",
       "    <tr>\n",
       "      <th>4</th>\n",
       "      <td> 64.655556</td>\n",
       "    </tr>\n",
       "    <tr>\n",
       "      <th>5</th>\n",
       "      <td> 61.629032</td>\n",
       "    </tr>\n",
       "  </tbody>\n",
       "</table>\n",
       "</div>"
      ],
      "text/plain": [
       "                                                          RHum (%)\n",
       "STATION_NAME                                      MONTH           \n",
       "ANCHORAGE TED STEVENS INTERNATIONAL AIRPORT AK US 1      75.784946\n",
       "                                                  2      77.026786\n",
       "                                                  3      60.801075\n",
       "                                                  4      64.655556\n",
       "                                                  5      61.629032"
      ]
     },
     "execution_count": 17,
     "metadata": {},
     "output_type": "execute_result"
    }
   ],
   "source": [
    "tmy_rh_grouped = tmy_rh_only.groupby(['STATION_NAME', 'MONTH']).mean()\n",
    "tmy_rh_grouped.head()"
   ]
  },
  {
   "cell_type": "code",
   "execution_count": 18,
   "metadata": {
    "collapsed": false
   },
   "outputs": [
    {
     "data": {
      "text/html": [
       "<div style=\"max-height:1000px;max-width:1500px;overflow:auto;\">\n",
       "<table border=\"1\" class=\"dataframe\">\n",
       "  <thead>\n",
       "    <tr style=\"text-align: right;\">\n",
       "      <th></th>\n",
       "      <th>STATION_NAME</th>\n",
       "      <th>MONTH</th>\n",
       "      <th>RHum (%)</th>\n",
       "    </tr>\n",
       "  </thead>\n",
       "  <tbody>\n",
       "    <tr>\n",
       "      <th>0</th>\n",
       "      <td> ANCHORAGE TED STEVENS INTERNATIONAL AIRPORT AK US</td>\n",
       "      <td> 1</td>\n",
       "      <td> 75.784946</td>\n",
       "    </tr>\n",
       "    <tr>\n",
       "      <th>1</th>\n",
       "      <td> ANCHORAGE TED STEVENS INTERNATIONAL AIRPORT AK US</td>\n",
       "      <td> 2</td>\n",
       "      <td> 77.026786</td>\n",
       "    </tr>\n",
       "    <tr>\n",
       "      <th>2</th>\n",
       "      <td> ANCHORAGE TED STEVENS INTERNATIONAL AIRPORT AK US</td>\n",
       "      <td> 3</td>\n",
       "      <td> 60.801075</td>\n",
       "    </tr>\n",
       "    <tr>\n",
       "      <th>3</th>\n",
       "      <td> ANCHORAGE TED STEVENS INTERNATIONAL AIRPORT AK US</td>\n",
       "      <td> 4</td>\n",
       "      <td> 64.655556</td>\n",
       "    </tr>\n",
       "    <tr>\n",
       "      <th>4</th>\n",
       "      <td> ANCHORAGE TED STEVENS INTERNATIONAL AIRPORT AK US</td>\n",
       "      <td> 5</td>\n",
       "      <td> 61.629032</td>\n",
       "    </tr>\n",
       "  </tbody>\n",
       "</table>\n",
       "</div>"
      ],
      "text/plain": [
       "                                        STATION_NAME  MONTH   RHum (%)\n",
       "0  ANCHORAGE TED STEVENS INTERNATIONAL AIRPORT AK US      1  75.784946\n",
       "1  ANCHORAGE TED STEVENS INTERNATIONAL AIRPORT AK US      2  77.026786\n",
       "2  ANCHORAGE TED STEVENS INTERNATIONAL AIRPORT AK US      3  60.801075\n",
       "3  ANCHORAGE TED STEVENS INTERNATIONAL AIRPORT AK US      4  64.655556\n",
       "4  ANCHORAGE TED STEVENS INTERNATIONAL AIRPORT AK US      5  61.629032"
      ]
     },
     "execution_count": 18,
     "metadata": {},
     "output_type": "execute_result"
    }
   ],
   "source": [
    "rh = tmy_rh_grouped.reset_index()\n",
    "rh.head()"
   ]
  },
  {
   "cell_type": "code",
   "execution_count": 19,
   "metadata": {
    "collapsed": false
   },
   "outputs": [],
   "source": [
    "rh.to_csv(\"relative_humidity_for_akwarm_library.csv\")"
   ]
  },
  {
   "cell_type": "code",
   "execution_count": 20,
   "metadata": {
    "collapsed": false
   },
   "outputs": [
    {
     "data": {
      "text/plain": [
       "<matplotlib.axes.AxesSubplot at 0x1a02d860>"
      ]
     },
     "execution_count": 20,
     "metadata": {},
     "output_type": "execute_result"
    },
    {
     "data": {
      "image/png": "[encoded data removed]",
      "text/plain": [
       "<matplotlib.figure.Figure at 0x1a050cc0>"
      ]
     },
     "metadata": {},
     "output_type": "display_data"
    }
   ],
   "source": [
    "plt.xlabel('Relative Humidity %')\n",
    "tmy_annual_rh['RHum (%)'].hist()"
   ]
  },
  {
   "cell_type": "code",
   "execution_count": null,
   "metadata": {
    "collapsed": true
   },
   "outputs": [],
   "source": []
  },
  {
   "cell_type": "code",
   "execution_count": null,
   "metadata": {
    "collapsed": true
   },
   "outputs": [],
   "source": []
  },
  {
   "cell_type": "code",
   "execution_count": null,
   "metadata": {
    "collapsed": true
   },
   "outputs": [],
   "source": []
  },
  {
   "cell_type": "code",
   "execution_count": null,
   "metadata": {
    "collapsed": true
   },
   "outputs": [],
   "source": []
  },
  {
   "cell_type": "code",
   "execution_count": null,
   "metadata": {
    "collapsed": true
   },
   "outputs": [],
   "source": []
  },
  {
   "cell_type": "code",
   "execution_count": null,
   "metadata": {
    "collapsed": true
   },
   "outputs": [],
   "source": []
  },
  {
   "cell_type": "code",
   "execution_count": null,
   "metadata": {
    "collapsed": true
   },
   "outputs": [],
   "source": []
  },
  {
   "cell_type": "code",
   "execution_count": null,
   "metadata": {
    "collapsed": true
   },
   "outputs": [],
   "source": []
  },
  {
   "cell_type": "code",
   "execution_count": null,
   "metadata": {
    "collapsed": true
   },
   "outputs": [],
   "source": []
  },
  {
   "cell_type": "code",
   "execution_count": null,
   "metadata": {
    "collapsed": true
   },
   "outputs": [],
   "source": []
  },
  {
   "cell_type": "code",
   "execution_count": null,
   "metadata": {
    "collapsed": true
   },
   "outputs": [],
   "source": []
  },
  {
   "cell_type": "code",
   "execution_count": null,
   "metadata": {
    "collapsed": true
   },
   "outputs": [],
   "source": []
  },
  {
   "cell_type": "code",
   "execution_count": null,
   "metadata": {
    "collapsed": true
   },
   "outputs": [],
   "source": []
  },
  {
   "cell_type": "code",
   "execution_count": null,
   "metadata": {
    "collapsed": true
   },
   "outputs": [],
   "source": []
  },
  {
   "cell_type": "code",
   "execution_count": null,
   "metadata": {
    "collapsed": true
   },
   "outputs": [],
   "source": []
  },
  {
   "cell_type": "code",
   "execution_count": null,
   "metadata": {
    "collapsed": true
   },
   "outputs": [],
   "source": []
  },
  {
   "cell_type": "code",
   "execution_count": null,
   "metadata": {
    "collapsed": true
   },
   "outputs": [],
   "source": []
  },
  {
   "cell_type": "code",
   "execution_count": null,
   "metadata": {
    "collapsed": true
   },
   "outputs": [],
   "source": []
  },
  {
   "cell_type": "code",
   "execution_count": null,
   "metadata": {
    "collapsed": true
   },
   "outputs": [],
   "source": []
  },
  {
   "cell_type": "code",
   "execution_count": null,
   "metadata": {
    "collapsed": true
   },
   "outputs": [],
   "source": []
  },
  {
   "cell_type": "code",
   "execution_count": null,
   "metadata": {
    "collapsed": true
   },
   "outputs": [],
   "source": []
  },
  {
   "cell_type": "code",
   "execution_count": null,
   "metadata": {
    "collapsed": true
   },
   "outputs": [],
   "source": []
  },
  {
   "cell_type": "code",
   "execution_count": null,
   "metadata": {
    "collapsed": true
   },
   "outputs": [],
   "source": []
  },
  {
   "cell_type": "code",
   "execution_count": null,
   "metadata": {
    "collapsed": true
   },
   "outputs": [],
   "source": []
  },
  {
   "cell_type": "code",
   "execution_count": null,
   "metadata": {
    "collapsed": true
   },
   "outputs": [],
   "source": []
  },
  {
   "cell_type": "code",
   "execution_count": null,
   "metadata": {
    "collapsed": true
   },
   "outputs": [],
   "source": []
  },
  {
   "cell_type": "code",
   "execution_count": null,
   "metadata": {
    "collapsed": true
   },
   "outputs": [],
   "source": []
  },
  {
   "cell_type": "code",
   "execution_count": null,
   "metadata": {
    "collapsed": true
   },
   "outputs": [],
   "source": []
  },
  {
   "cell_type": "code",
   "execution_count": null,
   "metadata": {
    "collapsed": true
   },
   "outputs": [],
   "source": []
  },
  {
   "cell_type": "code",
   "execution_count": null,
   "metadata": {
    "collapsed": true
   },
   "outputs": [],
   "source": []
  },
  {
   "cell_type": "code",
   "execution_count": null,
   "metadata": {
    "collapsed": true
   },
   "outputs": [],
   "source": []
  },
  {
   "cell_type": "code",
   "execution_count": null,
   "metadata": {
    "collapsed": true
   },
   "outputs": [],
   "source": []
  },
  {
   "cell_type": "code",
   "execution_count": null,
   "metadata": {
    "collapsed": true
   },
   "outputs": [],
   "source": []
  },
  {
   "cell_type": "code",
   "execution_count": null,
   "metadata": {
    "collapsed": true
   },
   "outputs": [],
   "source": []
  },
  {
   "cell_type": "code",
   "execution_count": null,
   "metadata": {
    "collapsed": true
   },
   "outputs": [],
   "source": []
  },
  {
   "cell_type": "code",
   "execution_count": null,
   "metadata": {
    "collapsed": true
   },
   "outputs": [],
   "source": []
  },
  {
   "cell_type": "code",
   "execution_count": null,
   "metadata": {
    "collapsed": true
   },
   "outputs": [],
   "source": []
  },
  {
   "cell_type": "code",
   "execution_count": null,
   "metadata": {
    "collapsed": true
   },
   "outputs": [],
   "source": []
  },
  {
   "cell_type": "code",
   "execution_count": null,
   "metadata": {
    "collapsed": true
   },
   "outputs": [],
   "source": []
  },
  {
   "cell_type": "code",
   "execution_count": null,
   "metadata": {
    "collapsed": true
   },
   "outputs": [],
   "source": []
  },
  {
   "cell_type": "code",
   "execution_count": null,
   "metadata": {
    "collapsed": true
   },
   "outputs": [],
   "source": []
  },
  {
   "cell_type": "code",
   "execution_count": null,
   "metadata": {
    "collapsed": true
   },
   "outputs": [],
   "source": []
  },
  {
   "cell_type": "code",
   "execution_count": null,
   "metadata": {
    "collapsed": true
   },
   "outputs": [],
   "source": []
  },
  {
   "cell_type": "code",
   "execution_count": null,
   "metadata": {
    "collapsed": true
   },
   "outputs": [],
   "source": []
  },
  {
   "cell_type": "code",
   "execution_count": null,
   "metadata": {
    "collapsed": true
   },
   "outputs": [],
   "source": []
  },
  {
   "cell_type": "code",
   "execution_count": null,
   "metadata": {
    "collapsed": true
   },
   "outputs": [],
   "source": []
  },
  {
   "cell_type": "code",
   "execution_count": null,
   "metadata": {
    "collapsed": true
   },
   "outputs": [],
   "source": []
  },
  {
   "cell_type": "code",
   "execution_count": null,
   "metadata": {
    "collapsed": true
   },
   "outputs": [],
   "source": []
  },
  {
   "cell_type": "code",
   "execution_count": null,
   "metadata": {
    "collapsed": true
   },
   "outputs": [],
   "source": []
  }
 ],
 "metadata": {
  "kernelspec": {
   "display_name": "Python 2",
   "language": "python",
   "name": "python2"
  },
  "language_info": {
   "codemirror_mode": {
    "name": "ipython",
    "version": 2
   },
   "file_extension": ".py",
   "mimetype": "text/x-python",
   "name": "python",
   "nbconvert_exporter": "python",
   "pygments_lexer": "ipython2",
   "version": "2.7.6"
  }
 },
 "nbformat": 4,
 "nbformat_minor": 0
}
