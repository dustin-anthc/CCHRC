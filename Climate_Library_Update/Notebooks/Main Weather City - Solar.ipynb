{
 "cells": [
  {
   "cell_type": "code",
   "execution_count": 22,
   "metadata": {
    "collapsed": false
   },
   "outputs": [
    {
     "name": "stdout",
     "output_type": "stream",
     "text": [
      "Pandas version: 0.14.0\n"
     ]
    }
   ],
   "source": [
    "import pandas as pd\n",
    "import numpy as np\n",
    "from random import sample\n",
    "from pandas import *\n",
    "import matplotlib.pyplot as plt\n",
    "import statsmodels.formula.api as smf\n",
    "\n",
    "# Libraries from Alan\n",
    "from __future__ import division\n",
    "import json\n",
    "import os\n",
    "from matplotlib.pyplot import *\n",
    "\n",
    "import requests\n",
    "#import tmy_ids\n",
    "\n",
    "# Show Plots in the Notebook\n",
    "%matplotlib inline\n",
    "\n",
    "# Make Plots larger\n",
    "rcParams['figure.figsize']= (10, 6)\n",
    "rcParams['font.size'] = 14\n",
    "\n",
    "%matplotlib inline\n",
    "\n",
    "print 'Pandas version: ' + pd.__version__"
   ]
  },
  {
   "cell_type": "code",
   "execution_count": 23,
   "metadata": {
    "collapsed": false
   },
   "outputs": [],
   "source": [
    "tmy3_to_noaa = [\n",
    "    (702730, 'Anchorage Intl AP', 'II', 'ANCHORAGE TED STEVENS INTERNATIONAL AIRPORT AK US'),\n",
    "    (703980, 'Annette Island AP', 'II',  'ANNETTE WEATHER SERVICE OFFICE AIRPORT AK US'),\n",
    "    (700260, 'Barrow W Post-W Rogers Arpt [NSA - ARM]', 'II', 'BARROW W POST W ROGERS AIRPORT AK US'),\n",
    "    (702190, 'Bethel Airport', 'II', 'BETHEL AIRPORT AK US'),\n",
    "    (701740, 'Bettles Field', 'II', 'BETTLES AIRPORT AK US'),\n",
    "    (702670, 'Big Delta Allen AAF', 'II', 'BIG DELTA AIRPORT AK US'),\n",
    "    (703160, 'Cold Bay Arpt', 'II', 'COLD BAY AIRPORT AK US'),\n",
    "    (702610, 'Fairbanks Intl Arpt', 'II', 'FAIRBANKS INTERNATIONAL AIRPORT AK US'),\n",
    "    (702710, 'Gulkana Intermediate Field', 'II',  'GULKANA AIRPORT AK US'),\n",
    "    (703410, 'Homer Arpt', 'II', 'HOMER AIRPORT AK US'),\n",
    "    (703810, 'Juneau Intl Arpt', 'II', 'JUNEAU INTERNATIONAL AIRPORT AK US'),\n",
    "    (703260, 'King Salmon Arpt', 'II', 'KING SALMON AIRPORT AK US'),\n",
    "    (703500, 'Kodiak Airport', 'II',  'KODIAK AIRPORT AK US'),\n",
    "    (701330, 'Kotzebue Ralph Wein Memorial', 'II', 'KOTZEBUE RALPH WEIN MEMORIAL AIRPORT AK '),\n",
    "    (702310, 'McGrath Arpt', 'II', 'MCGRATH AIRPORT AK US'),\n",
    "    (702000, 'Nome Municipal Arpt', 'II', 'NOME MUNICIPAL AIRPORT AK US'),\n",
    "    (703080, 'St Paul Island Arpt', 'II', 'ST PAUL ISLAND AIRPORT AK US'),\n",
    "    (702510, 'Talkeetna State Arpt', 'II', 'TALKEETNA AIRPORT AK US'),\n",
    "    (703610, 'Yakutat State Arpt', 'II', 'YAKUTAT AIRPORT AK US'),\n",
    "    (702986, 'Big River Lake', 'II', 'BIG RIVER LAKES AK US'),\n",
    "    (702960, 'Cordova', 'II','CORDOVA M K SMITH AIRPORT AK US'),\n",
    "    (704890, 'Dutch Harbor', 'II', 'DUTCH HARBOR AK US'),\n",
    "    (702650, 'Fairbanks/Eielson A', 'II', 'EIELSON FIELD AK US'),\n",
    "    \n",
    "    #'Homer Arpt' is 7 miles away from Homer 8 NW.  The airport is on the coast and the NW site is inland.\n",
    "    # Auke bay:  do we need this one?\n",
    "    # Alyeska: don't think we need it\n",
    "    # Cannery: middle of nowhere\n",
    "    # College 5 NW, College, North Pole, University Experiment Station are unnecessary since we have Fairbanks station\n",
    "    # Cooper landing: no nearby Tmy3\n",
    "    # Eagle airport - nothing nearby\n",
    "    # Glen alps : no station\n",
    "    # Kitoi bay : nothing nearby, on Kodiak island\n",
    "    # Kuparuk : 28 miles from deadhorse - use deadhorse tmy station?\n",
    "    # little port walter not near anything\n",
    "    # Matanuska Agricultural : 6 miles from Palmer Municipal TMY3 station\n",
    "    (702740, 'Palmer Municipal', 'II', 'MATANUSKA AGRICULTURAL EXPERIMENT STATION AK US'),\n",
    "    # main bay: not near anything\n",
    "    # Tok : nothing nearby\n",
    "    # White's crossing : no nearby tmy3\n",
    "    # Nabesna: nothing close\n",
    "    # Sutton: 10 miles from Palmer Municipal Airport tmy3 station\n",
    "    # Port Alsworth: Nothing nearby\n",
    "    (703400, 'Iliamna Arpt', 'II', 'ILIAMNA AIRPORT AK US'),\n",
    "    (702590, 'Kenai Municipal AP', 'II', 'KENAI MUNICIPAL AIRPORT AK US'),\n",
    "    (702910, 'Northway Airport', 'II', 'NORTHWAY AIRPORT AK US'),\n",
    "    (702770, 'Seward', 'II', 'SEWARD AIRPORT AK US'),\n",
    "    (703710, 'Sitka Japonski AP', 'II', 'SITKA AIRPORT AK US'),\n",
    "    (701780, 'Tanana Ralph M Calhoun Mem AP', 'II', 'TANANA CALHOUN MEMORIAL AIRPORT AK US'),\n",
    "    (702750, 'Valdez Wso', 'II', 'VALDEZ WEATHER SERVICE OFFICE AK US'),\n",
    "    (703870, 'Wrangell', 'II', 'WRANGELL AIRPORT AK US')\n",
    "]"
   ]
  },
  {
   "cell_type": "code",
   "execution_count": 24,
   "metadata": {
    "collapsed": false
   },
   "outputs": [
    {
     "data": {
      "text/plain": [
       "ids            32\n",
       "tmy_station    32\n",
       "tmy_class      32\n",
       "noaa_index     32\n",
       "dtype: int64"
      ]
     },
     "execution_count": 24,
     "metadata": {},
     "output_type": "execute_result"
    }
   ],
   "source": [
    "tmy_ids = DataFrame(tmy3_to_noaa, columns=['ids', 'tmy_station', 'tmy_class', 'noaa_index'])\n",
    "tmy_ids.count()"
   ]
  },
  {
   "cell_type": "code",
   "execution_count": 25,
   "metadata": {
    "collapsed": false
   },
   "outputs": [
    {
     "data": {
      "text/html": [
       "<div style=\"max-height:1000px;max-width:1500px;overflow:auto;\">\n",
       "<table border=\"1\" class=\"dataframe\">\n",
       "  <thead>\n",
       "    <tr style=\"text-align: right;\">\n",
       "      <th></th>\n",
       "      <th>Unnamed: 0</th>\n",
       "      <th>stn_id</th>\n",
       "      <th>stn_name</th>\n",
       "      <th>ghi_uncert</th>\n",
       "      <th>dni_uncert</th>\n",
       "      <th>tmy_type</th>\n",
       "      <th>tmy_class</th>\n",
       "      <th>south_vert_solar</th>\n",
       "      <th>elevation</th>\n",
       "      <th>latitude</th>\n",
       "      <th>longitude</th>\n",
       "      <th>label</th>\n",
       "    </tr>\n",
       "  </thead>\n",
       "  <tbody>\n",
       "    <tr>\n",
       "      <th>0</th>\n",
       "      <td>  3</td>\n",
       "      <td> 702730</td>\n",
       "      <td>                       Anchorage Intl AP</td>\n",
       "      <td> 0.110</td>\n",
       "      <td> 0.138</td>\n",
       "      <td> 3</td>\n",
       "      <td> II</td>\n",
       "      <td> 2.43</td>\n",
       "      <td>  35</td>\n",
       "      <td> 61.182999</td>\n",
       "      <td>-150.000000</td>\n",
       "      <td> 2.43-0.14</td>\n",
       "    </tr>\n",
       "    <tr>\n",
       "      <th>1</th>\n",
       "      <td>  7</td>\n",
       "      <td> 703980</td>\n",
       "      <td>                       Annette Island AP</td>\n",
       "      <td> 0.108</td>\n",
       "      <td> 0.124</td>\n",
       "      <td> 3</td>\n",
       "      <td> II</td>\n",
       "      <td> 2.15</td>\n",
       "      <td>  33</td>\n",
       "      <td> 55.049999</td>\n",
       "      <td>-131.567001</td>\n",
       "      <td> 2.15-0.12</td>\n",
       "    </tr>\n",
       "    <tr>\n",
       "      <th>2</th>\n",
       "      <td>  9</td>\n",
       "      <td> 700260</td>\n",
       "      <td> Barrow W Post-W Rogers Arpt [NSA - ARM]</td>\n",
       "      <td> 0.105</td>\n",
       "      <td> 0.092</td>\n",
       "      <td> 3</td>\n",
       "      <td> II</td>\n",
       "      <td> 1.98</td>\n",
       "      <td>  10</td>\n",
       "      <td> 71.320000</td>\n",
       "      <td>-156.619995</td>\n",
       "      <td> 1.98-0.09</td>\n",
       "    </tr>\n",
       "    <tr>\n",
       "      <th>3</th>\n",
       "      <td> 10</td>\n",
       "      <td> 702190</td>\n",
       "      <td>                          Bethel Airport</td>\n",
       "      <td> 0.113</td>\n",
       "      <td> 0.130</td>\n",
       "      <td> 3</td>\n",
       "      <td> II</td>\n",
       "      <td> 2.52</td>\n",
       "      <td>  38</td>\n",
       "      <td> 60.783001</td>\n",
       "      <td>-161.832993</td>\n",
       "      <td> 2.52-0.13</td>\n",
       "    </tr>\n",
       "    <tr>\n",
       "      <th>4</th>\n",
       "      <td> 11</td>\n",
       "      <td> 701740</td>\n",
       "      <td>                           Bettles Field</td>\n",
       "      <td> 0.113</td>\n",
       "      <td> 0.137</td>\n",
       "      <td> 3</td>\n",
       "      <td> II</td>\n",
       "      <td> 2.73</td>\n",
       "      <td> 196</td>\n",
       "      <td> 66.917000</td>\n",
       "      <td>-151.516998</td>\n",
       "      <td> 2.73-0.14</td>\n",
       "    </tr>\n",
       "  </tbody>\n",
       "</table>\n",
       "</div>"
      ],
      "text/plain": [
       "   Unnamed: 0  stn_id                                 stn_name  ghi_uncert  \\\n",
       "0           3  702730                        Anchorage Intl AP       0.110   \n",
       "1           7  703980                        Annette Island AP       0.108   \n",
       "2           9  700260  Barrow W Post-W Rogers Arpt [NSA - ARM]       0.105   \n",
       "3          10  702190                           Bethel Airport       0.113   \n",
       "4          11  701740                            Bettles Field       0.113   \n",
       "\n",
       "   dni_uncert  tmy_type tmy_class  south_vert_solar  elevation   latitude  \\\n",
       "0       0.138         3        II              2.43         35  61.182999   \n",
       "1       0.124         3        II              2.15         33  55.049999   \n",
       "2       0.092         3        II              1.98         10  71.320000   \n",
       "3       0.130         3        II              2.52         38  60.783001   \n",
       "4       0.137         3        II              2.73        196  66.917000   \n",
       "\n",
       "    longitude      label  \n",
       "0 -150.000000  2.43-0.14  \n",
       "1 -131.567001  2.15-0.12  \n",
       "2 -156.619995  1.98-0.09  \n",
       "3 -161.832993  2.52-0.13  \n",
       "4 -151.516998  2.73-0.14  "
      ]
     },
     "execution_count": 25,
     "metadata": {},
     "output_type": "execute_result"
    }
   ],
   "source": [
    "final_solar = pd.read_csv(r\"C:\\Users\\dustin\\Documents\\IPython Notebooks\\final_solar_sites.csv\")\n",
    "final_solar.head()"
   ]
  },
  {
   "cell_type": "code",
   "execution_count": 26,
   "metadata": {
    "collapsed": false
   },
   "outputs": [
    {
     "data": {
      "text/plain": [
       "[(702730L, 'Anchorage Intl AP', 'II'),\n",
       " (703980L, 'Annette Island AP', 'II'),\n",
       " (700260L, 'Barrow W Post-W Rogers Arpt [NSA - ARM]', 'II'),\n",
       " (702190L, 'Bethel Airport', 'II'),\n",
       " (701740L, 'Bettles Field', 'II'),\n",
       " (702670L, 'Big Delta Allen AAF', 'II'),\n",
       " (703160L, 'Cold Bay Arpt', 'II'),\n",
       " (702610L, 'Fairbanks Intl Arpt', 'II'),\n",
       " (702710L, 'Gulkana Intermediate Field', 'II'),\n",
       " (703410L, 'Homer Arpt', 'II'),\n",
       " (703810L, 'Juneau Intl Arpt', 'II'),\n",
       " (703260L, 'King Salmon Arpt', 'II'),\n",
       " (703500L, 'Kodiak Airport', 'II'),\n",
       " (701330L, 'Kotzebue Ralph Wein Memorial', 'II'),\n",
       " (702310L, 'McGrath Arpt', 'II'),\n",
       " (702000L, 'Nome Municipal Arpt', 'II'),\n",
       " (703080L, 'St Paul Island Arpt', 'II'),\n",
       " (702510L, 'Talkeetna State Arpt', 'II'),\n",
       " (702750L, 'Valdez Wso', 'II'),\n",
       " (703610L, 'Yakutat State Arpt', 'II')]"
      ]
     },
     "execution_count": 26,
     "metadata": {},
     "output_type": "execute_result"
    }
   ],
   "source": [
    "subset = final_solar[['stn_id', 'stn_name', 'tmy_class']]\n",
    "final_solar_tuple = [tuple(x) for x in subset.values]\n",
    "final_solar_tuple"
   ]
  },
  {
   "cell_type": "code",
   "execution_count": 27,
   "metadata": {
    "collapsed": true
   },
   "outputs": [],
   "source": [
    "# PVWatts Helper functions.  PVWatts is used to calculate vertical south-facing solar.\n",
    "\n",
    "def pvw_inputs():\n",
    "    '''Returns a default set of PVWatts inputs.\n",
    "    Note that there are other inputs documented here:  http://developer.nrel.gov/docs/solar/pvwatts-v5/\n",
    "    For example, the 'timeframe' input will allow you to get back hourly results if you want.\n",
    "    '''\n",
    "    # substitute your NREL API Key here.  Dustin's key:  4kV70P6KKoeySaf4ZCEmEtQRZt7ngjrPtzo0zUKB \n",
    "    # See: http://developer.nrel.gov/docs/api-key/\n",
    "    p = {'api_key': '4kV70P6KKoeySaf4ZCEmEtQRZt7ngjrPtzo0zUKB'}\n",
    "    p['system_capacity'] = 1.0\n",
    "    p['module_type'] = 0\n",
    "    p['losses'] =  14\n",
    "    p['array_type'] = 0\n",
    "    p['azimuth'] =  180.0\n",
    "    p['tilt'] = 48\n",
    "    return p\n",
    "\n",
    "def pvwatts(inputs):\n",
    "    '''Run PVWatts and return the results as a Python dictionary.\n",
    "    '''\n",
    "    res = json.loads(requests.get('http://developer.nrel.gov/api/pvwatts/v5.json', params=inputs).text)\n",
    "    # separate out just the outputs of the run and return that as the first element of the tuple.\n",
    "    # The second return item is the full results dictionary which includes the inputs as well.\n",
    "    return res['outputs'], res"
   ]
  },
  {
   "cell_type": "code",
   "execution_count": 28,
   "metadata": {
    "collapsed": true
   },
   "outputs": [],
   "source": [
    "def calc_solar(file_id, azimuth):\n",
    "    '''Runs PVWatts for south facing vertical using the climate data in \n",
    "    the climate file with id 'file_id'.  Returns key results in a dictionary.\n",
    "    '''\n",
    "    inputs = pvw_inputs()\n",
    "    inputs['file_id'] = file_id\n",
    "    inputs['tilt'] = 90    # get vertical solar\n",
    "    inputs['azimuth'] = azimuth\n",
    "    outs, all = pvwatts(inputs)\n",
    "    results = {'latitude': all['station_info']['lat'], \n",
    "               'longitude': all['station_info']['lon'],\n",
    "               'elevation': all['station_info']['elev'],\n",
    "               'south_vert_solar': round(outs['solrad_annual'], 2)\n",
    "              }\n",
    "    return results\n",
    "    "
   ]
  },
  {
   "cell_type": "code",
   "execution_count": 29,
   "metadata": {
    "collapsed": false
   },
   "outputs": [],
   "source": [
    "'''Runs PVWatts for eacah compass direction using the climate data in the \n",
    "climate file with id 'file_id'.  Returns key results in a dictionary.\n",
    "'''\n",
    "def compass_vert_solar(file_id):\n",
    "    compass_directions = [0.0, 90.0, 180.0, 270.0]\n",
    "    inputs = pvw_inputs()\n",
    "    inputs['file_id'] = file_id\n",
    "    inputs['tilt'] = 90 #get vertical solar\n",
    "    outs, all = pvwatts(inputs)\n",
    "    results = {'latitude': all['station_info']['lat'], \n",
    "               'longitude': all['station_info']['lon'],\n",
    "               'elevation': all['station_info']['elev'],\n",
    "               'month': [1,2,3,4,5,6,7,8,9,10,11,12]\n",
    "               }\n",
    "    \n",
    "    # Get monthly solar radiation for all 4 cardinal compass directions.\n",
    "    for direction in compass_directions:\n",
    "               inputs['azimuth'] = direction\n",
    "               outs, all = pvwatts(inputs)\n",
    "               column_name = 'azimuth - %d' % direction\n",
    "               results[column_name] = outs['solrad_monthly']\n",
    "                \n",
    "    #get horizontal solar\n",
    "    inputs['tilt'] = 0\n",
    "    outs, all = pvwatts(inputs)\n",
    "    results['Horizontal_Solar'] = outs['solrad_monthly']\n",
    "    \n",
    "    # Format as DF\n",
    "    results = pd.DataFrame(results)\n",
    "    return results\n",
    "        "
   ]
  },
  {
   "cell_type": "code",
   "execution_count": 30,
   "metadata": {
    "collapsed": false
   },
   "outputs": [],
   "source": [
    "# Check horizontal solar calcs\n",
    "#inputs = pvw_inputs()\n",
    "#inputs['file_id'] = '1-702730'\n",
    "#inputs['tilt'] = 0\n",
    "#outs, all = pvwatts(inputs)\n",
    "#results = outs['solrad_monthly']\n",
    "#results = pd.DataFrame(results)\n",
    "#inputs['azimuth'] = 0\n",
    "#outs, all = pvwatts(inputs)\n",
    "#results['North'] = outs['solrad_monthly']\n",
    "#results"
   ]
  },
  {
   "cell_type": "code",
   "execution_count": 31,
   "metadata": {
    "collapsed": false
   },
   "outputs": [
    {
     "data": {
      "text/html": [
       "<div style=\"max-height:1000px;max-width:1500px;overflow:auto;\">\n",
       "<table border=\"1\" class=\"dataframe\">\n",
       "  <thead>\n",
       "    <tr style=\"text-align: right;\">\n",
       "      <th></th>\n",
       "      <th>Horizontal_Solar</th>\n",
       "      <th>azimuth - 0</th>\n",
       "      <th>azimuth - 180</th>\n",
       "      <th>azimuth - 270</th>\n",
       "      <th>azimuth - 90</th>\n",
       "      <th>elevation</th>\n",
       "      <th>latitude</th>\n",
       "      <th>longitude</th>\n",
       "      <th>month</th>\n",
       "      <th>tmy_type</th>\n",
       "      <th>tmy_class</th>\n",
       "      <th>stn_id</th>\n",
       "      <th>stn_name</th>\n",
       "    </tr>\n",
       "  </thead>\n",
       "  <tbody>\n",
       "    <tr>\n",
       "      <th>0</th>\n",
       "      <td> 0.286398</td>\n",
       "      <td> 0.129053</td>\n",
       "      <td> 0.767704</td>\n",
       "      <td> 0.221557</td>\n",
       "      <td> 0.229549</td>\n",
       "      <td> 35</td>\n",
       "      <td> 61.182999</td>\n",
       "      <td>-150</td>\n",
       "      <td> 1</td>\n",
       "      <td> 3</td>\n",
       "      <td> II</td>\n",
       "      <td> 702730</td>\n",
       "      <td> Anchorage Intl AP</td>\n",
       "    </tr>\n",
       "    <tr>\n",
       "      <th>1</th>\n",
       "      <td> 1.073078</td>\n",
       "      <td> 0.367618</td>\n",
       "      <td> 2.639147</td>\n",
       "      <td> 0.945464</td>\n",
       "      <td> 0.897813</td>\n",
       "      <td> 35</td>\n",
       "      <td> 61.182999</td>\n",
       "      <td>-150</td>\n",
       "      <td> 2</td>\n",
       "      <td> 3</td>\n",
       "      <td> II</td>\n",
       "      <td> 702730</td>\n",
       "      <td> Anchorage Intl AP</td>\n",
       "    </tr>\n",
       "    <tr>\n",
       "      <th>2</th>\n",
       "      <td> 2.224414</td>\n",
       "      <td> 0.726061</td>\n",
       "      <td> 3.110145</td>\n",
       "      <td> 1.678331</td>\n",
       "      <td> 1.588174</td>\n",
       "      <td> 35</td>\n",
       "      <td> 61.182999</td>\n",
       "      <td>-150</td>\n",
       "      <td> 3</td>\n",
       "      <td> 3</td>\n",
       "      <td> II</td>\n",
       "      <td> 702730</td>\n",
       "      <td> Anchorage Intl AP</td>\n",
       "    </tr>\n",
       "    <tr>\n",
       "      <th>3</th>\n",
       "      <td> 3.527861</td>\n",
       "      <td> 1.119363</td>\n",
       "      <td> 3.533270</td>\n",
       "      <td> 2.357856</td>\n",
       "      <td> 2.488320</td>\n",
       "      <td> 35</td>\n",
       "      <td> 61.182999</td>\n",
       "      <td>-150</td>\n",
       "      <td> 4</td>\n",
       "      <td> 3</td>\n",
       "      <td> II</td>\n",
       "      <td> 702730</td>\n",
       "      <td> Anchorage Intl AP</td>\n",
       "    </tr>\n",
       "    <tr>\n",
       "      <th>4</th>\n",
       "      <td> 4.483374</td>\n",
       "      <td> 1.637356</td>\n",
       "      <td> 3.239341</td>\n",
       "      <td> 2.818602</td>\n",
       "      <td> 2.931602</td>\n",
       "      <td> 35</td>\n",
       "      <td> 61.182999</td>\n",
       "      <td>-150</td>\n",
       "      <td> 5</td>\n",
       "      <td> 3</td>\n",
       "      <td> II</td>\n",
       "      <td> 702730</td>\n",
       "      <td> Anchorage Intl AP</td>\n",
       "    </tr>\n",
       "  </tbody>\n",
       "</table>\n",
       "</div>"
      ],
      "text/plain": [
       "   Horizontal_Solar  azimuth - 0  azimuth - 180  azimuth - 270  azimuth - 90  \\\n",
       "0          0.286398     0.129053       0.767704       0.221557      0.229549   \n",
       "1          1.073078     0.367618       2.639147       0.945464      0.897813   \n",
       "2          2.224414     0.726061       3.110145       1.678331      1.588174   \n",
       "3          3.527861     1.119363       3.533270       2.357856      2.488320   \n",
       "4          4.483374     1.637356       3.239341       2.818602      2.931602   \n",
       "\n",
       "   elevation   latitude  longitude  month  tmy_type tmy_class  stn_id  \\\n",
       "0         35  61.182999       -150      1         3        II  702730   \n",
       "1         35  61.182999       -150      2         3        II  702730   \n",
       "2         35  61.182999       -150      3         3        II  702730   \n",
       "3         35  61.182999       -150      4         3        II  702730   \n",
       "4         35  61.182999       -150      5         3        II  702730   \n",
       "\n",
       "            stn_name  \n",
       "0  Anchorage Intl AP  \n",
       "1  Anchorage Intl AP  \n",
       "2  Anchorage Intl AP  \n",
       "3  Anchorage Intl AP  \n",
       "4  Anchorage Intl AP  "
      ]
     },
     "execution_count": 31,
     "metadata": {},
     "output_type": "execute_result"
    }
   ],
   "source": [
    "# Calculate the solar values for each site and then append it to a dataframe\n",
    "outputs = pd.DataFrame()\n",
    "\n",
    "for ids, site, tmy_class in final_solar_tuple:\n",
    "    res = compass_vert_solar('1-%s' % ids)\n",
    "    res['tmy_type'] = 3\n",
    "    res['tmy_class'] =  tmy_class\n",
    "    res['stn_id'] = ids\n",
    "    res['stn_name'] = site\n",
    "    outputs = outputs.append(res)\n",
    "\n",
    "outputs.head()            "
   ]
  },
  {
   "cell_type": "code",
   "execution_count": 32,
   "metadata": {
    "collapsed": false
   },
   "outputs": [
    {
     "data": {
      "text/html": [
       "<div style=\"max-height:1000px;max-width:1500px;overflow:auto;\">\n",
       "<table border=\"1\" class=\"dataframe\">\n",
       "  <thead>\n",
       "    <tr style=\"text-align: right;\">\n",
       "      <th></th>\n",
       "      <th>stn_id</th>\n",
       "      <th>stn_name</th>\n",
       "      <th>month</th>\n",
       "      <th>tmy_type</th>\n",
       "      <th>tmy_class</th>\n",
       "      <th>South_Vert_Solar</th>\n",
       "      <th>East_Vert_Solar</th>\n",
       "      <th>West_Vert_Solar</th>\n",
       "      <th>North_Vert_Solar</th>\n",
       "      <th>HorizSol</th>\n",
       "      <th>elevation</th>\n",
       "      <th>latitude</th>\n",
       "      <th>longitude</th>\n",
       "    </tr>\n",
       "  </thead>\n",
       "  <tbody>\n",
       "    <tr>\n",
       "      <th>0</th>\n",
       "      <td> 702730</td>\n",
       "      <td> Anchorage Intl AP</td>\n",
       "      <td> 1</td>\n",
       "      <td> 3</td>\n",
       "      <td> II</td>\n",
       "      <td>  243.439017</td>\n",
       "      <td>  72.790127</td>\n",
       "      <td>  70.255741</td>\n",
       "      <td>  40.922696</td>\n",
       "      <td>   90.816917</td>\n",
       "      <td> 35</td>\n",
       "      <td> 61.182999</td>\n",
       "      <td>-150</td>\n",
       "    </tr>\n",
       "    <tr>\n",
       "      <th>1</th>\n",
       "      <td> 702730</td>\n",
       "      <td> Anchorage Intl AP</td>\n",
       "      <td> 2</td>\n",
       "      <td> 3</td>\n",
       "      <td> II</td>\n",
       "      <td>  836.873376</td>\n",
       "      <td> 284.696415</td>\n",
       "      <td> 299.806488</td>\n",
       "      <td> 116.571676</td>\n",
       "      <td>  340.273159</td>\n",
       "      <td> 35</td>\n",
       "      <td> 61.182999</td>\n",
       "      <td>-150</td>\n",
       "    </tr>\n",
       "    <tr>\n",
       "      <th>2</th>\n",
       "      <td> 702730</td>\n",
       "      <td> Anchorage Intl AP</td>\n",
       "      <td> 3</td>\n",
       "      <td> 3</td>\n",
       "      <td> II</td>\n",
       "      <td>  986.226933</td>\n",
       "      <td> 503.609820</td>\n",
       "      <td> 532.198766</td>\n",
       "      <td> 230.233863</td>\n",
       "      <td>  705.361790</td>\n",
       "      <td> 35</td>\n",
       "      <td> 61.182999</td>\n",
       "      <td>-150</td>\n",
       "    </tr>\n",
       "    <tr>\n",
       "      <th>3</th>\n",
       "      <td> 702730</td>\n",
       "      <td> Anchorage Intl AP</td>\n",
       "      <td> 4</td>\n",
       "      <td> 3</td>\n",
       "      <td> II</td>\n",
       "      <td> 1120.400031</td>\n",
       "      <td> 789.046156</td>\n",
       "      <td> 747.676149</td>\n",
       "      <td> 354.949878</td>\n",
       "      <td> 1118.684836</td>\n",
       "      <td> 35</td>\n",
       "      <td> 61.182999</td>\n",
       "      <td>-150</td>\n",
       "    </tr>\n",
       "    <tr>\n",
       "      <th>4</th>\n",
       "      <td> 702730</td>\n",
       "      <td> Anchorage Intl AP</td>\n",
       "      <td> 5</td>\n",
       "      <td> 3</td>\n",
       "      <td> II</td>\n",
       "      <td> 1027.195038</td>\n",
       "      <td> 929.611070</td>\n",
       "      <td> 893.778646</td>\n",
       "      <td> 519.205526</td>\n",
       "      <td> 1421.677782</td>\n",
       "      <td> 35</td>\n",
       "      <td> 61.182999</td>\n",
       "      <td>-150</td>\n",
       "    </tr>\n",
       "  </tbody>\n",
       "</table>\n",
       "</div>"
      ],
      "text/plain": [
       "   stn_id           stn_name  month  tmy_type tmy_class  South_Vert_Solar  \\\n",
       "0  702730  Anchorage Intl AP      1         3        II        243.439017   \n",
       "1  702730  Anchorage Intl AP      2         3        II        836.873376   \n",
       "2  702730  Anchorage Intl AP      3         3        II        986.226933   \n",
       "3  702730  Anchorage Intl AP      4         3        II       1120.400031   \n",
       "4  702730  Anchorage Intl AP      5         3        II       1027.195038   \n",
       "\n",
       "   East_Vert_Solar  West_Vert_Solar  North_Vert_Solar     HorizSol  elevation  \\\n",
       "0        72.790127        70.255741         40.922696    90.816917         35   \n",
       "1       284.696415       299.806488        116.571676   340.273159         35   \n",
       "2       503.609820       532.198766        230.233863   705.361790         35   \n",
       "3       789.046156       747.676149        354.949878  1118.684836         35   \n",
       "4       929.611070       893.778646        519.205526  1421.677782         35   \n",
       "\n",
       "    latitude  longitude  \n",
       "0  61.182999       -150  \n",
       "1  61.182999       -150  \n",
       "2  61.182999       -150  \n",
       "3  61.182999       -150  \n",
       "4  61.182999       -150  "
      ]
     },
     "execution_count": 32,
     "metadata": {},
     "output_type": "execute_result"
    }
   ],
   "source": [
    "# Convert from kWh/m2/day to Btu/ft2/day\n",
    "outputs['East_Vert_Solar'] = outputs['azimuth - 90'] * 317.1\n",
    "outputs['North_Vert_Solar'] = outputs['azimuth - 0'] * 317.1\n",
    "outputs['West_Vert_Solar'] = outputs['azimuth - 270'] * 317.1\n",
    "outputs['South_Vert_Solar'] = outputs['azimuth - 180'] * 317.1\n",
    "outputs['HorizSol'] = outputs['Horizontal_Solar'] * 317.1\n",
    "outputs = outputs.drop(['azimuth - 0','azimuth - 90','azimuth - 180','azimuth - 270', 'Horizontal_Solar'], 1)\n",
    "\n",
    "# Reorder the columns\n",
    "outputs = outputs.reindex_axis(['stn_id', 'stn_name', 'month', 'tmy_type', 'tmy_class', 'South_Vert_Solar','East_Vert_Solar', 'West_Vert_Solar','North_Vert_Solar','HorizSol' , 'elevation', 'latitude', 'longitude'], axis=1)\n",
    "\n",
    "outputs.head()"
   ]
  },
  {
   "cell_type": "code",
   "execution_count": 33,
   "metadata": {
    "collapsed": false
   },
   "outputs": [
    {
     "data": {
      "text/html": [
       "<div style=\"max-height:1000px;max-width:1500px;overflow:auto;\">\n",
       "<table border=\"1\" class=\"dataframe\">\n",
       "  <thead>\n",
       "    <tr style=\"text-align: right;\">\n",
       "      <th></th>\n",
       "      <th>stn_id</th>\n",
       "      <th>stn_name</th>\n",
       "      <th>month</th>\n",
       "      <th>tmy_type</th>\n",
       "      <th>tmy_class_x</th>\n",
       "      <th>South_Vert_Solar</th>\n",
       "      <th>East_Vert_Solar</th>\n",
       "      <th>West_Vert_Solar</th>\n",
       "      <th>North_Vert_Solar</th>\n",
       "      <th>HorizSol</th>\n",
       "      <th>elevation</th>\n",
       "      <th>latitude</th>\n",
       "      <th>longitude</th>\n",
       "      <th>ids</th>\n",
       "      <th>tmy_station</th>\n",
       "      <th>tmy_class_y</th>\n",
       "      <th>noaa_index</th>\n",
       "    </tr>\n",
       "  </thead>\n",
       "  <tbody>\n",
       "    <tr>\n",
       "      <th>0</th>\n",
       "      <td> 702730</td>\n",
       "      <td> Anchorage Intl AP</td>\n",
       "      <td> 1</td>\n",
       "      <td> 3</td>\n",
       "      <td> II</td>\n",
       "      <td>  243.439017</td>\n",
       "      <td>  72.790127</td>\n",
       "      <td>  70.255741</td>\n",
       "      <td>  40.922696</td>\n",
       "      <td>   90.816917</td>\n",
       "      <td> 35</td>\n",
       "      <td> 61.182999</td>\n",
       "      <td>-150</td>\n",
       "      <td> 702730</td>\n",
       "      <td> Anchorage Intl AP</td>\n",
       "      <td> II</td>\n",
       "      <td> ANCHORAGE TED STEVENS INTERNATIONAL AIRPORT AK US</td>\n",
       "    </tr>\n",
       "    <tr>\n",
       "      <th>1</th>\n",
       "      <td> 702730</td>\n",
       "      <td> Anchorage Intl AP</td>\n",
       "      <td> 2</td>\n",
       "      <td> 3</td>\n",
       "      <td> II</td>\n",
       "      <td>  836.873376</td>\n",
       "      <td> 284.696415</td>\n",
       "      <td> 299.806488</td>\n",
       "      <td> 116.571676</td>\n",
       "      <td>  340.273159</td>\n",
       "      <td> 35</td>\n",
       "      <td> 61.182999</td>\n",
       "      <td>-150</td>\n",
       "      <td> 702730</td>\n",
       "      <td> Anchorage Intl AP</td>\n",
       "      <td> II</td>\n",
       "      <td> ANCHORAGE TED STEVENS INTERNATIONAL AIRPORT AK US</td>\n",
       "    </tr>\n",
       "    <tr>\n",
       "      <th>2</th>\n",
       "      <td> 702730</td>\n",
       "      <td> Anchorage Intl AP</td>\n",
       "      <td> 3</td>\n",
       "      <td> 3</td>\n",
       "      <td> II</td>\n",
       "      <td>  986.226933</td>\n",
       "      <td> 503.609820</td>\n",
       "      <td> 532.198766</td>\n",
       "      <td> 230.233863</td>\n",
       "      <td>  705.361790</td>\n",
       "      <td> 35</td>\n",
       "      <td> 61.182999</td>\n",
       "      <td>-150</td>\n",
       "      <td> 702730</td>\n",
       "      <td> Anchorage Intl AP</td>\n",
       "      <td> II</td>\n",
       "      <td> ANCHORAGE TED STEVENS INTERNATIONAL AIRPORT AK US</td>\n",
       "    </tr>\n",
       "    <tr>\n",
       "      <th>3</th>\n",
       "      <td> 702730</td>\n",
       "      <td> Anchorage Intl AP</td>\n",
       "      <td> 4</td>\n",
       "      <td> 3</td>\n",
       "      <td> II</td>\n",
       "      <td> 1120.400031</td>\n",
       "      <td> 789.046156</td>\n",
       "      <td> 747.676149</td>\n",
       "      <td> 354.949878</td>\n",
       "      <td> 1118.684836</td>\n",
       "      <td> 35</td>\n",
       "      <td> 61.182999</td>\n",
       "      <td>-150</td>\n",
       "      <td> 702730</td>\n",
       "      <td> Anchorage Intl AP</td>\n",
       "      <td> II</td>\n",
       "      <td> ANCHORAGE TED STEVENS INTERNATIONAL AIRPORT AK US</td>\n",
       "    </tr>\n",
       "    <tr>\n",
       "      <th>4</th>\n",
       "      <td> 702730</td>\n",
       "      <td> Anchorage Intl AP</td>\n",
       "      <td> 5</td>\n",
       "      <td> 3</td>\n",
       "      <td> II</td>\n",
       "      <td> 1027.195038</td>\n",
       "      <td> 929.611070</td>\n",
       "      <td> 893.778646</td>\n",
       "      <td> 519.205526</td>\n",
       "      <td> 1421.677782</td>\n",
       "      <td> 35</td>\n",
       "      <td> 61.182999</td>\n",
       "      <td>-150</td>\n",
       "      <td> 702730</td>\n",
       "      <td> Anchorage Intl AP</td>\n",
       "      <td> II</td>\n",
       "      <td> ANCHORAGE TED STEVENS INTERNATIONAL AIRPORT AK US</td>\n",
       "    </tr>\n",
       "  </tbody>\n",
       "</table>\n",
       "</div>"
      ],
      "text/plain": [
       "   stn_id           stn_name  month  tmy_type tmy_class_x  South_Vert_Solar  \\\n",
       "0  702730  Anchorage Intl AP      1         3          II        243.439017   \n",
       "1  702730  Anchorage Intl AP      2         3          II        836.873376   \n",
       "2  702730  Anchorage Intl AP      3         3          II        986.226933   \n",
       "3  702730  Anchorage Intl AP      4         3          II       1120.400031   \n",
       "4  702730  Anchorage Intl AP      5         3          II       1027.195038   \n",
       "\n",
       "   East_Vert_Solar  West_Vert_Solar  North_Vert_Solar     HorizSol  elevation  \\\n",
       "0        72.790127        70.255741         40.922696    90.816917         35   \n",
       "1       284.696415       299.806488        116.571676   340.273159         35   \n",
       "2       503.609820       532.198766        230.233863   705.361790         35   \n",
       "3       789.046156       747.676149        354.949878  1118.684836         35   \n",
       "4       929.611070       893.778646        519.205526  1421.677782         35   \n",
       "\n",
       "    latitude  longitude     ids        tmy_station tmy_class_y  \\\n",
       "0  61.182999       -150  702730  Anchorage Intl AP          II   \n",
       "1  61.182999       -150  702730  Anchorage Intl AP          II   \n",
       "2  61.182999       -150  702730  Anchorage Intl AP          II   \n",
       "3  61.182999       -150  702730  Anchorage Intl AP          II   \n",
       "4  61.182999       -150  702730  Anchorage Intl AP          II   \n",
       "\n",
       "                                          noaa_index  \n",
       "0  ANCHORAGE TED STEVENS INTERNATIONAL AIRPORT AK US  \n",
       "1  ANCHORAGE TED STEVENS INTERNATIONAL AIRPORT AK US  \n",
       "2  ANCHORAGE TED STEVENS INTERNATIONAL AIRPORT AK US  \n",
       "3  ANCHORAGE TED STEVENS INTERNATIONAL AIRPORT AK US  \n",
       "4  ANCHORAGE TED STEVENS INTERNATIONAL AIRPORT AK US  "
      ]
     },
     "execution_count": 33,
     "metadata": {},
     "output_type": "execute_result"
    }
   ],
   "source": [
    "solar_df = outputs.merge(tmy_ids, left_on='stn_id', right_on='ids', how='left')\n",
    "solar_df.head()"
   ]
  },
  {
   "cell_type": "code",
   "execution_count": 34,
   "metadata": {
    "collapsed": false
   },
   "outputs": [
    {
     "data": {
      "text/html": [
       "<div style=\"max-height:1000px;max-width:1500px;overflow:auto;\">\n",
       "<table border=\"1\" class=\"dataframe\">\n",
       "  <thead>\n",
       "    <tr style=\"text-align: right;\">\n",
       "      <th></th>\n",
       "      <th>station_name</th>\n",
       "      <th>month</th>\n",
       "      <th>South_Vert_Solar</th>\n",
       "      <th>East_Vert_Solar</th>\n",
       "      <th>West_Vert_Solar</th>\n",
       "      <th>North_Vert_Solar</th>\n",
       "      <th>HorizSol</th>\n",
       "    </tr>\n",
       "  </thead>\n",
       "  <tbody>\n",
       "    <tr>\n",
       "      <th>0</th>\n",
       "      <td> ANCHORAGE TED STEVENS INTERNATIONAL AIRPORT AK US</td>\n",
       "      <td> 1</td>\n",
       "      <td>  243.439017</td>\n",
       "      <td>  72.790127</td>\n",
       "      <td>  70.255741</td>\n",
       "      <td>  40.922696</td>\n",
       "      <td>   90.816917</td>\n",
       "    </tr>\n",
       "    <tr>\n",
       "      <th>1</th>\n",
       "      <td> ANCHORAGE TED STEVENS INTERNATIONAL AIRPORT AK US</td>\n",
       "      <td> 2</td>\n",
       "      <td>  836.873376</td>\n",
       "      <td> 284.696415</td>\n",
       "      <td> 299.806488</td>\n",
       "      <td> 116.571676</td>\n",
       "      <td>  340.273159</td>\n",
       "    </tr>\n",
       "    <tr>\n",
       "      <th>2</th>\n",
       "      <td> ANCHORAGE TED STEVENS INTERNATIONAL AIRPORT AK US</td>\n",
       "      <td> 3</td>\n",
       "      <td>  986.226933</td>\n",
       "      <td> 503.609820</td>\n",
       "      <td> 532.198766</td>\n",
       "      <td> 230.233863</td>\n",
       "      <td>  705.361790</td>\n",
       "    </tr>\n",
       "    <tr>\n",
       "      <th>3</th>\n",
       "      <td> ANCHORAGE TED STEVENS INTERNATIONAL AIRPORT AK US</td>\n",
       "      <td> 4</td>\n",
       "      <td> 1120.400031</td>\n",
       "      <td> 789.046156</td>\n",
       "      <td> 747.676149</td>\n",
       "      <td> 354.949878</td>\n",
       "      <td> 1118.684836</td>\n",
       "    </tr>\n",
       "    <tr>\n",
       "      <th>4</th>\n",
       "      <td> ANCHORAGE TED STEVENS INTERNATIONAL AIRPORT AK US</td>\n",
       "      <td> 5</td>\n",
       "      <td> 1027.195038</td>\n",
       "      <td> 929.611070</td>\n",
       "      <td> 893.778646</td>\n",
       "      <td> 519.205526</td>\n",
       "      <td> 1421.677782</td>\n",
       "    </tr>\n",
       "  </tbody>\n",
       "</table>\n",
       "</div>"
      ],
      "text/plain": [
       "                                        station_name  month  South_Vert_Solar  \\\n",
       "0  ANCHORAGE TED STEVENS INTERNATIONAL AIRPORT AK US      1        243.439017   \n",
       "1  ANCHORAGE TED STEVENS INTERNATIONAL AIRPORT AK US      2        836.873376   \n",
       "2  ANCHORAGE TED STEVENS INTERNATIONAL AIRPORT AK US      3        986.226933   \n",
       "3  ANCHORAGE TED STEVENS INTERNATIONAL AIRPORT AK US      4       1120.400031   \n",
       "4  ANCHORAGE TED STEVENS INTERNATIONAL AIRPORT AK US      5       1027.195038   \n",
       "\n",
       "   East_Vert_Solar  West_Vert_Solar  North_Vert_Solar     HorizSol  \n",
       "0        72.790127        70.255741         40.922696    90.816917  \n",
       "1       284.696415       299.806488        116.571676   340.273159  \n",
       "2       503.609820       532.198766        230.233863   705.361790  \n",
       "3       789.046156       747.676149        354.949878  1118.684836  \n",
       "4       929.611070       893.778646        519.205526  1421.677782  "
      ]
     },
     "execution_count": 34,
     "metadata": {},
     "output_type": "execute_result"
    }
   ],
   "source": [
    "solar = solar_df[['noaa_index', 'month', 'South_Vert_Solar', 'East_Vert_Solar',\n",
    " 'West_Vert_Solar','North_Vert_Solar','HorizSol']]\n",
    "solar = solar.rename(columns = {'noaa_index' : 'station_name'})\n",
    "solar.head()"
   ]
  },
  {
   "cell_type": "code",
   "execution_count": 35,
   "metadata": {
    "collapsed": false
   },
   "outputs": [],
   "source": [
    "solar.to_csv(\"20_Solar_Sites_For_AKWarm.csv\")"
   ]
  },
  {
   "cell_type": "code",
   "execution_count": null,
   "metadata": {
    "collapsed": true
   },
   "outputs": [],
   "source": []
  },
  {
   "cell_type": "code",
   "execution_count": null,
   "metadata": {
    "collapsed": true
   },
   "outputs": [],
   "source": []
  },
  {
   "cell_type": "code",
   "execution_count": null,
   "metadata": {
    "collapsed": true
   },
   "outputs": [],
   "source": []
  },
  {
   "cell_type": "code",
   "execution_count": null,
   "metadata": {
    "collapsed": true
   },
   "outputs": [],
   "source": []
  },
  {
   "cell_type": "code",
   "execution_count": null,
   "metadata": {
    "collapsed": true
   },
   "outputs": [],
   "source": []
  },
  {
   "cell_type": "code",
   "execution_count": null,
   "metadata": {
    "collapsed": true
   },
   "outputs": [],
   "source": []
  },
  {
   "cell_type": "code",
   "execution_count": null,
   "metadata": {
    "collapsed": true
   },
   "outputs": [],
   "source": []
  },
  {
   "cell_type": "code",
   "execution_count": null,
   "metadata": {
    "collapsed": true
   },
   "outputs": [],
   "source": []
  },
  {
   "cell_type": "code",
   "execution_count": null,
   "metadata": {
    "collapsed": true
   },
   "outputs": [],
   "source": []
  },
  {
   "cell_type": "code",
   "execution_count": null,
   "metadata": {
    "collapsed": true
   },
   "outputs": [],
   "source": []
  },
  {
   "cell_type": "code",
   "execution_count": null,
   "metadata": {
    "collapsed": true
   },
   "outputs": [],
   "source": []
  },
  {
   "cell_type": "code",
   "execution_count": null,
   "metadata": {
    "collapsed": true
   },
   "outputs": [],
   "source": []
  },
  {
   "cell_type": "code",
   "execution_count": null,
   "metadata": {
    "collapsed": true
   },
   "outputs": [],
   "source": []
  },
  {
   "cell_type": "code",
   "execution_count": null,
   "metadata": {
    "collapsed": true
   },
   "outputs": [],
   "source": []
  },
  {
   "cell_type": "code",
   "execution_count": null,
   "metadata": {
    "collapsed": true
   },
   "outputs": [],
   "source": []
  },
  {
   "cell_type": "code",
   "execution_count": null,
   "metadata": {
    "collapsed": true
   },
   "outputs": [],
   "source": []
  },
  {
   "cell_type": "code",
   "execution_count": null,
   "metadata": {
    "collapsed": true
   },
   "outputs": [],
   "source": []
  },
  {
   "cell_type": "code",
   "execution_count": null,
   "metadata": {
    "collapsed": true
   },
   "outputs": [],
   "source": []
  },
  {
   "cell_type": "code",
   "execution_count": null,
   "metadata": {
    "collapsed": true
   },
   "outputs": [],
   "source": []
  },
  {
   "cell_type": "code",
   "execution_count": null,
   "metadata": {
    "collapsed": true
   },
   "outputs": [],
   "source": []
  },
  {
   "cell_type": "code",
   "execution_count": null,
   "metadata": {
    "collapsed": true
   },
   "outputs": [],
   "source": []
  },
  {
   "cell_type": "code",
   "execution_count": null,
   "metadata": {
    "collapsed": true
   },
   "outputs": [],
   "source": []
  },
  {
   "cell_type": "code",
   "execution_count": null,
   "metadata": {
    "collapsed": true
   },
   "outputs": [],
   "source": []
  },
  {
   "cell_type": "code",
   "execution_count": null,
   "metadata": {
    "collapsed": true
   },
   "outputs": [],
   "source": []
  },
  {
   "cell_type": "code",
   "execution_count": null,
   "metadata": {
    "collapsed": true
   },
   "outputs": [],
   "source": []
  },
  {
   "cell_type": "code",
   "execution_count": null,
   "metadata": {
    "collapsed": true
   },
   "outputs": [],
   "source": []
  },
  {
   "cell_type": "code",
   "execution_count": null,
   "metadata": {
    "collapsed": true
   },
   "outputs": [],
   "source": []
  },
  {
   "cell_type": "code",
   "execution_count": null,
   "metadata": {
    "collapsed": true
   },
   "outputs": [],
   "source": []
  },
  {
   "cell_type": "code",
   "execution_count": null,
   "metadata": {
    "collapsed": true
   },
   "outputs": [],
   "source": []
  },
  {
   "cell_type": "code",
   "execution_count": null,
   "metadata": {
    "collapsed": true
   },
   "outputs": [],
   "source": []
  },
  {
   "cell_type": "code",
   "execution_count": null,
   "metadata": {
    "collapsed": true
   },
   "outputs": [],
   "source": []
  },
  {
   "cell_type": "code",
   "execution_count": null,
   "metadata": {
    "collapsed": true
   },
   "outputs": [],
   "source": []
  },
  {
   "cell_type": "code",
   "execution_count": null,
   "metadata": {
    "collapsed": true
   },
   "outputs": [],
   "source": []
  },
  {
   "cell_type": "code",
   "execution_count": null,
   "metadata": {
    "collapsed": true
   },
   "outputs": [],
   "source": []
  },
  {
   "cell_type": "code",
   "execution_count": null,
   "metadata": {
    "collapsed": true
   },
   "outputs": [],
   "source": []
  },
  {
   "cell_type": "code",
   "execution_count": null,
   "metadata": {
    "collapsed": true
   },
   "outputs": [],
   "source": []
  },
  {
   "cell_type": "code",
   "execution_count": null,
   "metadata": {
    "collapsed": true
   },
   "outputs": [],
   "source": []
  },
  {
   "cell_type": "code",
   "execution_count": null,
   "metadata": {
    "collapsed": true
   },
   "outputs": [],
   "source": []
  },
  {
   "cell_type": "code",
   "execution_count": null,
   "metadata": {
    "collapsed": true
   },
   "outputs": [],
   "source": []
  },
  {
   "cell_type": "code",
   "execution_count": null,
   "metadata": {
    "collapsed": true
   },
   "outputs": [],
   "source": []
  },
  {
   "cell_type": "code",
   "execution_count": null,
   "metadata": {
    "collapsed": true
   },
   "outputs": [],
   "source": []
  },
  {
   "cell_type": "code",
   "execution_count": null,
   "metadata": {
    "collapsed": true
   },
   "outputs": [],
   "source": []
  }
 ],
 "metadata": {
  "kernelspec": {
   "display_name": "Python 2",
   "language": "python",
   "name": "python2"
  },
  "language_info": {
   "codemirror_mode": {
    "name": "ipython",
    "version": 2
   },
   "file_extension": ".py",
   "mimetype": "text/x-python",
   "name": "python",
   "nbconvert_exporter": "python",
   "pygments_lexer": "ipython2",
   "version": "2.7.6"
  }
 },
 "nbformat": 4,
 "nbformat_minor": 0
}
