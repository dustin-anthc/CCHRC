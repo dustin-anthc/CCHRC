{
 "cells": [
  {
   "cell_type": "code",
   "execution_count": 1,
   "metadata": {
    "collapsed": false
   },
   "outputs": [
    {
     "name": "stdout",
     "output_type": "stream",
     "text": [
      "Pandas version: 0.14.0\n"
     ]
    }
   ],
   "source": [
    "import pandas as pd\n",
    "import numpy as np\n",
    "from random import sample\n",
    "from pandas import *\n",
    "import matplotlib.pyplot as plt\n",
    "import statsmodels.formula.api as smf\n",
    "\n",
    "# Libraries from Alan\n",
    "from __future__ import division\n",
    "import json\n",
    "import os\n",
    "from matplotlib.pyplot import *\n",
    "\n",
    "import requests\n",
    "#import tmy_ids\n",
    "\n",
    "# Show Plots in the Notebook\n",
    "%matplotlib inline\n",
    "\n",
    "# Make Plots larger\n",
    "rcParams['figure.figsize']= (10, 6)\n",
    "rcParams['font.size'] = 14\n",
    "\n",
    "%matplotlib inline\n",
    "\n",
    "print 'Pandas version: ' + pd.__version__"
   ]
  },
  {
   "cell_type": "code",
   "execution_count": 2,
   "metadata": {
    "collapsed": false
   },
   "outputs": [
    {
     "data": {
      "text/html": [
       "<div style=\"max-height:1000px;max-width:1500px;overflow:auto;\">\n",
       "<table border=\"1\" class=\"dataframe\">\n",
       "  <thead>\n",
       "    <tr style=\"text-align: right;\">\n",
       "      <th></th>\n",
       "      <th>station_name</th>\n",
       "    </tr>\n",
       "    <tr>\n",
       "      <th>index</th>\n",
       "      <th></th>\n",
       "    </tr>\n",
       "  </thead>\n",
       "  <tbody>\n",
       "    <tr>\n",
       "      <th>0</th>\n",
       "      <td>                                     ALYESKA AK US</td>\n",
       "    </tr>\n",
       "    <tr>\n",
       "      <th>1</th>\n",
       "      <td> ANCHORAGE TED STEVENS INTERNATIONAL AIRPORT AK US</td>\n",
       "    </tr>\n",
       "    <tr>\n",
       "      <th>2</th>\n",
       "      <td>      ANNETTE WEATHER SERVICE OFFICE AIRPORT AK US</td>\n",
       "    </tr>\n",
       "    <tr>\n",
       "      <th>3</th>\n",
       "      <td>                                    AUKE BAY AK US</td>\n",
       "    </tr>\n",
       "    <tr>\n",
       "      <th>4</th>\n",
       "      <td>              BARROW W POST W ROGERS AIRPORT AK US</td>\n",
       "    </tr>\n",
       "  </tbody>\n",
       "</table>\n",
       "</div>"
      ],
      "text/plain": [
       "                                            station_name\n",
       "index                                                   \n",
       "0                                          ALYESKA AK US\n",
       "1      ANCHORAGE TED STEVENS INTERNATIONAL AIRPORT AK US\n",
       "2           ANNETTE WEATHER SERVICE OFFICE AIRPORT AK US\n",
       "3                                         AUKE BAY AK US\n",
       "4                   BARROW W POST W ROGERS AIRPORT AK US"
      ]
     },
     "execution_count": 2,
     "metadata": {},
     "output_type": "execute_result"
    }
   ],
   "source": [
    "stations52 = pd.read_csv(\"C:\\Users\\dustin\\Documents\\IPython Notebooks\\stations52.csv\", index_col=['index'])\n",
    "stations52.head()"
   ]
  },
  {
   "cell_type": "code",
   "execution_count": 3,
   "metadata": {
    "collapsed": false
   },
   "outputs": [
    {
     "data": {
      "text/html": [
       "<div style=\"max-height:1000px;max-width:1500px;overflow:auto;\">\n",
       "<table border=\"1\" class=\"dataframe\">\n",
       "  <thead>\n",
       "    <tr style=\"text-align: right;\">\n",
       "      <th></th>\n",
       "      <th>STATION</th>\n",
       "      <th>STATION_NAME</th>\n",
       "      <th>ELEVATION</th>\n",
       "      <th>LATITUDE</th>\n",
       "      <th>LONGITUDE</th>\n",
       "      <th>DATE</th>\n",
       "      <th>MLY-CLDD-BASE45</th>\n",
       "      <th>Completeness Flag</th>\n",
       "      <th>MLY-CLDD-BASE50</th>\n",
       "      <th>Completeness Flag.1</th>\n",
       "      <th>...</th>\n",
       "      <th>MLY-TMIN-NORMAL</th>\n",
       "      <th>Completeness Flag.34</th>\n",
       "      <th>MLY-TAVG-STDDEV</th>\n",
       "      <th>Completeness Flag.35</th>\n",
       "      <th>MLY-DUTR-STDDEV</th>\n",
       "      <th>Completeness Flag.36</th>\n",
       "      <th>MLY-TMAX-STDDEV</th>\n",
       "      <th>Completeness Flag.37</th>\n",
       "      <th>MLY-TMIN-STDDEV</th>\n",
       "      <th>Completeness Flag.38</th>\n",
       "    </tr>\n",
       "  </thead>\n",
       "  <tbody>\n",
       "    <tr>\n",
       "      <th>0</th>\n",
       "      <td> GHCND:USC00501180</td>\n",
       "      <td> BUTTE 1 W AK US</td>\n",
       "      <td> 24.4</td>\n",
       "      <td> 61.52</td>\n",
       "      <td> -149.05611</td>\n",
       "      <td> 201001</td>\n",
       "      <td>  0</td>\n",
       "      <td> Q</td>\n",
       "      <td>    0</td>\n",
       "      <td> Q</td>\n",
       "      <td>...</td>\n",
       "      <td>  35</td>\n",
       "      <td> Q</td>\n",
       "      <td>-9999</td>\n",
       "      <td>  </td>\n",
       "      <td>-9999</td>\n",
       "      <td>  </td>\n",
       "      <td>-9999</td>\n",
       "      <td>  </td>\n",
       "      <td>-9999</td>\n",
       "      <td>  </td>\n",
       "    </tr>\n",
       "    <tr>\n",
       "      <th>1</th>\n",
       "      <td> GHCND:USC00501180</td>\n",
       "      <td> BUTTE 1 W AK US</td>\n",
       "      <td> 24.4</td>\n",
       "      <td> 61.52</td>\n",
       "      <td> -149.05611</td>\n",
       "      <td> 201002</td>\n",
       "      <td>  0</td>\n",
       "      <td> Q</td>\n",
       "      <td>    0</td>\n",
       "      <td> Q</td>\n",
       "      <td>...</td>\n",
       "      <td>  85</td>\n",
       "      <td> Q</td>\n",
       "      <td>-9999</td>\n",
       "      <td>  </td>\n",
       "      <td>-9999</td>\n",
       "      <td>  </td>\n",
       "      <td>-9999</td>\n",
       "      <td>  </td>\n",
       "      <td>-9999</td>\n",
       "      <td>  </td>\n",
       "    </tr>\n",
       "    <tr>\n",
       "      <th>2</th>\n",
       "      <td> GHCND:USC00501180</td>\n",
       "      <td> BUTTE 1 W AK US</td>\n",
       "      <td> 24.4</td>\n",
       "      <td> 61.52</td>\n",
       "      <td> -149.05611</td>\n",
       "      <td> 201003</td>\n",
       "      <td>  0</td>\n",
       "      <td> Q</td>\n",
       "      <td>    0</td>\n",
       "      <td> Q</td>\n",
       "      <td>...</td>\n",
       "      <td> 155</td>\n",
       "      <td> Q</td>\n",
       "      <td>-9999</td>\n",
       "      <td>  </td>\n",
       "      <td>-9999</td>\n",
       "      <td>  </td>\n",
       "      <td>-9999</td>\n",
       "      <td>  </td>\n",
       "      <td>-9999</td>\n",
       "      <td>  </td>\n",
       "    </tr>\n",
       "    <tr>\n",
       "      <th>3</th>\n",
       "      <td> GHCND:USC00501180</td>\n",
       "      <td> BUTTE 1 W AK US</td>\n",
       "      <td> 24.4</td>\n",
       "      <td> 61.52</td>\n",
       "      <td> -149.05611</td>\n",
       "      <td> 201004</td>\n",
       "      <td>  4</td>\n",
       "      <td> Q</td>\n",
       "      <td>-7777</td>\n",
       "      <td> Q</td>\n",
       "      <td>...</td>\n",
       "      <td> 269</td>\n",
       "      <td> Q</td>\n",
       "      <td>-9999</td>\n",
       "      <td>  </td>\n",
       "      <td>-9999</td>\n",
       "      <td>  </td>\n",
       "      <td>-9999</td>\n",
       "      <td>  </td>\n",
       "      <td>-9999</td>\n",
       "      <td>  </td>\n",
       "    </tr>\n",
       "    <tr>\n",
       "      <th>4</th>\n",
       "      <td> GHCND:USC00501180</td>\n",
       "      <td> BUTTE 1 W AK US</td>\n",
       "      <td> 24.4</td>\n",
       "      <td> 61.52</td>\n",
       "      <td> -149.05611</td>\n",
       "      <td> 201005</td>\n",
       "      <td> 99</td>\n",
       "      <td> Q</td>\n",
       "      <td>   24</td>\n",
       "      <td> Q</td>\n",
       "      <td>...</td>\n",
       "      <td> 355</td>\n",
       "      <td> Q</td>\n",
       "      <td>-9999</td>\n",
       "      <td>  </td>\n",
       "      <td>-9999</td>\n",
       "      <td>  </td>\n",
       "      <td>-9999</td>\n",
       "      <td>  </td>\n",
       "      <td>-9999</td>\n",
       "      <td>  </td>\n",
       "    </tr>\n",
       "  </tbody>\n",
       "</table>\n",
       "<p>5 rows × 84 columns</p>\n",
       "</div>"
      ],
      "text/plain": [
       "             STATION     STATION_NAME ELEVATION LATITUDE   LONGITUDE    DATE  \\\n",
       "0  GHCND:USC00501180  BUTTE 1 W AK US      24.4    61.52  -149.05611  201001   \n",
       "1  GHCND:USC00501180  BUTTE 1 W AK US      24.4    61.52  -149.05611  201002   \n",
       "2  GHCND:USC00501180  BUTTE 1 W AK US      24.4    61.52  -149.05611  201003   \n",
       "3  GHCND:USC00501180  BUTTE 1 W AK US      24.4    61.52  -149.05611  201004   \n",
       "4  GHCND:USC00501180  BUTTE 1 W AK US      24.4    61.52  -149.05611  201005   \n",
       "\n",
       "   MLY-CLDD-BASE45 Completeness Flag  MLY-CLDD-BASE50 Completeness Flag.1  \\\n",
       "0                0                 Q                0                   Q   \n",
       "1                0                 Q                0                   Q   \n",
       "2                0                 Q                0                   Q   \n",
       "3                4                 Q            -7777                   Q   \n",
       "4               99                 Q               24                   Q   \n",
       "\n",
       "          ...          MLY-TMIN-NORMAL Completeness Flag.34  MLY-TAVG-STDDEV  \\\n",
       "0         ...                       35                    Q            -9999   \n",
       "1         ...                       85                    Q            -9999   \n",
       "2         ...                      155                    Q            -9999   \n",
       "3         ...                      269                    Q            -9999   \n",
       "4         ...                      355                    Q            -9999   \n",
       "\n",
       "  Completeness Flag.35  MLY-DUTR-STDDEV Completeness Flag.36  MLY-TMAX-STDDEV  \\\n",
       "0                                 -9999                                 -9999   \n",
       "1                                 -9999                                 -9999   \n",
       "2                                 -9999                                 -9999   \n",
       "3                                 -9999                                 -9999   \n",
       "4                                 -9999                                 -9999   \n",
       "\n",
       "  Completeness Flag.37  MLY-TMIN-STDDEV Completeness Flag.38  \n",
       "0                                 -9999                       \n",
       "1                                 -9999                       \n",
       "2                                 -9999                       \n",
       "3                                 -9999                       \n",
       "4                                 -9999                       \n",
       "\n",
       "[5 rows x 84 columns]"
      ]
     },
     "execution_count": 3,
     "metadata": {},
     "output_type": "execute_result"
    }
   ],
   "source": [
    "temps = pd.read_csv(r\"C:\\Users\\dustin\\Dropbox\\AKWarm Documentation\\02. Work\\01. Task 2 - AKWarm library update\\Climate Library\\NOAA 1981-2010 Monthly Averages - All AK Locs.csv\", index_col=None, header=0)\n",
    "temps.head()"
   ]
  },
  {
   "cell_type": "code",
   "execution_count": 4,
   "metadata": {
    "collapsed": false
   },
   "outputs": [
    {
     "data": {
      "text/html": [
       "<div style=\"max-height:1000px;max-width:1500px;overflow:auto;\">\n",
       "<table border=\"1\" class=\"dataframe\">\n",
       "  <thead>\n",
       "    <tr style=\"text-align: right;\">\n",
       "      <th></th>\n",
       "      <th>STATION</th>\n",
       "      <th>STATION_NAME</th>\n",
       "      <th>ELEVATION</th>\n",
       "      <th>LATITUDE</th>\n",
       "      <th>LONGITUDE</th>\n",
       "      <th>DATE</th>\n",
       "      <th>MLY-CLDD-BASE45</th>\n",
       "      <th>Completeness Flag</th>\n",
       "      <th>MLY-CLDD-BASE50</th>\n",
       "      <th>Completeness Flag.1</th>\n",
       "      <th>...</th>\n",
       "      <th>MLY-TMIN-NORMAL</th>\n",
       "      <th>Completeness Flag.34</th>\n",
       "      <th>MLY-TAVG-STDDEV</th>\n",
       "      <th>Completeness Flag.35</th>\n",
       "      <th>MLY-DUTR-STDDEV</th>\n",
       "      <th>Completeness Flag.36</th>\n",
       "      <th>MLY-TMAX-STDDEV</th>\n",
       "      <th>Completeness Flag.37</th>\n",
       "      <th>MLY-TMIN-STDDEV</th>\n",
       "      <th>Completeness Flag.38</th>\n",
       "    </tr>\n",
       "  </thead>\n",
       "  <tbody>\n",
       "    <tr>\n",
       "      <th>0</th>\n",
       "      <td> GHCND:USC00501180</td>\n",
       "      <td> BUTTE 1 W AK US</td>\n",
       "      <td> 24.4</td>\n",
       "      <td> 61.52</td>\n",
       "      <td> -149.05611</td>\n",
       "      <td>2010-01-01</td>\n",
       "      <td>  0</td>\n",
       "      <td> Q</td>\n",
       "      <td>    0</td>\n",
       "      <td> Q</td>\n",
       "      <td>...</td>\n",
       "      <td>  35</td>\n",
       "      <td> Q</td>\n",
       "      <td>-9999</td>\n",
       "      <td>  </td>\n",
       "      <td>-9999</td>\n",
       "      <td>  </td>\n",
       "      <td>-9999</td>\n",
       "      <td>  </td>\n",
       "      <td>-9999</td>\n",
       "      <td>  </td>\n",
       "    </tr>\n",
       "    <tr>\n",
       "      <th>1</th>\n",
       "      <td> GHCND:USC00501180</td>\n",
       "      <td> BUTTE 1 W AK US</td>\n",
       "      <td> 24.4</td>\n",
       "      <td> 61.52</td>\n",
       "      <td> -149.05611</td>\n",
       "      <td>2010-02-01</td>\n",
       "      <td>  0</td>\n",
       "      <td> Q</td>\n",
       "      <td>    0</td>\n",
       "      <td> Q</td>\n",
       "      <td>...</td>\n",
       "      <td>  85</td>\n",
       "      <td> Q</td>\n",
       "      <td>-9999</td>\n",
       "      <td>  </td>\n",
       "      <td>-9999</td>\n",
       "      <td>  </td>\n",
       "      <td>-9999</td>\n",
       "      <td>  </td>\n",
       "      <td>-9999</td>\n",
       "      <td>  </td>\n",
       "    </tr>\n",
       "    <tr>\n",
       "      <th>2</th>\n",
       "      <td> GHCND:USC00501180</td>\n",
       "      <td> BUTTE 1 W AK US</td>\n",
       "      <td> 24.4</td>\n",
       "      <td> 61.52</td>\n",
       "      <td> -149.05611</td>\n",
       "      <td>2010-03-01</td>\n",
       "      <td>  0</td>\n",
       "      <td> Q</td>\n",
       "      <td>    0</td>\n",
       "      <td> Q</td>\n",
       "      <td>...</td>\n",
       "      <td> 155</td>\n",
       "      <td> Q</td>\n",
       "      <td>-9999</td>\n",
       "      <td>  </td>\n",
       "      <td>-9999</td>\n",
       "      <td>  </td>\n",
       "      <td>-9999</td>\n",
       "      <td>  </td>\n",
       "      <td>-9999</td>\n",
       "      <td>  </td>\n",
       "    </tr>\n",
       "    <tr>\n",
       "      <th>3</th>\n",
       "      <td> GHCND:USC00501180</td>\n",
       "      <td> BUTTE 1 W AK US</td>\n",
       "      <td> 24.4</td>\n",
       "      <td> 61.52</td>\n",
       "      <td> -149.05611</td>\n",
       "      <td>2010-04-01</td>\n",
       "      <td>  4</td>\n",
       "      <td> Q</td>\n",
       "      <td>-7777</td>\n",
       "      <td> Q</td>\n",
       "      <td>...</td>\n",
       "      <td> 269</td>\n",
       "      <td> Q</td>\n",
       "      <td>-9999</td>\n",
       "      <td>  </td>\n",
       "      <td>-9999</td>\n",
       "      <td>  </td>\n",
       "      <td>-9999</td>\n",
       "      <td>  </td>\n",
       "      <td>-9999</td>\n",
       "      <td>  </td>\n",
       "    </tr>\n",
       "    <tr>\n",
       "      <th>4</th>\n",
       "      <td> GHCND:USC00501180</td>\n",
       "      <td> BUTTE 1 W AK US</td>\n",
       "      <td> 24.4</td>\n",
       "      <td> 61.52</td>\n",
       "      <td> -149.05611</td>\n",
       "      <td>2010-05-01</td>\n",
       "      <td> 99</td>\n",
       "      <td> Q</td>\n",
       "      <td>   24</td>\n",
       "      <td> Q</td>\n",
       "      <td>...</td>\n",
       "      <td> 355</td>\n",
       "      <td> Q</td>\n",
       "      <td>-9999</td>\n",
       "      <td>  </td>\n",
       "      <td>-9999</td>\n",
       "      <td>  </td>\n",
       "      <td>-9999</td>\n",
       "      <td>  </td>\n",
       "      <td>-9999</td>\n",
       "      <td>  </td>\n",
       "    </tr>\n",
       "  </tbody>\n",
       "</table>\n",
       "<p>5 rows × 84 columns</p>\n",
       "</div>"
      ],
      "text/plain": [
       "             STATION     STATION_NAME ELEVATION LATITUDE   LONGITUDE  \\\n",
       "0  GHCND:USC00501180  BUTTE 1 W AK US      24.4    61.52  -149.05611   \n",
       "1  GHCND:USC00501180  BUTTE 1 W AK US      24.4    61.52  -149.05611   \n",
       "2  GHCND:USC00501180  BUTTE 1 W AK US      24.4    61.52  -149.05611   \n",
       "3  GHCND:USC00501180  BUTTE 1 W AK US      24.4    61.52  -149.05611   \n",
       "4  GHCND:USC00501180  BUTTE 1 W AK US      24.4    61.52  -149.05611   \n",
       "\n",
       "        DATE  MLY-CLDD-BASE45 Completeness Flag  MLY-CLDD-BASE50  \\\n",
       "0 2010-01-01                0                 Q                0   \n",
       "1 2010-02-01                0                 Q                0   \n",
       "2 2010-03-01                0                 Q                0   \n",
       "3 2010-04-01                4                 Q            -7777   \n",
       "4 2010-05-01               99                 Q               24   \n",
       "\n",
       "  Completeness Flag.1         ...          MLY-TMIN-NORMAL  \\\n",
       "0                   Q         ...                       35   \n",
       "1                   Q         ...                       85   \n",
       "2                   Q         ...                      155   \n",
       "3                   Q         ...                      269   \n",
       "4                   Q         ...                      355   \n",
       "\n",
       "  Completeness Flag.34  MLY-TAVG-STDDEV Completeness Flag.35  MLY-DUTR-STDDEV  \\\n",
       "0                    Q            -9999                                 -9999   \n",
       "1                    Q            -9999                                 -9999   \n",
       "2                    Q            -9999                                 -9999   \n",
       "3                    Q            -9999                                 -9999   \n",
       "4                    Q            -9999                                 -9999   \n",
       "\n",
       "  Completeness Flag.36  MLY-TMAX-STDDEV Completeness Flag.37  MLY-TMIN-STDDEV  \\\n",
       "0                                 -9999                                 -9999   \n",
       "1                                 -9999                                 -9999   \n",
       "2                                 -9999                                 -9999   \n",
       "3                                 -9999                                 -9999   \n",
       "4                                 -9999                                 -9999   \n",
       "\n",
       "  Completeness Flag.38  \n",
       "0                       \n",
       "1                       \n",
       "2                       \n",
       "3                       \n",
       "4                       \n",
       "\n",
       "[5 rows x 84 columns]"
      ]
     },
     "execution_count": 4,
     "metadata": {},
     "output_type": "execute_result"
    }
   ],
   "source": [
    "temps['DATE'] = to_datetime(temps['DATE'], format=\"%Y%m\")\n",
    "temps.head()"
   ]
  },
  {
   "cell_type": "code",
   "execution_count": 5,
   "metadata": {
    "collapsed": false
   },
   "outputs": [
    {
     "data": {
      "text/html": [
       "<div style=\"max-height:1000px;max-width:1500px;overflow:auto;\">\n",
       "<table border=\"1\" class=\"dataframe\">\n",
       "  <thead>\n",
       "    <tr style=\"text-align: right;\">\n",
       "      <th></th>\n",
       "      <th>STATION</th>\n",
       "      <th>STATION_NAME</th>\n",
       "      <th>ELEVATION</th>\n",
       "      <th>LATITUDE</th>\n",
       "      <th>LONGITUDE</th>\n",
       "      <th>DATE</th>\n",
       "      <th>MLY-CLDD-BASE45</th>\n",
       "      <th>Completeness Flag</th>\n",
       "      <th>MLY-CLDD-BASE50</th>\n",
       "      <th>Completeness Flag.1</th>\n",
       "      <th>...</th>\n",
       "      <th>Completeness Flag.34</th>\n",
       "      <th>MLY-TAVG-STDDEV</th>\n",
       "      <th>Completeness Flag.35</th>\n",
       "      <th>MLY-DUTR-STDDEV</th>\n",
       "      <th>Completeness Flag.36</th>\n",
       "      <th>MLY-TMAX-STDDEV</th>\n",
       "      <th>Completeness Flag.37</th>\n",
       "      <th>MLY-TMIN-STDDEV</th>\n",
       "      <th>Completeness Flag.38</th>\n",
       "      <th>MONTH</th>\n",
       "    </tr>\n",
       "  </thead>\n",
       "  <tbody>\n",
       "    <tr>\n",
       "      <th>0</th>\n",
       "      <td> GHCND:USC00501180</td>\n",
       "      <td> BUTTE 1 W AK US</td>\n",
       "      <td> 24.4</td>\n",
       "      <td> 61.52</td>\n",
       "      <td> -149.05611</td>\n",
       "      <td>2010-01-01</td>\n",
       "      <td>  0</td>\n",
       "      <td> Q</td>\n",
       "      <td>    0</td>\n",
       "      <td> Q</td>\n",
       "      <td>...</td>\n",
       "      <td> Q</td>\n",
       "      <td>-9999</td>\n",
       "      <td>  </td>\n",
       "      <td>-9999</td>\n",
       "      <td>  </td>\n",
       "      <td>-9999</td>\n",
       "      <td>  </td>\n",
       "      <td>-9999</td>\n",
       "      <td>  </td>\n",
       "      <td> 1</td>\n",
       "    </tr>\n",
       "    <tr>\n",
       "      <th>1</th>\n",
       "      <td> GHCND:USC00501180</td>\n",
       "      <td> BUTTE 1 W AK US</td>\n",
       "      <td> 24.4</td>\n",
       "      <td> 61.52</td>\n",
       "      <td> -149.05611</td>\n",
       "      <td>2010-02-01</td>\n",
       "      <td>  0</td>\n",
       "      <td> Q</td>\n",
       "      <td>    0</td>\n",
       "      <td> Q</td>\n",
       "      <td>...</td>\n",
       "      <td> Q</td>\n",
       "      <td>-9999</td>\n",
       "      <td>  </td>\n",
       "      <td>-9999</td>\n",
       "      <td>  </td>\n",
       "      <td>-9999</td>\n",
       "      <td>  </td>\n",
       "      <td>-9999</td>\n",
       "      <td>  </td>\n",
       "      <td> 2</td>\n",
       "    </tr>\n",
       "    <tr>\n",
       "      <th>2</th>\n",
       "      <td> GHCND:USC00501180</td>\n",
       "      <td> BUTTE 1 W AK US</td>\n",
       "      <td> 24.4</td>\n",
       "      <td> 61.52</td>\n",
       "      <td> -149.05611</td>\n",
       "      <td>2010-03-01</td>\n",
       "      <td>  0</td>\n",
       "      <td> Q</td>\n",
       "      <td>    0</td>\n",
       "      <td> Q</td>\n",
       "      <td>...</td>\n",
       "      <td> Q</td>\n",
       "      <td>-9999</td>\n",
       "      <td>  </td>\n",
       "      <td>-9999</td>\n",
       "      <td>  </td>\n",
       "      <td>-9999</td>\n",
       "      <td>  </td>\n",
       "      <td>-9999</td>\n",
       "      <td>  </td>\n",
       "      <td> 3</td>\n",
       "    </tr>\n",
       "    <tr>\n",
       "      <th>3</th>\n",
       "      <td> GHCND:USC00501180</td>\n",
       "      <td> BUTTE 1 W AK US</td>\n",
       "      <td> 24.4</td>\n",
       "      <td> 61.52</td>\n",
       "      <td> -149.05611</td>\n",
       "      <td>2010-04-01</td>\n",
       "      <td>  4</td>\n",
       "      <td> Q</td>\n",
       "      <td>-7777</td>\n",
       "      <td> Q</td>\n",
       "      <td>...</td>\n",
       "      <td> Q</td>\n",
       "      <td>-9999</td>\n",
       "      <td>  </td>\n",
       "      <td>-9999</td>\n",
       "      <td>  </td>\n",
       "      <td>-9999</td>\n",
       "      <td>  </td>\n",
       "      <td>-9999</td>\n",
       "      <td>  </td>\n",
       "      <td> 4</td>\n",
       "    </tr>\n",
       "    <tr>\n",
       "      <th>4</th>\n",
       "      <td> GHCND:USC00501180</td>\n",
       "      <td> BUTTE 1 W AK US</td>\n",
       "      <td> 24.4</td>\n",
       "      <td> 61.52</td>\n",
       "      <td> -149.05611</td>\n",
       "      <td>2010-05-01</td>\n",
       "      <td> 99</td>\n",
       "      <td> Q</td>\n",
       "      <td>   24</td>\n",
       "      <td> Q</td>\n",
       "      <td>...</td>\n",
       "      <td> Q</td>\n",
       "      <td>-9999</td>\n",
       "      <td>  </td>\n",
       "      <td>-9999</td>\n",
       "      <td>  </td>\n",
       "      <td>-9999</td>\n",
       "      <td>  </td>\n",
       "      <td>-9999</td>\n",
       "      <td>  </td>\n",
       "      <td> 5</td>\n",
       "    </tr>\n",
       "  </tbody>\n",
       "</table>\n",
       "<p>5 rows × 85 columns</p>\n",
       "</div>"
      ],
      "text/plain": [
       "             STATION     STATION_NAME ELEVATION LATITUDE   LONGITUDE  \\\n",
       "0  GHCND:USC00501180  BUTTE 1 W AK US      24.4    61.52  -149.05611   \n",
       "1  GHCND:USC00501180  BUTTE 1 W AK US      24.4    61.52  -149.05611   \n",
       "2  GHCND:USC00501180  BUTTE 1 W AK US      24.4    61.52  -149.05611   \n",
       "3  GHCND:USC00501180  BUTTE 1 W AK US      24.4    61.52  -149.05611   \n",
       "4  GHCND:USC00501180  BUTTE 1 W AK US      24.4    61.52  -149.05611   \n",
       "\n",
       "        DATE  MLY-CLDD-BASE45 Completeness Flag  MLY-CLDD-BASE50  \\\n",
       "0 2010-01-01                0                 Q                0   \n",
       "1 2010-02-01                0                 Q                0   \n",
       "2 2010-03-01                0                 Q                0   \n",
       "3 2010-04-01                4                 Q            -7777   \n",
       "4 2010-05-01               99                 Q               24   \n",
       "\n",
       "  Completeness Flag.1         ...          Completeness Flag.34  \\\n",
       "0                   Q         ...                             Q   \n",
       "1                   Q         ...                             Q   \n",
       "2                   Q         ...                             Q   \n",
       "3                   Q         ...                             Q   \n",
       "4                   Q         ...                             Q   \n",
       "\n",
       "  MLY-TAVG-STDDEV  Completeness Flag.35 MLY-DUTR-STDDEV  Completeness Flag.36  \\\n",
       "0           -9999                                 -9999                         \n",
       "1           -9999                                 -9999                         \n",
       "2           -9999                                 -9999                         \n",
       "3           -9999                                 -9999                         \n",
       "4           -9999                                 -9999                         \n",
       "\n",
       "  MLY-TMAX-STDDEV  Completeness Flag.37 MLY-TMIN-STDDEV  Completeness Flag.38  \\\n",
       "0           -9999                                 -9999                         \n",
       "1           -9999                                 -9999                         \n",
       "2           -9999                                 -9999                         \n",
       "3           -9999                                 -9999                         \n",
       "4           -9999                                 -9999                         \n",
       "\n",
       "  MONTH  \n",
       "0     1  \n",
       "1     2  \n",
       "2     3  \n",
       "3     4  \n",
       "4     5  \n",
       "\n",
       "[5 rows x 85 columns]"
      ]
     },
     "execution_count": 5,
     "metadata": {},
     "output_type": "execute_result"
    }
   ],
   "source": [
    "# Creates month column\n",
    "temps['MONTH'] = pd.DatetimeIndex(temps['DATE']).month\n",
    "temps.head()"
   ]
  },
  {
   "cell_type": "code",
   "execution_count": 6,
   "metadata": {
    "collapsed": false
   },
   "outputs": [
    {
     "data": {
      "text/html": [
       "<div style=\"max-height:1000px;max-width:1500px;overflow:auto;\">\n",
       "<table border=\"1\" class=\"dataframe\">\n",
       "  <thead>\n",
       "    <tr style=\"text-align: right;\">\n",
       "      <th></th>\n",
       "      <th>STATION_NAME</th>\n",
       "      <th>MONTH</th>\n",
       "      <th>DBTempAvg</th>\n",
       "    </tr>\n",
       "  </thead>\n",
       "  <tbody>\n",
       "    <tr>\n",
       "      <th>0</th>\n",
       "      <td> BUTTE 1 W AK US</td>\n",
       "      <td> 1</td>\n",
       "      <td> 12.2</td>\n",
       "    </tr>\n",
       "    <tr>\n",
       "      <th>1</th>\n",
       "      <td> BUTTE 1 W AK US</td>\n",
       "      <td> 2</td>\n",
       "      <td> 17.6</td>\n",
       "    </tr>\n",
       "    <tr>\n",
       "      <th>2</th>\n",
       "      <td> BUTTE 1 W AK US</td>\n",
       "      <td> 3</td>\n",
       "      <td> 25.5</td>\n",
       "    </tr>\n",
       "    <tr>\n",
       "      <th>3</th>\n",
       "      <td> BUTTE 1 W AK US</td>\n",
       "      <td> 4</td>\n",
       "      <td> 37.1</td>\n",
       "    </tr>\n",
       "    <tr>\n",
       "      <th>4</th>\n",
       "      <td> BUTTE 1 W AK US</td>\n",
       "      <td> 5</td>\n",
       "      <td> 47.7</td>\n",
       "    </tr>\n",
       "  </tbody>\n",
       "</table>\n",
       "</div>"
      ],
      "text/plain": [
       "      STATION_NAME  MONTH  DBTempAvg\n",
       "0  BUTTE 1 W AK US      1       12.2\n",
       "1  BUTTE 1 W AK US      2       17.6\n",
       "2  BUTTE 1 W AK US      3       25.5\n",
       "3  BUTTE 1 W AK US      4       37.1\n",
       "4  BUTTE 1 W AK US      5       47.7"
      ]
     },
     "execution_count": 6,
     "metadata": {},
     "output_type": "execute_result"
    }
   ],
   "source": [
    "temps['DBTempAvg'] = temps['MLY-TAVG-NORMAL'].map(lambda x: float(x) / 10)\n",
    "temps = temps[['STATION_NAME', 'MONTH', 'DBTempAvg']]\n",
    "temps.head()"
   ]
  },
  {
   "cell_type": "code",
   "execution_count": 7,
   "metadata": {
    "collapsed": false
   },
   "outputs": [],
   "source": [
    "station_list = stations52['station_name']\n",
    "#station_list"
   ]
  },
  {
   "cell_type": "code",
   "execution_count": 8,
   "metadata": {
    "collapsed": false
   },
   "outputs": [
    {
     "data": {
      "text/html": [
       "<div style=\"max-height:1000px;max-width:1500px;overflow:auto;\">\n",
       "<table border=\"1\" class=\"dataframe\">\n",
       "  <thead>\n",
       "    <tr style=\"text-align: right;\">\n",
       "      <th></th>\n",
       "      <th>STATION_NAME</th>\n",
       "      <th>MONTH</th>\n",
       "      <th>DBTempAvg</th>\n",
       "    </tr>\n",
       "  </thead>\n",
       "  <tbody>\n",
       "    <tr>\n",
       "      <th>144</th>\n",
       "      <td> COLLEGE 5 NW AK US</td>\n",
       "      <td> 1</td>\n",
       "      <td>  1.0</td>\n",
       "    </tr>\n",
       "    <tr>\n",
       "      <th>145</th>\n",
       "      <td> COLLEGE 5 NW AK US</td>\n",
       "      <td> 2</td>\n",
       "      <td>  6.3</td>\n",
       "    </tr>\n",
       "    <tr>\n",
       "      <th>146</th>\n",
       "      <td> COLLEGE 5 NW AK US</td>\n",
       "      <td> 3</td>\n",
       "      <td> 15.5</td>\n",
       "    </tr>\n",
       "    <tr>\n",
       "      <th>147</th>\n",
       "      <td> COLLEGE 5 NW AK US</td>\n",
       "      <td> 4</td>\n",
       "      <td> 32.8</td>\n",
       "    </tr>\n",
       "    <tr>\n",
       "      <th>148</th>\n",
       "      <td> COLLEGE 5 NW AK US</td>\n",
       "      <td> 5</td>\n",
       "      <td> 48.5</td>\n",
       "    </tr>\n",
       "  </tbody>\n",
       "</table>\n",
       "</div>"
      ],
      "text/plain": [
       "           STATION_NAME  MONTH  DBTempAvg\n",
       "144  COLLEGE 5 NW AK US      1        1.0\n",
       "145  COLLEGE 5 NW AK US      2        6.3\n",
       "146  COLLEGE 5 NW AK US      3       15.5\n",
       "147  COLLEGE 5 NW AK US      4       32.8\n",
       "148  COLLEGE 5 NW AK US      5       48.5"
      ]
     },
     "execution_count": 8,
     "metadata": {},
     "output_type": "execute_result"
    }
   ],
   "source": [
    "temps52 = temps[temps['STATION_NAME'].isin(stations52['station_name'])]\n",
    "temps52.head()"
   ]
  },
  {
   "cell_type": "code",
   "execution_count": 9,
   "metadata": {
    "collapsed": true
   },
   "outputs": [],
   "source": [
    "temps52.to_csv(\"Main_Weather_Cities_Monthly_Temps.csv\")"
   ]
  },
  {
   "cell_type": "code",
   "execution_count": null,
   "metadata": {
    "collapsed": true
   },
   "outputs": [],
   "source": []
  },
  {
   "cell_type": "code",
   "execution_count": null,
   "metadata": {
    "collapsed": true
   },
   "outputs": [],
   "source": []
  },
  {
   "cell_type": "code",
   "execution_count": null,
   "metadata": {
    "collapsed": true
   },
   "outputs": [],
   "source": []
  },
  {
   "cell_type": "code",
   "execution_count": null,
   "metadata": {
    "collapsed": true
   },
   "outputs": [],
   "source": []
  },
  {
   "cell_type": "code",
   "execution_count": null,
   "metadata": {
    "collapsed": true
   },
   "outputs": [],
   "source": []
  },
  {
   "cell_type": "code",
   "execution_count": null,
   "metadata": {
    "collapsed": true
   },
   "outputs": [],
   "source": []
  },
  {
   "cell_type": "code",
   "execution_count": null,
   "metadata": {
    "collapsed": true
   },
   "outputs": [],
   "source": []
  },
  {
   "cell_type": "code",
   "execution_count": null,
   "metadata": {
    "collapsed": true
   },
   "outputs": [],
   "source": []
  },
  {
   "cell_type": "code",
   "execution_count": null,
   "metadata": {
    "collapsed": true
   },
   "outputs": [],
   "source": []
  },
  {
   "cell_type": "code",
   "execution_count": null,
   "metadata": {
    "collapsed": true
   },
   "outputs": [],
   "source": []
  },
  {
   "cell_type": "code",
   "execution_count": null,
   "metadata": {
    "collapsed": true
   },
   "outputs": [],
   "source": []
  },
  {
   "cell_type": "code",
   "execution_count": null,
   "metadata": {
    "collapsed": true
   },
   "outputs": [],
   "source": []
  },
  {
   "cell_type": "code",
   "execution_count": null,
   "metadata": {
    "collapsed": true
   },
   "outputs": [],
   "source": []
  },
  {
   "cell_type": "code",
   "execution_count": null,
   "metadata": {
    "collapsed": true
   },
   "outputs": [],
   "source": []
  },
  {
   "cell_type": "code",
   "execution_count": null,
   "metadata": {
    "collapsed": true
   },
   "outputs": [],
   "source": []
  },
  {
   "cell_type": "code",
   "execution_count": null,
   "metadata": {
    "collapsed": true
   },
   "outputs": [],
   "source": []
  },
  {
   "cell_type": "code",
   "execution_count": null,
   "metadata": {
    "collapsed": true
   },
   "outputs": [],
   "source": []
  },
  {
   "cell_type": "code",
   "execution_count": null,
   "metadata": {
    "collapsed": true
   },
   "outputs": [],
   "source": []
  },
  {
   "cell_type": "code",
   "execution_count": null,
   "metadata": {
    "collapsed": true
   },
   "outputs": [],
   "source": []
  },
  {
   "cell_type": "code",
   "execution_count": null,
   "metadata": {
    "collapsed": true
   },
   "outputs": [],
   "source": []
  },
  {
   "cell_type": "code",
   "execution_count": null,
   "metadata": {
    "collapsed": true
   },
   "outputs": [],
   "source": []
  },
  {
   "cell_type": "code",
   "execution_count": null,
   "metadata": {
    "collapsed": true
   },
   "outputs": [],
   "source": []
  },
  {
   "cell_type": "code",
   "execution_count": null,
   "metadata": {
    "collapsed": true
   },
   "outputs": [],
   "source": []
  },
  {
   "cell_type": "code",
   "execution_count": null,
   "metadata": {
    "collapsed": true
   },
   "outputs": [],
   "source": []
  },
  {
   "cell_type": "code",
   "execution_count": null,
   "metadata": {
    "collapsed": true
   },
   "outputs": [],
   "source": []
  },
  {
   "cell_type": "code",
   "execution_count": null,
   "metadata": {
    "collapsed": true
   },
   "outputs": [],
   "source": []
  },
  {
   "cell_type": "code",
   "execution_count": null,
   "metadata": {
    "collapsed": true
   },
   "outputs": [],
   "source": []
  },
  {
   "cell_type": "code",
   "execution_count": null,
   "metadata": {
    "collapsed": true
   },
   "outputs": [],
   "source": []
  },
  {
   "cell_type": "code",
   "execution_count": null,
   "metadata": {
    "collapsed": true
   },
   "outputs": [],
   "source": []
  },
  {
   "cell_type": "code",
   "execution_count": null,
   "metadata": {
    "collapsed": true
   },
   "outputs": [],
   "source": []
  },
  {
   "cell_type": "code",
   "execution_count": null,
   "metadata": {
    "collapsed": true
   },
   "outputs": [],
   "source": []
  },
  {
   "cell_type": "code",
   "execution_count": null,
   "metadata": {
    "collapsed": true
   },
   "outputs": [],
   "source": []
  },
  {
   "cell_type": "code",
   "execution_count": null,
   "metadata": {
    "collapsed": true
   },
   "outputs": [],
   "source": []
  },
  {
   "cell_type": "code",
   "execution_count": null,
   "metadata": {
    "collapsed": true
   },
   "outputs": [],
   "source": []
  },
  {
   "cell_type": "code",
   "execution_count": null,
   "metadata": {
    "collapsed": true
   },
   "outputs": [],
   "source": []
  },
  {
   "cell_type": "code",
   "execution_count": null,
   "metadata": {
    "collapsed": true
   },
   "outputs": [],
   "source": []
  },
  {
   "cell_type": "code",
   "execution_count": null,
   "metadata": {
    "collapsed": true
   },
   "outputs": [],
   "source": []
  },
  {
   "cell_type": "code",
   "execution_count": null,
   "metadata": {
    "collapsed": true
   },
   "outputs": [],
   "source": []
  },
  {
   "cell_type": "code",
   "execution_count": null,
   "metadata": {
    "collapsed": true
   },
   "outputs": [],
   "source": []
  },
  {
   "cell_type": "code",
   "execution_count": null,
   "metadata": {
    "collapsed": true
   },
   "outputs": [],
   "source": []
  },
  {
   "cell_type": "code",
   "execution_count": null,
   "metadata": {
    "collapsed": true
   },
   "outputs": [],
   "source": []
  },
  {
   "cell_type": "code",
   "execution_count": null,
   "metadata": {
    "collapsed": true
   },
   "outputs": [],
   "source": []
  },
  {
   "cell_type": "code",
   "execution_count": null,
   "metadata": {
    "collapsed": true
   },
   "outputs": [],
   "source": []
  },
  {
   "cell_type": "code",
   "execution_count": null,
   "metadata": {
    "collapsed": true
   },
   "outputs": [],
   "source": []
  },
  {
   "cell_type": "code",
   "execution_count": null,
   "metadata": {
    "collapsed": true
   },
   "outputs": [],
   "source": []
  },
  {
   "cell_type": "code",
   "execution_count": null,
   "metadata": {
    "collapsed": true
   },
   "outputs": [],
   "source": []
  },
  {
   "cell_type": "code",
   "execution_count": null,
   "metadata": {
    "collapsed": true
   },
   "outputs": [],
   "source": []
  },
  {
   "cell_type": "code",
   "execution_count": null,
   "metadata": {
    "collapsed": true
   },
   "outputs": [],
   "source": []
  },
  {
   "cell_type": "code",
   "execution_count": null,
   "metadata": {
    "collapsed": true
   },
   "outputs": [],
   "source": []
  }
 ],
 "metadata": {
  "kernelspec": {
   "display_name": "Python 2",
   "language": "python",
   "name": "python2"
  },
  "language_info": {
   "codemirror_mode": {
    "name": "ipython",
    "version": 2
   },
   "file_extension": ".py",
   "mimetype": "text/x-python",
   "name": "python",
   "nbconvert_exporter": "python",
   "pygments_lexer": "ipython2",
   "version": "2.7.6"
  }
 },
 "nbformat": 4,
 "nbformat_minor": 0
}
