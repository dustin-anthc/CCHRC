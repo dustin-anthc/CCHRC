{
 "metadata": {
  "name": ""
 },
 "nbformat": 3,
 "nbformat_minor": 0,
 "worksheets": [
  {
   "cells": [
    {
     "cell_type": "code",
     "collapsed": false,
     "input": [
      "import pandas as pd\n",
      "import numpy as np\n",
      "import matplotlib.pyplot as plt\n",
      "\n",
      "%matplotlib inline\n",
      "pd.set_option('display.line_width', 5000)\n",
      "pd.set_option('display.max_columns', 60)"
     ],
     "language": "python",
     "metadata": {},
     "outputs": [
      {
       "output_type": "stream",
       "stream": "stdout",
       "text": [
        "line_width has been deprecated, use display.width instead (currently both are\n",
        "identical)\n",
        "\n"
       ]
      }
     ],
     "prompt_number": 6
    },
    {
     "cell_type": "code",
     "collapsed": false,
     "input": [
      "# Read csv file.  Incorporate listed na_values as python NaN \n",
      "na_values = ['NULL', 'NULL ', ' NULL', ' NULL ']\n",
      "df = pd.read_csv(r\"C:\\Users\\dustin\\Desktop\\FNSB_BEES_Query.csv\", na_values=na_values, index_col=0)                "
     ],
     "language": "python",
     "metadata": {},
     "outputs": [],
     "prompt_number": 7
    },
    {
     "cell_type": "code",
     "collapsed": false,
     "input": [
      "# Create total energy column and energy cost column\n",
      "\n",
      "energy_df = df[['Birch_MMBTU', 'Coal_MMBTU' , 'Electric_MMBTU', 'Gas_MMBTU' , 'Oil1_MMBTU', 'Oil2_MMBTU', 'Propane_MMBTU' , 'Spruce_MMBTU']]\n",
      "df['Total_Energy'] = energy_df.sum(axis=1)\n",
      "\n",
      "\n",
      "#Create error flag columns\n",
      "\n",
      "# Make sure that floor area is in square feet in query- not expression.\n",
      "df['zero_sqft'] = df['sqft_result'] == 0\n",
      "df['sqft_err'] = (df['sqft_result'] > 9999) & (df['HouseType'] == \"Single_Family\")\n",
      "df['zero_energy'] = df['Total_Energy'] == 0\n",
      "df['YearBuilt_err'] = (df['YearBuilt'] > 2014) | (df['YearBuilt'] < 1850)\n",
      "df['Zero_energy_cost'] = (df['EnergyCost'] == 0)\n",
      "df['Bedroom_err'] = (df['Bedrooms'] >= 12) & (df['HouseType'] == 'Single_Family')\n",
      "df['ACH50_err'] = (df['ENACH'] > 75) | (df['ENACH'] <= 0)\n",
      "df['Energy_cost>15k_sf'] = (df['EnergyCost'] > 15000) & (df['HouseType'] == \"Single_Family\")\n",
      "df['energy>1billion_btu'] = df['Total_Energy'] > 1000\n",
      "\n",
      "\n",
      "# Read csv file of previously segregated data and create a flag column based on matching projectIDs\n",
      "\n",
      "bad_data = pd.read_csv(r'C:\\Users\\dustin\\Desktop\\Master Segregated AKWarm files.csv', index_col=0)\n",
      "bad_data['Prev_segregated'] = 1\n",
      "bad_data = bad_data[['Prev_segregated']]\n",
      "df = df.join(bad_data)\n",
      "df['Prev_segregated'] = df['Prev_segregated'].fillna(0)\n",
      "df.head()\n",
      "# Sort error flag columns so errors are at the top\n",
      "df = df.sort(columns=['zero_sqft', 'sqft_err', 'zero_energy', 'YearBuilt_err', 'Zero_energy_cost', 'Bedroom_err', 'ACH50_err', \n",
      "                     'Energy_cost>15k_sf', 'energy>1billion_btu', 'Prev_segregated'], ascending=[0,0,0,0,0,0,0,0,0,0])"
     ],
     "language": "python",
     "metadata": {},
     "outputs": [],
     "prompt_number": 8
    },
    {
     "cell_type": "code",
     "collapsed": false,
     "input": [
      "# Export file w/ cleaning flags to csv file.  Make sure to rename file or delete old one in folder first.\n",
      "\n",
      "df.to_csv('Updated_Error_Flagged_FNSB_BEES_2013_Data.csv')"
     ],
     "language": "python",
     "metadata": {},
     "outputs": [],
     "prompt_number": 9
    },
    {
     "cell_type": "code",
     "collapsed": false,
     "input": [
      "df['RatingPoints'].hist()\n",
      "df['RatingPoints'].mean()"
     ],
     "language": "python",
     "metadata": {},
     "outputs": [
      {
       "metadata": {},
       "output_type": "pyout",
       "prompt_number": 10,
       "text": [
        "94.220689655172421"
       ]
      },
      {
       "metadata": {},
       "output_type": "display_data",
       "png": "[encoded data removed]",
       "text": [
        "<matplotlib.figure.Figure at 0xcff3860>"
       ]
      }
     ],
     "prompt_number": 10
    },
    {
     "cell_type": "code",
     "collapsed": false,
     "input": [
      "df['Total_Energy'].hist()"
     ],
     "language": "python",
     "metadata": {},
     "outputs": [
      {
       "metadata": {},
       "output_type": "pyout",
       "prompt_number": 11,
       "text": [
        "<matplotlib.axes.AxesSubplot at 0xd224828>"
       ]
      },
      {
       "metadata": {},
       "output_type": "display_data",
       "png": "[encoded data removed]",
       "text": [
        "<matplotlib.figure.Figure at 0x52030f0>"
       ]
      }
     ],
     "prompt_number": 11
    },
    {
     "cell_type": "code",
     "collapsed": false,
     "input": [
      "df['Total_Energy'].mean()"
     ],
     "language": "python",
     "metadata": {},
     "outputs": [
      {
       "metadata": {},
       "output_type": "pyout",
       "prompt_number": 12,
       "text": [
        "124.81072004425293"
       ]
      }
     ],
     "prompt_number": 12
    },
    {
     "cell_type": "code",
     "collapsed": false,
     "input": [
      "oil_gallon_equiv = df['Total_Energy'].mean() * 1000000 / 132000\n",
      "oil_gallon_equiv"
     ],
     "language": "python",
     "metadata": {},
     "outputs": [
      {
       "metadata": {},
       "output_type": "pyout",
       "prompt_number": 9,
       "text": [
        "945.53575791100695"
       ]
      }
     ],
     "prompt_number": 9
    },
    {
     "cell_type": "code",
     "collapsed": false,
     "input": [
      "Gas_Cost = df['Total_Energy'].mean() * 0.87"
     ],
     "language": "python",
     "metadata": {},
     "outputs": [],
     "prompt_number": 40
    },
    {
     "cell_type": "code",
     "collapsed": false,
     "input": [
      "Gas_Cost"
     ],
     "language": "python",
     "metadata": {},
     "outputs": [
      {
       "metadata": {},
       "output_type": "pyout",
       "prompt_number": 41,
       "text": [
        "131.04549574484236"
       ]
      }
     ],
     "prompt_number": 41
    },
    {
     "cell_type": "code",
     "collapsed": false,
     "input": [
      "df['EnergyCost'].hist()"
     ],
     "language": "python",
     "metadata": {},
     "outputs": [
      {
       "metadata": {},
       "output_type": "pyout",
       "prompt_number": 23,
       "text": [
        "<matplotlib.axes.AxesSubplot at 0xee9c710>"
       ]
      },
      {
       "metadata": {},
       "output_type": "display_data",
       "png": "[encoded data removed]",
       "text": [
        "<matplotlib.figure.Figure at 0xf065e80>"
       ]
      }
     ],
     "prompt_number": 23
    },
    {
     "cell_type": "code",
     "collapsed": false,
     "input": [
      "df['EnergyCost'].mean()"
     ],
     "language": "python",
     "metadata": {},
     "outputs": [
      {
       "metadata": {},
       "output_type": "pyout",
       "prompt_number": 24,
       "text": [
        "4586.6488329411768"
       ]
      }
     ],
     "prompt_number": 24
    },
    {
     "cell_type": "code",
     "collapsed": false,
     "input": [],
     "language": "python",
     "metadata": {},
     "outputs": []
    }
   ],
   "metadata": {}
  }
 ]
}