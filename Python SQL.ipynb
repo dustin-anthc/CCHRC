{
 "cells": [
  {
   "cell_type": "code",
   "execution_count": null,
   "metadata": {
    "collapsed": true
   },
   "outputs": [],
   "source": [
    "# NOTE:  Probably will need to alter this to do sql queries that include joins, as \n",
    "# the column name issue will become trickier"
   ]
  },
  {
   "cell_type": "code",
   "execution_count": 1,
   "metadata": {
    "collapsed": false
   },
   "outputs": [],
   "source": [
    "import numpy as np\n",
    "import pandas as pd\n",
    "import matplotlib.pyplot as plt\n",
    "import scipy as sp\n",
    "import seaborn as sns\n",
    "import pymssql as sql"
   ]
  },
  {
   "cell_type": "code",
   "execution_count": 2,
   "metadata": {
    "collapsed": false
   },
   "outputs": [],
   "source": [
    "# Make Sure to Connect to New ARIS VPN first\n",
    "# Connects to the ARIS database using my username and password\n",
    "\n",
    "db = sql.connect(server='192.168.88.1\\sql2014', user='dustin_sql', password='cchrc@123', \n",
    "                      database='akrebate')"
   ]
  },
  {
   "cell_type": "code",
   "execution_count": 3,
   "metadata": {
    "collapsed": true
   },
   "outputs": [],
   "source": [
    "# Write the SQL Query here just like you would in Microsoft SQL Server\n",
    "\n",
    "test_query = \"\"\"\n",
    "SELECT DISTINCT * \n",
    "FROM eLib.SpaceHeatingEquipment heat\n",
    "WHERE heat.LibraryVersion LIKE '2015-03-30'\n",
    "\"\"\""
   ]
  },
  {
   "cell_type": "code",
   "execution_count": 4,
   "metadata": {
    "collapsed": true
   },
   "outputs": [],
   "source": [
    "# This function takes an SQL query and executes it, returning the data as a list of tuples\n",
    "def make_query(query_string):\n",
    "    cursor = db.cursor()\n",
    "    cursor.execute(query_string)\n",
    "    query_result = cursor.fetchall()\n",
    "    \n",
    "    return query_result"
   ]
  },
  {
   "cell_type": "code",
   "execution_count": 5,
   "metadata": {
    "collapsed": false
   },
   "outputs": [],
   "source": [
    "# This function takes a given SQL database table and returns the column names as a list\n",
    "def get_columns(table_name):\n",
    "    \n",
    "    cursor = db.cursor()\n",
    "    table_name = '\\''+table_name+'\\''\n",
    "    cursor.execute(\"\"\"\n",
    "    SELECT name \n",
    "    FROM sys.columns\n",
    "    WHERE object_id = OBJECT_ID({})\n",
    "    \"\"\".format(table_name))\n",
    "                  \n",
    "    column_headers = cursor.fetchall()\n",
    "    \n",
    "    clean_columns=[]\n",
    "    for col in column_headers:\n",
    "        clean = col[0].replace('(','')\n",
    "        cleaner = clean.replace(',)', '')\n",
    "        clean_columns.append(cleaner)\n",
    "                   \n",
    "    return clean_columns"
   ]
  },
  {
   "cell_type": "code",
   "execution_count": 7,
   "metadata": {
    "collapsed": false
   },
   "outputs": [],
   "source": [
    "# This function takes the output from the SQL query and converts it to a pandas dataframe\n",
    "\n",
    "def dataframe_wrap(list_of_tuples, clean_columns):\n",
    "    framelist=[]\n",
    "    for i, col_name in enumerate(clean_columns):\n",
    "        framelist.append((col_name,[e[i] for e in list_of_tuples]))\n",
    "    return pd.DataFrame.from_items(framelist)"
   ]
  },
  {
   "cell_type": "code",
   "execution_count": 11,
   "metadata": {
    "collapsed": false
   },
   "outputs": [
    {
     "data": {
      "text/html": [
       "<div>\n",
       "<table border=\"1\" class=\"dataframe\">\n",
       "  <thead>\n",
       "    <tr style=\"text-align: right;\">\n",
       "      <th></th>\n",
       "      <th>LibraryVersion</th>\n",
       "      <th>ID</th>\n",
       "      <th>Name</th>\n",
       "      <th>Description</th>\n",
       "      <th>Active</th>\n",
       "      <th>Order</th>\n",
       "      <th>EquipTypeID</th>\n",
       "      <th>DistribType</th>\n",
       "      <th>HeatPump</th>\n",
       "      <th>AFUE</th>\n",
       "      <th>SteadyAdjust</th>\n",
       "      <th>AuxPowerPct</th>\n",
       "    </tr>\n",
       "  </thead>\n",
       "  <tbody>\n",
       "    <tr>\n",
       "      <th>0</th>\n",
       "      <td>2015-03-30</td>\n",
       "      <td>1</td>\n",
       "      <td>Electric Resistance Direct</td>\n",
       "      <td>Electric Baseboard, Radiant Panels, or Space H...</td>\n",
       "      <td>True</td>\n",
       "      <td>1</td>\n",
       "      <td>1</td>\n",
       "      <td>3</td>\n",
       "      <td>1</td>\n",
       "      <td>100</td>\n",
       "      <td>0</td>\n",
       "      <td>0.0</td>\n",
       "    </tr>\n",
       "    <tr>\n",
       "      <th>1</th>\n",
       "      <td>2015-03-30</td>\n",
       "      <td>2</td>\n",
       "      <td>Standard Ground Src HP, Hydronic</td>\n",
       "      <td>Ground Source Heat Pump with Average Efficienc...</td>\n",
       "      <td>False</td>\n",
       "      <td>2</td>\n",
       "      <td>1</td>\n",
       "      <td>2</td>\n",
       "      <td>2</td>\n",
       "      <td>425</td>\n",
       "      <td>0</td>\n",
       "      <td>0.0</td>\n",
       "    </tr>\n",
       "    <tr>\n",
       "      <th>2</th>\n",
       "      <td>2015-03-30</td>\n",
       "      <td>3</td>\n",
       "      <td>Non-vented Space heater</td>\n",
       "      <td>No duct work, no vents</td>\n",
       "      <td>True</td>\n",
       "      <td>180</td>\n",
       "      <td>2</td>\n",
       "      <td>3</td>\n",
       "      <td>1</td>\n",
       "      <td>72</td>\n",
       "      <td>2</td>\n",
       "      <td>3.0</td>\n",
       "    </tr>\n",
       "    <tr>\n",
       "      <th>3</th>\n",
       "      <td>2015-03-30</td>\n",
       "      <td>4</td>\n",
       "      <td>Conventional furnace</td>\n",
       "      <td>Pre-1980, natural draft, continuous pilot, no ...</td>\n",
       "      <td>True</td>\n",
       "      <td>165</td>\n",
       "      <td>2</td>\n",
       "      <td>1</td>\n",
       "      <td>1</td>\n",
       "      <td>75</td>\n",
       "      <td>5</td>\n",
       "      <td>4.4</td>\n",
       "    </tr>\n",
       "    <tr>\n",
       "      <th>4</th>\n",
       "      <td>2015-03-30</td>\n",
       "      <td>5</td>\n",
       "      <td>Conventional Boiler</td>\n",
       "      <td>Pre 1980, natural draft, continuous pilot, no ...</td>\n",
       "      <td>True</td>\n",
       "      <td>140</td>\n",
       "      <td>2</td>\n",
       "      <td>2</td>\n",
       "      <td>1</td>\n",
       "      <td>72</td>\n",
       "      <td>8</td>\n",
       "      <td>0.5</td>\n",
       "    </tr>\n",
       "  </tbody>\n",
       "</table>\n",
       "</div>"
      ],
      "text/plain": [
       "  LibraryVersion  ID                              Name  \\\n",
       "0     2015-03-30   1        Electric Resistance Direct   \n",
       "1     2015-03-30   2  Standard Ground Src HP, Hydronic   \n",
       "2     2015-03-30   3           Non-vented Space heater   \n",
       "3     2015-03-30   4              Conventional furnace   \n",
       "4     2015-03-30   5               Conventional Boiler   \n",
       "\n",
       "                                         Description Active  Order  \\\n",
       "0  Electric Baseboard, Radiant Panels, or Space H...   True      1   \n",
       "1  Ground Source Heat Pump with Average Efficienc...  False      2   \n",
       "2                             No duct work, no vents   True    180   \n",
       "3  Pre-1980, natural draft, continuous pilot, no ...   True    165   \n",
       "4  Pre 1980, natural draft, continuous pilot, no ...   True    140   \n",
       "\n",
       "   EquipTypeID  DistribType  HeatPump  AFUE  SteadyAdjust  AuxPowerPct  \n",
       "0            1            3         1   100             0          0.0  \n",
       "1            1            2         2   425             0          0.0  \n",
       "2            2            3         1    72             2          3.0  \n",
       "3            2            1         1    75             5          4.4  \n",
       "4            2            2         1    72             8          0.5  "
      ]
     },
     "execution_count": 11,
     "metadata": {},
     "output_type": "execute_result"
    }
   ],
   "source": [
    "columns = get_columns('eLib.SpaceHeatingEquipment')\n",
    "space_heat_data = make_query(test_query)\n",
    "query_result_df = dataframe_wrap(space_heat_data, columns)\n",
    "query_result_df.head()"
   ]
  },
  {
   "cell_type": "code",
   "execution_count": null,
   "metadata": {
    "collapsed": true
   },
   "outputs": [],
   "source": []
  }
 ],
 "metadata": {
  "kernelspec": {
   "display_name": "Python 2",
   "language": "python",
   "name": "python2"
  }
 },
 "nbformat": 4,
 "nbformat_minor": 0
}
