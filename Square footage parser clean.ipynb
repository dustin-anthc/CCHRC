{
 "cells": [
  {
   "cell_type": "code",
   "execution_count": 1,
   "metadata": {
    "collapsed": true
   },
   "outputs": [],
   "source": [
    "# Pandas gives you the ability to work with Dataframes, which are Excel\n",
    "\n",
    "import pandas as pd\n",
    "\n",
    "# Numpy gives you the ability to work with vector math and is very fast.\n",
    "import numpy as np\n",
    "from random import sample\n",
    "\n",
    "# Matplotlib is for graphing\n",
    "import matplotlib.pyplot as plt\n",
    "\n",
    "# Allows you to plot within the IpyNotebook browse\n",
    "%matplotlib inline"
   ]
  },
  {
   "cell_type": "code",
   "execution_count": 2,
   "metadata": {
    "collapsed": false
   },
   "outputs": [
    {
     "data": {
      "text/html": [
       "<div>\n",
       "<table border=\"1\" class=\"dataframe\">\n",
       "  <thead>\n",
       "    <tr style=\"text-align: right;\">\n",
       "      <th></th>\n",
       "      <th>ProjectID</th>\n",
       "      <th>LocationID</th>\n",
       "      <th>City</th>\n",
       "      <th>Address</th>\n",
       "      <th>RatingPoints</th>\n",
       "      <th>FloorArea</th>\n",
       "      <th>RatingType</th>\n",
       "      <th>HouseType</th>\n",
       "      <th>FileName</th>\n",
       "      <th>YearBuilt</th>\n",
       "      <th>CFM50</th>\n",
       "      <th>EnVolumeExpression</th>\n",
       "      <th>ENACH</th>\n",
       "      <th>Bedrooms</th>\n",
       "      <th>FloorArea.1</th>\n",
       "      <th>VentType</th>\n",
       "      <th>YearBuilt.1</th>\n",
       "      <th>MetadataID</th>\n",
       "      <th>RegionName</th>\n",
       "      <th>ANCSARegionId</th>\n",
       "    </tr>\n",
       "  </thead>\n",
       "  <tbody>\n",
       "    <tr>\n",
       "      <th>0</th>\n",
       "      <td>10430</td>\n",
       "      <td>39332</td>\n",
       "      <td>FAIRBANKS</td>\n",
       "      <td>2545 ALLEN ADALE RD</td>\n",
       "      <td>93.2</td>\n",
       "      <td>4650</td>\n",
       "      <td>BEES</td>\n",
       "      <td>Single_Family</td>\n",
       "      <td>Mark Greer re-created 10430.hm2</td>\n",
       "      <td>2008</td>\n",
       "      <td>NaN</td>\n",
       "      <td>64306</td>\n",
       "      <td>1.480000</td>\n",
       "      <td>3</td>\n",
       "      <td>4650</td>\n",
       "      <td>HRV</td>\n",
       "      <td>2008</td>\n",
       "      <td>7894</td>\n",
       "      <td>Doyon - Fairbanks North Star Borough only</td>\n",
       "      <td>22</td>\n",
       "    </tr>\n",
       "    <tr>\n",
       "      <th>1</th>\n",
       "      <td>14092</td>\n",
       "      <td>38590</td>\n",
       "      <td>FAIRBANKS</td>\n",
       "      <td>1260 LINZ DR</td>\n",
       "      <td>84.6</td>\n",
       "      <td>1656</td>\n",
       "      <td>BEES</td>\n",
       "      <td>Single_Family</td>\n",
       "      <td>C:\\Domains\\akrebate.com\\wwwroot\\AkWarmFiles\\FO...</td>\n",
       "      <td>2009</td>\n",
       "      <td>817.931641</td>\n",
       "      <td>21715~</td>\n",
       "      <td>2.260000</td>\n",
       "      <td>4</td>\n",
       "      <td>1656</td>\n",
       "      <td>HRV</td>\n",
       "      <td>2009</td>\n",
       "      <td>14788</td>\n",
       "      <td>Doyon - Fairbanks North Star Borough only</td>\n",
       "      <td>22</td>\n",
       "    </tr>\n",
       "    <tr>\n",
       "      <th>2</th>\n",
       "      <td>14234</td>\n",
       "      <td>38790</td>\n",
       "      <td>NORTH POLE</td>\n",
       "      <td>669 5TH AVE</td>\n",
       "      <td>92.0</td>\n",
       "      <td>2594</td>\n",
       "      <td>BEES</td>\n",
       "      <td>Single_Family</td>\n",
       "      <td>C:\\Domains\\akrebate.com\\wwwroot\\AkWarmFiles\\DR...</td>\n",
       "      <td>2009</td>\n",
       "      <td>789.975952</td>\n",
       "      <td>33616~</td>\n",
       "      <td>1.410000</td>\n",
       "      <td>4</td>\n",
       "      <td>2594</td>\n",
       "      <td>HRV</td>\n",
       "      <td>2009</td>\n",
       "      <td>14562</td>\n",
       "      <td>Doyon - Fairbanks North Star Borough only</td>\n",
       "      <td>22</td>\n",
       "    </tr>\n",
       "    <tr>\n",
       "      <th>3</th>\n",
       "      <td>14235</td>\n",
       "      <td>39427</td>\n",
       "      <td>NORTH POLE</td>\n",
       "      <td>659 W 5TH AVE</td>\n",
       "      <td>92.5</td>\n",
       "      <td>4090</td>\n",
       "      <td>BEES</td>\n",
       "      <td>Single_Family</td>\n",
       "      <td>C:\\Domains\\akrebate.com\\wwwroot\\AkWarmFiles\\DR...</td>\n",
       "      <td>2009</td>\n",
       "      <td>820.838400</td>\n",
       "      <td>44773~</td>\n",
       "      <td>1.100000</td>\n",
       "      <td>5</td>\n",
       "      <td>4090</td>\n",
       "      <td>HRV</td>\n",
       "      <td>2009</td>\n",
       "      <td>13382</td>\n",
       "      <td>Doyon - Fairbanks North Star Borough only</td>\n",
       "      <td>22</td>\n",
       "    </tr>\n",
       "    <tr>\n",
       "      <th>4</th>\n",
       "      <td>15975</td>\n",
       "      <td>40274</td>\n",
       "      <td>FAIRBANKS</td>\n",
       "      <td>2873 ALDERBERRY TRL</td>\n",
       "      <td>93.3</td>\n",
       "      <td>2731</td>\n",
       "      <td>BEES</td>\n",
       "      <td>Single_Family</td>\n",
       "      <td>C:\\Domains\\akrebate.com\\wwwroot\\AkWarmFiles\\CH...</td>\n",
       "      <td>2009</td>\n",
       "      <td>584.000000</td>\n",
       "      <td>25526~</td>\n",
       "      <td>1.372718</td>\n",
       "      <td>3</td>\n",
       "      <td>2731</td>\n",
       "      <td>HRV</td>\n",
       "      <td>2009</td>\n",
       "      <td>16682</td>\n",
       "      <td>Doyon - Fairbanks North Star Borough only</td>\n",
       "      <td>22</td>\n",
       "    </tr>\n",
       "  </tbody>\n",
       "</table>\n",
       "</div>"
      ],
      "text/plain": [
       "   ProjectID  LocationID        City               Address  RatingPoints  \\\n",
       "0      10430       39332   FAIRBANKS  2545 ALLEN ADALE RD           93.2   \n",
       "1      14092       38590   FAIRBANKS         1260 LINZ DR           84.6   \n",
       "2      14234       38790  NORTH POLE          669 5TH AVE           92.0   \n",
       "3      14235       39427  NORTH POLE        659 W 5TH AVE           92.5   \n",
       "4      15975       40274   FAIRBANKS  2873 ALDERBERRY TRL           93.3   \n",
       "\n",
       "  FloorArea RatingType      HouseType  \\\n",
       "0      4650       BEES  Single_Family   \n",
       "1      1656       BEES  Single_Family   \n",
       "2      2594       BEES  Single_Family   \n",
       "3      4090       BEES  Single_Family   \n",
       "4      2731       BEES  Single_Family   \n",
       "\n",
       "                                            FileName  YearBuilt       CFM50  \\\n",
       "0                    Mark Greer re-created 10430.hm2       2008         NaN   \n",
       "1  C:\\Domains\\akrebate.com\\wwwroot\\AkWarmFiles\\FO...       2009  817.931641   \n",
       "2  C:\\Domains\\akrebate.com\\wwwroot\\AkWarmFiles\\DR...       2009  789.975952   \n",
       "3  C:\\Domains\\akrebate.com\\wwwroot\\AkWarmFiles\\DR...       2009  820.838400   \n",
       "4  C:\\Domains\\akrebate.com\\wwwroot\\AkWarmFiles\\CH...       2009  584.000000   \n",
       "\n",
       "  EnVolumeExpression     ENACH  Bedrooms FloorArea.1 VentType  YearBuilt.1  \\\n",
       "0              64306  1.480000         3        4650      HRV         2008   \n",
       "1             21715~  2.260000         4        1656      HRV         2009   \n",
       "2             33616~  1.410000         4        2594      HRV         2009   \n",
       "3             44773~  1.100000         5        4090      HRV         2009   \n",
       "4             25526~  1.372718         3        2731      HRV         2009   \n",
       "\n",
       "   MetadataID                                 RegionName  ANCSARegionId  \n",
       "0        7894  Doyon - Fairbanks North Star Borough only             22  \n",
       "1       14788  Doyon - Fairbanks North Star Borough only             22  \n",
       "2       14562  Doyon - Fairbanks North Star Borough only             22  \n",
       "3       13382  Doyon - Fairbanks North Star Borough only             22  \n",
       "4       16682  Doyon - Fairbanks North Star Borough only             22  "
      ]
     },
     "execution_count": 2,
     "metadata": {},
     "output_type": "execute_result"
    }
   ],
   "source": [
    "# This section reads a csv file and tests to make sure the header is correct\n",
    "\n",
    "df = pd.read_csv(r\"C:\\Users\\dustin\\Desktop\\Indoor Air Quality\\IAQ - Fairbanks Borough BEES Ratings CSV.csv\", header=0)\n",
    "df.head()"
   ]
  },
  {
   "cell_type": "code",
   "execution_count": 16,
   "metadata": {
    "collapsed": false
   },
   "outputs": [
    {
     "data": {
      "text/plain": [
       "array(['Single_Family'], dtype=object)"
      ]
     },
     "execution_count": 16,
     "metadata": {},
     "output_type": "execute_result"
    }
   ],
   "source": [
    "df['HouseType'].unique()"
   ]
  },
  {
   "cell_type": "code",
   "execution_count": 17,
   "metadata": {
    "collapsed": false
   },
   "outputs": [
    {
     "data": {
      "text/plain": [
       "array(['BEES'], dtype=object)"
      ]
     },
     "execution_count": 17,
     "metadata": {},
     "output_type": "execute_result"
    }
   ],
   "source": [
    "df['RatingType'].unique()"
   ]
  },
  {
   "cell_type": "code",
   "execution_count": 21,
   "metadata": {
    "collapsed": false
   },
   "outputs": [
    {
     "data": {
      "text/plain": [
       "array([3, 4, 5, 2, 1, 7, 6], dtype=int64)"
      ]
     },
     "execution_count": 21,
     "metadata": {},
     "output_type": "execute_result"
    }
   ],
   "source": [
    "df['Bedrooms'].unique()"
   ]
  },
  {
   "cell_type": "code",
   "execution_count": 4,
   "metadata": {
    "collapsed": false
   },
   "outputs": [
    {
     "data": {
      "text/plain": [
       "ProjectID               int64\n",
       "LocationID              int64\n",
       "City                   object\n",
       "Address                object\n",
       "RatingPoints          float64\n",
       "FloorArea              object\n",
       "RatingType             object\n",
       "HouseType              object\n",
       "FileName               object\n",
       "YearBuilt               int64\n",
       "CFM50                 float64\n",
       "EnVolumeExpression     object\n",
       "ENACH                 float64\n",
       "Bedrooms                int64\n",
       "FloorArea.1            object\n",
       "VentType               object\n",
       "YearBuilt.1             int64\n",
       "MetadataID              int64\n",
       "RegionName             object\n",
       "ANCSARegionId           int64\n",
       "dtype: object"
      ]
     },
     "execution_count": 4,
     "metadata": {},
     "output_type": "execute_result"
    }
   ],
   "source": [
    "df.dtypes"
   ]
  },
  {
   "cell_type": "code",
   "execution_count": 5,
   "metadata": {
    "collapsed": false
   },
   "outputs": [
    {
     "data": {
      "text/plain": [
       "(728, 20)"
      ]
     },
     "execution_count": 5,
     "metadata": {},
     "output_type": "execute_result"
    }
   ],
   "source": [
    "df.shape"
   ]
  },
  {
   "cell_type": "code",
   "execution_count": 6,
   "metadata": {
    "collapsed": false
   },
   "outputs": [
    {
     "data": {
      "text/plain": [
       "0      93.2\n",
       "1      84.6\n",
       "2      92.0\n",
       "3      92.5\n",
       "4      93.3\n",
       "5      92.2\n",
       "6      92.5\n",
       "7      92.2\n",
       "8      90.2\n",
       "9      93.7\n",
       "10     93.5\n",
       "11     93.3\n",
       "12     89.7\n",
       "13     92.3\n",
       "14     93.9\n",
       "15     92.5\n",
       "16     92.1\n",
       "17     95.2\n",
       "18     92.0\n",
       "19     92.1\n",
       "20     93.3\n",
       "21     92.8\n",
       "22     92.4\n",
       "23     93.0\n",
       "24     92.4\n",
       "25     92.0\n",
       "26     93.5\n",
       "27     92.6\n",
       "28     83.2\n",
       "29     93.6\n",
       "       ... \n",
       "698    96.3\n",
       "699    97.5\n",
       "700    91.3\n",
       "701    96.0\n",
       "702    93.1\n",
       "703    96.4\n",
       "704    92.0\n",
       "705    96.0\n",
       "706    94.4\n",
       "707    77.4\n",
       "708    92.8\n",
       "709    94.4\n",
       "710    92.7\n",
       "711    96.7\n",
       "712    97.4\n",
       "713    95.5\n",
       "714    96.0\n",
       "715    86.8\n",
       "716    98.0\n",
       "717    95.4\n",
       "718    95.6\n",
       "719    95.8\n",
       "720    96.2\n",
       "721    93.3\n",
       "722    83.2\n",
       "723    95.7\n",
       "724    96.2\n",
       "725    92.7\n",
       "726    95.6\n",
       "727    96.7\n",
       "Name: RatingPoints, dtype: float64"
      ]
     },
     "execution_count": 6,
     "metadata": {},
     "output_type": "execute_result"
    }
   ],
   "source": [
    "df['RatingPoints']"
   ]
  },
  {
   "cell_type": "code",
   "execution_count": 7,
   "metadata": {
    "collapsed": false
   },
   "outputs": [
    {
     "data": {
      "text/plain": [
       "92.58173076923077"
      ]
     },
     "execution_count": 7,
     "metadata": {},
     "output_type": "execute_result"
    }
   ],
   "source": [
    "rating_mean = df['RatingPoints'].mean()\n",
    "rating_mean"
   ]
  },
  {
   "cell_type": "code",
   "execution_count": 8,
   "metadata": {
    "collapsed": false
   },
   "outputs": [
    {
     "data": {
      "text/plain": [
       "count      728.000000\n",
       "mean      2060.502747\n",
       "std        948.171310\n",
       "min       2008.000000\n",
       "25%       2009.000000\n",
       "50%       2010.000000\n",
       "75%       2012.000000\n",
       "max      20115.000000\n",
       "Name: YearBuilt, dtype: float64"
      ]
     },
     "execution_count": 8,
     "metadata": {},
     "output_type": "execute_result"
    }
   ],
   "source": [
    "df['YearBuilt'].describe()"
   ]
  },
  {
   "cell_type": "code",
   "execution_count": 23,
   "metadata": {
    "collapsed": false
   },
   "outputs": [
    {
     "data": {
      "text/html": [
       "<div>\n",
       "<table border=\"1\" class=\"dataframe\">\n",
       "  <thead>\n",
       "    <tr style=\"text-align: right;\">\n",
       "      <th></th>\n",
       "      <th>City</th>\n",
       "      <th>YearBuilt</th>\n",
       "      <th>ENACH</th>\n",
       "      <th>Bedrooms</th>\n",
       "    </tr>\n",
       "  </thead>\n",
       "  <tbody>\n",
       "    <tr>\n",
       "      <th>0</th>\n",
       "      <td>FAIRBANKS</td>\n",
       "      <td>2008</td>\n",
       "      <td>1.480000</td>\n",
       "      <td>3</td>\n",
       "    </tr>\n",
       "    <tr>\n",
       "      <th>1</th>\n",
       "      <td>FAIRBANKS</td>\n",
       "      <td>2009</td>\n",
       "      <td>2.260000</td>\n",
       "      <td>4</td>\n",
       "    </tr>\n",
       "    <tr>\n",
       "      <th>2</th>\n",
       "      <td>NORTH POLE</td>\n",
       "      <td>2009</td>\n",
       "      <td>1.410000</td>\n",
       "      <td>4</td>\n",
       "    </tr>\n",
       "    <tr>\n",
       "      <th>3</th>\n",
       "      <td>NORTH POLE</td>\n",
       "      <td>2009</td>\n",
       "      <td>1.100000</td>\n",
       "      <td>5</td>\n",
       "    </tr>\n",
       "    <tr>\n",
       "      <th>4</th>\n",
       "      <td>FAIRBANKS</td>\n",
       "      <td>2009</td>\n",
       "      <td>1.372718</td>\n",
       "      <td>3</td>\n",
       "    </tr>\n",
       "  </tbody>\n",
       "</table>\n",
       "</div>"
      ],
      "text/plain": [
       "         City  YearBuilt     ENACH  Bedrooms\n",
       "0   FAIRBANKS       2008  1.480000         3\n",
       "1   FAIRBANKS       2009  2.260000         4\n",
       "2  NORTH POLE       2009  1.410000         4\n",
       "3  NORTH POLE       2009  1.100000         5\n",
       "4   FAIRBANKS       2009  1.372718         3"
      ]
     },
     "execution_count": 23,
     "metadata": {},
     "output_type": "execute_result"
    }
   ],
   "source": [
    "shortened_df = df[['City', 'YearBuilt', 'ENACH', 'Bedrooms']]\n",
    "shortened_df.head()"
   ]
  },
  {
   "cell_type": "code",
   "execution_count": 14,
   "metadata": {
    "collapsed": false
   },
   "outputs": [
    {
     "data": {
      "text/html": [
       "<div>\n",
       "<table border=\"1\" class=\"dataframe\">\n",
       "  <thead>\n",
       "    <tr style=\"text-align: right;\">\n",
       "      <th></th>\n",
       "      <th>YearBuilt</th>\n",
       "      <th>ENACH</th>\n",
       "    </tr>\n",
       "    <tr>\n",
       "      <th>City</th>\n",
       "      <th></th>\n",
       "      <th></th>\n",
       "    </tr>\n",
       "  </thead>\n",
       "  <tbody>\n",
       "    <tr>\n",
       "      <th>FAIRBANKS</th>\n",
       "      <td>2053.598592</td>\n",
       "      <td>1.463573</td>\n",
       "    </tr>\n",
       "    <tr>\n",
       "      <th>NORTH POLE</th>\n",
       "      <td>2071.874150</td>\n",
       "      <td>1.459774</td>\n",
       "    </tr>\n",
       "    <tr>\n",
       "      <th>SALCHA</th>\n",
       "      <td>2010.142857</td>\n",
       "      <td>1.626745</td>\n",
       "    </tr>\n",
       "    <tr>\n",
       "      <th>TWO RIVERS</th>\n",
       "      <td>2011.000000</td>\n",
       "      <td>1.658187</td>\n",
       "    </tr>\n",
       "  </tbody>\n",
       "</table>\n",
       "</div>"
      ],
      "text/plain": [
       "              YearBuilt     ENACH\n",
       "City                             \n",
       "FAIRBANKS   2053.598592  1.463573\n",
       "NORTH POLE  2071.874150  1.459774\n",
       "SALCHA      2010.142857  1.626745\n",
       "TWO RIVERS  2011.000000  1.658187"
      ]
     },
     "execution_count": 14,
     "metadata": {},
     "output_type": "execute_result"
    }
   ],
   "source": [
    "shortened_df.groupby(['City']).mean()"
   ]
  },
  {
   "cell_type": "code",
   "execution_count": 15,
   "metadata": {
    "collapsed": false
   },
   "outputs": [
    {
     "data": {
      "text/html": [
       "<div>\n",
       "<table border=\"1\" class=\"dataframe\">\n",
       "  <thead>\n",
       "    <tr style=\"text-align: right;\">\n",
       "      <th></th>\n",
       "      <th>YearBuilt</th>\n",
       "      <th>ENACH</th>\n",
       "    </tr>\n",
       "    <tr>\n",
       "      <th>City</th>\n",
       "      <th></th>\n",
       "      <th></th>\n",
       "    </tr>\n",
       "  </thead>\n",
       "  <tbody>\n",
       "    <tr>\n",
       "      <th>FAIRBANKS</th>\n",
       "      <td>426</td>\n",
       "      <td>426</td>\n",
       "    </tr>\n",
       "    <tr>\n",
       "      <th>NORTH POLE</th>\n",
       "      <td>294</td>\n",
       "      <td>294</td>\n",
       "    </tr>\n",
       "    <tr>\n",
       "      <th>SALCHA</th>\n",
       "      <td>7</td>\n",
       "      <td>7</td>\n",
       "    </tr>\n",
       "    <tr>\n",
       "      <th>TWO RIVERS</th>\n",
       "      <td>1</td>\n",
       "      <td>1</td>\n",
       "    </tr>\n",
       "  </tbody>\n",
       "</table>\n",
       "</div>"
      ],
      "text/plain": [
       "            YearBuilt  ENACH\n",
       "City                        \n",
       "FAIRBANKS         426    426\n",
       "NORTH POLE        294    294\n",
       "SALCHA              7      7\n",
       "TWO RIVERS          1      1"
      ]
     },
     "execution_count": 15,
     "metadata": {},
     "output_type": "execute_result"
    }
   ],
   "source": [
    "shortened_df.groupby(['City']).count()"
   ]
  },
  {
   "cell_type": "code",
   "execution_count": 24,
   "metadata": {
    "collapsed": false
   },
   "outputs": [
    {
     "data": {
      "text/html": [
       "<div>\n",
       "<table border=\"1\" class=\"dataframe\">\n",
       "  <thead>\n",
       "    <tr style=\"text-align: right;\">\n",
       "      <th></th>\n",
       "      <th></th>\n",
       "      <th>YearBuilt</th>\n",
       "      <th>ENACH</th>\n",
       "    </tr>\n",
       "    <tr>\n",
       "      <th>City</th>\n",
       "      <th>Bedrooms</th>\n",
       "      <th></th>\n",
       "      <th></th>\n",
       "    </tr>\n",
       "  </thead>\n",
       "  <tbody>\n",
       "    <tr>\n",
       "      <th rowspan=\"6\" valign=\"top\">FAIRBANKS</th>\n",
       "      <th>1</th>\n",
       "      <td>2011.250000</td>\n",
       "      <td>1.580888</td>\n",
       "    </tr>\n",
       "    <tr>\n",
       "      <th>2</th>\n",
       "      <td>2010.979592</td>\n",
       "      <td>1.738857</td>\n",
       "    </tr>\n",
       "    <tr>\n",
       "      <th>3</th>\n",
       "      <td>2080.030418</td>\n",
       "      <td>1.376326</td>\n",
       "    </tr>\n",
       "    <tr>\n",
       "      <th>4</th>\n",
       "      <td>2010.750000</td>\n",
       "      <td>1.438959</td>\n",
       "    </tr>\n",
       "    <tr>\n",
       "      <th>5</th>\n",
       "      <td>2011.625000</td>\n",
       "      <td>1.038192</td>\n",
       "    </tr>\n",
       "    <tr>\n",
       "      <th>7</th>\n",
       "      <td>2008.000000</td>\n",
       "      <td>0.510000</td>\n",
       "    </tr>\n",
       "    <tr>\n",
       "      <th rowspan=\"6\" valign=\"top\">NORTH POLE</th>\n",
       "      <th>1</th>\n",
       "      <td>2011.111111</td>\n",
       "      <td>2.361362</td>\n",
       "    </tr>\n",
       "    <tr>\n",
       "      <th>2</th>\n",
       "      <td>2680.888889</td>\n",
       "      <td>1.808797</td>\n",
       "    </tr>\n",
       "    <tr>\n",
       "      <th>3</th>\n",
       "      <td>2010.275556</td>\n",
       "      <td>1.406290</td>\n",
       "    </tr>\n",
       "    <tr>\n",
       "      <th>4</th>\n",
       "      <td>2010.321429</td>\n",
       "      <td>1.305329</td>\n",
       "    </tr>\n",
       "    <tr>\n",
       "      <th>5</th>\n",
       "      <td>2008.750000</td>\n",
       "      <td>1.179285</td>\n",
       "    </tr>\n",
       "    <tr>\n",
       "      <th>6</th>\n",
       "      <td>2011.000000</td>\n",
       "      <td>1.402264</td>\n",
       "    </tr>\n",
       "    <tr>\n",
       "      <th rowspan=\"2\" valign=\"top\">SALCHA</th>\n",
       "      <th>2</th>\n",
       "      <td>2008.750000</td>\n",
       "      <td>1.967964</td>\n",
       "    </tr>\n",
       "    <tr>\n",
       "      <th>3</th>\n",
       "      <td>2012.000000</td>\n",
       "      <td>1.171786</td>\n",
       "    </tr>\n",
       "    <tr>\n",
       "      <th>TWO RIVERS</th>\n",
       "      <th>3</th>\n",
       "      <td>2011.000000</td>\n",
       "      <td>1.658187</td>\n",
       "    </tr>\n",
       "  </tbody>\n",
       "</table>\n",
       "</div>"
      ],
      "text/plain": [
       "                       YearBuilt     ENACH\n",
       "City       Bedrooms                       \n",
       "FAIRBANKS  1         2011.250000  1.580888\n",
       "           2         2010.979592  1.738857\n",
       "           3         2080.030418  1.376326\n",
       "           4         2010.750000  1.438959\n",
       "           5         2011.625000  1.038192\n",
       "           7         2008.000000  0.510000\n",
       "NORTH POLE 1         2011.111111  2.361362\n",
       "           2         2680.888889  1.808797\n",
       "           3         2010.275556  1.406290\n",
       "           4         2010.321429  1.305329\n",
       "           5         2008.750000  1.179285\n",
       "           6         2011.000000  1.402264\n",
       "SALCHA     2         2008.750000  1.967964\n",
       "           3         2012.000000  1.171786\n",
       "TWO RIVERS 3         2011.000000  1.658187"
      ]
     },
     "execution_count": 24,
     "metadata": {},
     "output_type": "execute_result"
    }
   ],
   "source": [
    "shortened_df.groupby(['City', 'Bedrooms']).mean()"
   ]
  },
  {
   "cell_type": "code",
   "execution_count": 26,
   "metadata": {
    "collapsed": false
   },
   "outputs": [
    {
     "data": {
      "text/html": [
       "<div style=\"max-height:1000px;max-width:1500px;overflow:auto;\">\n",
       "<table border=\"1\" class=\"dataframe\">\n",
       "  <thead>\n",
       "    <tr style=\"text-align: right;\">\n",
       "      <th></th>\n",
       "      <th>ProjectID</th>\n",
       "      <th>FloorArea</th>\n",
       "    </tr>\n",
       "  </thead>\n",
       "  <tbody>\n",
       "    <tr>\n",
       "      <th>0</th>\n",
       "      <td> 10430</td>\n",
       "      <td> 4650</td>\n",
       "    </tr>\n",
       "    <tr>\n",
       "      <th>1</th>\n",
       "      <td> 14092</td>\n",
       "      <td> 1656</td>\n",
       "    </tr>\n",
       "    <tr>\n",
       "      <th>2</th>\n",
       "      <td> 14234</td>\n",
       "      <td> 2594</td>\n",
       "    </tr>\n",
       "    <tr>\n",
       "      <th>3</th>\n",
       "      <td> 14235</td>\n",
       "      <td> 4090</td>\n",
       "    </tr>\n",
       "    <tr>\n",
       "      <th>4</th>\n",
       "      <td> 15975</td>\n",
       "      <td> 2731</td>\n",
       "    </tr>\n",
       "  </tbody>\n",
       "</table>\n",
       "</div>"
      ],
      "text/plain": [
       "  ProjectID FloorArea\n",
       "0     10430      4650\n",
       "1     14092      1656\n",
       "2     14234      2594\n",
       "3     14235      4090\n",
       "4     15975      2731"
      ]
     },
     "execution_count": 26,
     "metadata": {},
     "output_type": "execute_result"
    }
   ],
   "source": [
    "# Use only unique ID and floor area to be parsed and convert to string.  \n",
    "#May need to add garage area expression depending on applications\n",
    "\n",
    "sqft = df[['ProjectID', 'FloorArea']].astype(str)\n",
    "sqft.head()"
   ]
  },
  {
   "cell_type": "code",
   "execution_count": 27,
   "metadata": {
    "collapsed": false
   },
   "outputs": [],
   "source": [
    "# Takes a series of AkWarm floor area expressions and returns the evaluated values\n",
    "def cleanExpression(expression_series):\n",
    "    \n",
    "    # Split into expressions based on return character\n",
    "    expressions = pd.DataFrame(list(expression_series.str.split('~')))\n",
    "    \n",
    "    # ignore and remove all foot indicators and convert inch text to symbol\n",
    "    cleaned_expressions = expressions.replace([\"'\", 'foot', 'feet', 'inches', 'inch'], [' ', ' ', ' ', '\"', '\"'], regex=True)\n",
    "    \n",
    "    # Remove labels at the beginning of expressions if they end with a ':'.\n",
    "    cleaned_expressions = cleaned_expressions.replace('.*:', ' ', regex=True)\n",
    "    \n",
    "    # Convert inches into decimals. Note: only works up to half inches-- will not compute for decimal inches, e.g. 1.25\"\n",
    "    inches = [' 1\"', ' 2\"', ' 3\"', ' 4\"', ' 5\"', ' 6\"', ' 7\"', ' 8\"', ' 9\"', ' 10\"', ' 11\"']\n",
    "    decimals = ['.083333', '.166667', '.25', '.333333', '.416667', '.5', '.583333', '.666667', '.75', '.833333', '.9166667']\n",
    "    half_inches = [' 0.5\"' ,' 1.5\"' ,' 2.5\"' ,' 3.5\"' ,' 4.5\"' ,' 5.5\"' ,' 6.5\"' ,' 7.5\"' ,' 8.5\"' ,' 9.5\"' ,' 10.5\"' ,' 11.5\"']\n",
    "    half_decimals = ['.041667', '.125', '.2083333', '.291667', '.375', '.458333', '.541667', '.625', '.708333', '.791667', '.875' ,'.958333']\n",
    "    cleaned_expressions = cleaned_expressions.replace(inches, decimals, regex=True)\n",
    "    cleaned_expressions = cleaned_expressions.replace(half_inches, half_decimals, regex=True)\n",
    "    cleaned_expressions = cleaned_expressions.replace(' ', '', regex=True)\n",
    "    \n",
    "    # Replace all empty and NaN cells with 0\n",
    "    cleaned_expressions = cleaned_expressions.replace(['', 'nan'], [0,0], regex=True)\n",
    "    cleaned_expressions = cleaned_expressions.applymap(lambda x: np.nan if isinstance(x, basestring) and x.isspace() else x)\n",
    "    cleaned_expressions = cleaned_expressions.fillna(0)\n",
    "    \n",
    "    return cleaned_expressions\n",
    "\n",
    "def evaluate_expression(cleaned_expressions):\n",
    "    # This evaluates the string based formula and returns a float for each cell.\n",
    "    formula = lambda x: pd.eval(x)\n",
    "    cleaned_expressions = cleaned_expressions.applymap(formula)\n",
    "    \n",
    "    # This sums the expressions for an AkWarm Rating\n",
    "    evaluated_expression = cleaned_expressions.sum(axis=1)\n",
    "    \n",
    "    return evaluated_expression"
   ]
  },
  {
   "cell_type": "code",
   "execution_count": 28,
   "metadata": {
    "collapsed": false
   },
   "outputs": [],
   "source": [
    "# Make sure that the two column names are the same as the column names to be evaluated\n",
    "\n",
    "cleaned_sf = cleanExpression(sqft['FloorArea'])\n",
    "df['EvaluatedFloorArea'] = evaluate_expression(cleaned_sf)\n",
    "\n",
    "# Only need the below section if evaluating garage area as well. \n",
    "\n",
    "#cleaned_garage_sf = cleanExpression(sqft['GarageArea'])\n",
    "#df['EvaluatedGarageArea'] = evaluate_expression(cleaned_garage_sf)"
   ]
  },
  {
   "cell_type": "code",
   "execution_count": 29,
   "metadata": {
    "collapsed": false
   },
   "outputs": [
    {
     "data": {
      "text/html": [
       "<div style=\"max-height:1000px;max-width:1500px;overflow:auto;\">\n",
       "<table border=\"1\" class=\"dataframe\">\n",
       "  <thead>\n",
       "    <tr style=\"text-align: right;\">\n",
       "      <th></th>\n",
       "      <th>ProjectID</th>\n",
       "      <th>LocationID</th>\n",
       "      <th>City</th>\n",
       "      <th>Address</th>\n",
       "      <th>RatingPoints</th>\n",
       "      <th>FloorArea</th>\n",
       "      <th>RatingType</th>\n",
       "      <th>HouseType</th>\n",
       "      <th>FileName</th>\n",
       "      <th>YearBuilt</th>\n",
       "      <th>...</th>\n",
       "      <th>EnVolumeExpression</th>\n",
       "      <th>ENACH</th>\n",
       "      <th>Bedrooms</th>\n",
       "      <th>FloorArea.1</th>\n",
       "      <th>VentType</th>\n",
       "      <th>YearBuilt.1</th>\n",
       "      <th>MetadataID</th>\n",
       "      <th>RegionName</th>\n",
       "      <th>ANCSARegionId</th>\n",
       "      <th>EvaluatedFloorArea</th>\n",
       "    </tr>\n",
       "  </thead>\n",
       "  <tbody>\n",
       "    <tr>\n",
       "      <th>0</th>\n",
       "      <td> 10430</td>\n",
       "      <td> 39332</td>\n",
       "      <td>  FAIRBANKS</td>\n",
       "      <td> 2545 ALLEN ADALE RD </td>\n",
       "      <td> 93.2</td>\n",
       "      <td> 4650</td>\n",
       "      <td> BEES</td>\n",
       "      <td> Single_Family</td>\n",
       "      <td>                   Mark Greer re-created 10430.hm2</td>\n",
       "      <td> 2008</td>\n",
       "      <td>...</td>\n",
       "      <td>  64306</td>\n",
       "      <td> 1.480000</td>\n",
       "      <td> 3</td>\n",
       "      <td> 4650</td>\n",
       "      <td> HRV</td>\n",
       "      <td> 2008</td>\n",
       "      <td>  7894</td>\n",
       "      <td> Doyon - Fairbanks North Star Borough only</td>\n",
       "      <td> 22</td>\n",
       "      <td> 4650</td>\n",
       "    </tr>\n",
       "    <tr>\n",
       "      <th>1</th>\n",
       "      <td> 14092</td>\n",
       "      <td> 38590</td>\n",
       "      <td>  FAIRBANKS</td>\n",
       "      <td>        1260 LINZ DR </td>\n",
       "      <td> 84.6</td>\n",
       "      <td> 1656</td>\n",
       "      <td> BEES</td>\n",
       "      <td> Single_Family</td>\n",
       "      <td> C:\\Domains\\akrebate.com\\wwwroot\\AkWarmFiles\\FO...</td>\n",
       "      <td> 2009</td>\n",
       "      <td>...</td>\n",
       "      <td> 21715~</td>\n",
       "      <td> 2.260000</td>\n",
       "      <td> 4</td>\n",
       "      <td> 1656</td>\n",
       "      <td> HRV</td>\n",
       "      <td> 2009</td>\n",
       "      <td> 14788</td>\n",
       "      <td> Doyon - Fairbanks North Star Borough only</td>\n",
       "      <td> 22</td>\n",
       "      <td> 1656</td>\n",
       "    </tr>\n",
       "    <tr>\n",
       "      <th>2</th>\n",
       "      <td> 14234</td>\n",
       "      <td> 38790</td>\n",
       "      <td> NORTH POLE</td>\n",
       "      <td>         669 5TH AVE </td>\n",
       "      <td> 92.0</td>\n",
       "      <td> 2594</td>\n",
       "      <td> BEES</td>\n",
       "      <td> Single_Family</td>\n",
       "      <td> C:\\Domains\\akrebate.com\\wwwroot\\AkWarmFiles\\DR...</td>\n",
       "      <td> 2009</td>\n",
       "      <td>...</td>\n",
       "      <td> 33616~</td>\n",
       "      <td> 1.410000</td>\n",
       "      <td> 4</td>\n",
       "      <td> 2594</td>\n",
       "      <td> HRV</td>\n",
       "      <td> 2009</td>\n",
       "      <td> 14562</td>\n",
       "      <td> Doyon - Fairbanks North Star Borough only</td>\n",
       "      <td> 22</td>\n",
       "      <td> 2594</td>\n",
       "    </tr>\n",
       "    <tr>\n",
       "      <th>3</th>\n",
       "      <td> 14235</td>\n",
       "      <td> 39427</td>\n",
       "      <td> NORTH POLE</td>\n",
       "      <td>       659 W 5TH AVE </td>\n",
       "      <td> 92.5</td>\n",
       "      <td> 4090</td>\n",
       "      <td> BEES</td>\n",
       "      <td> Single_Family</td>\n",
       "      <td> C:\\Domains\\akrebate.com\\wwwroot\\AkWarmFiles\\DR...</td>\n",
       "      <td> 2009</td>\n",
       "      <td>...</td>\n",
       "      <td> 44773~</td>\n",
       "      <td> 1.100000</td>\n",
       "      <td> 5</td>\n",
       "      <td> 4090</td>\n",
       "      <td> HRV</td>\n",
       "      <td> 2009</td>\n",
       "      <td> 13382</td>\n",
       "      <td> Doyon - Fairbanks North Star Borough only</td>\n",
       "      <td> 22</td>\n",
       "      <td> 4090</td>\n",
       "    </tr>\n",
       "    <tr>\n",
       "      <th>4</th>\n",
       "      <td> 15975</td>\n",
       "      <td> 40274</td>\n",
       "      <td>  FAIRBANKS</td>\n",
       "      <td> 2873 ALDERBERRY TRL </td>\n",
       "      <td> 93.3</td>\n",
       "      <td> 2731</td>\n",
       "      <td> BEES</td>\n",
       "      <td> Single_Family</td>\n",
       "      <td> C:\\Domains\\akrebate.com\\wwwroot\\AkWarmFiles\\CH...</td>\n",
       "      <td> 2009</td>\n",
       "      <td>...</td>\n",
       "      <td> 25526~</td>\n",
       "      <td> 1.372718</td>\n",
       "      <td> 3</td>\n",
       "      <td> 2731</td>\n",
       "      <td> HRV</td>\n",
       "      <td> 2009</td>\n",
       "      <td> 16682</td>\n",
       "      <td> Doyon - Fairbanks North Star Borough only</td>\n",
       "      <td> 22</td>\n",
       "      <td> 2731</td>\n",
       "    </tr>\n",
       "  </tbody>\n",
       "</table>\n",
       "<p>5 rows × 21 columns</p>\n",
       "</div>"
      ],
      "text/plain": [
       "   ProjectID  LocationID        City               Address  RatingPoints  \\\n",
       "0      10430       39332   FAIRBANKS  2545 ALLEN ADALE RD           93.2   \n",
       "1      14092       38590   FAIRBANKS         1260 LINZ DR           84.6   \n",
       "2      14234       38790  NORTH POLE          669 5TH AVE           92.0   \n",
       "3      14235       39427  NORTH POLE        659 W 5TH AVE           92.5   \n",
       "4      15975       40274   FAIRBANKS  2873 ALDERBERRY TRL           93.3   \n",
       "\n",
       "  FloorArea RatingType      HouseType  \\\n",
       "0      4650       BEES  Single_Family   \n",
       "1      1656       BEES  Single_Family   \n",
       "2      2594       BEES  Single_Family   \n",
       "3      4090       BEES  Single_Family   \n",
       "4      2731       BEES  Single_Family   \n",
       "\n",
       "                                            FileName  YearBuilt    ...      \\\n",
       "0                    Mark Greer re-created 10430.hm2       2008    ...       \n",
       "1  C:\\Domains\\akrebate.com\\wwwroot\\AkWarmFiles\\FO...       2009    ...       \n",
       "2  C:\\Domains\\akrebate.com\\wwwroot\\AkWarmFiles\\DR...       2009    ...       \n",
       "3  C:\\Domains\\akrebate.com\\wwwroot\\AkWarmFiles\\DR...       2009    ...       \n",
       "4  C:\\Domains\\akrebate.com\\wwwroot\\AkWarmFiles\\CH...       2009    ...       \n",
       "\n",
       "   EnVolumeExpression     ENACH  Bedrooms  FloorArea.1 VentType YearBuilt.1  \\\n",
       "0               64306  1.480000         3         4650      HRV        2008   \n",
       "1              21715~  2.260000         4         1656      HRV        2009   \n",
       "2              33616~  1.410000         4         2594      HRV        2009   \n",
       "3              44773~  1.100000         5         4090      HRV        2009   \n",
       "4              25526~  1.372718         3         2731      HRV        2009   \n",
       "\n",
       "   MetadataID                                 RegionName ANCSARegionId  \\\n",
       "0        7894  Doyon - Fairbanks North Star Borough only            22   \n",
       "1       14788  Doyon - Fairbanks North Star Borough only            22   \n",
       "2       14562  Doyon - Fairbanks North Star Borough only            22   \n",
       "3       13382  Doyon - Fairbanks North Star Borough only            22   \n",
       "4       16682  Doyon - Fairbanks North Star Borough only            22   \n",
       "\n",
       "   EvaluatedFloorArea  \n",
       "0                4650  \n",
       "1                1656  \n",
       "2                2594  \n",
       "3                4090  \n",
       "4                2731  \n",
       "\n",
       "[5 rows x 21 columns]"
      ]
     },
     "execution_count": 29,
     "metadata": {},
     "output_type": "execute_result"
    }
   ],
   "source": [
    "df.head()"
   ]
  },
  {
   "cell_type": "code",
   "execution_count": 30,
   "metadata": {
    "collapsed": true
   },
   "outputs": [],
   "source": [
    "# Make sure to enter a new name for the file each time\n",
    "df.to_csv(\"IAQ_FAI_BEES_Evaluated_Floor_Area.csv\")"
   ]
  },
  {
   "cell_type": "code",
   "execution_count": null,
   "metadata": {
    "collapsed": true
   },
   "outputs": [],
   "source": []
  },
  {
   "cell_type": "code",
   "execution_count": null,
   "metadata": {
    "collapsed": true
   },
   "outputs": [],
   "source": []
  }
 ],
 "metadata": {
  "kernelspec": {
   "display_name": "Python 2",
   "language": "python",
   "name": "python2"
  },
  "language_info": {
   "codemirror_mode": {
    "name": "ipython",
    "version": 2
   },
   "file_extension": ".py",
   "mimetype": "text/x-python",
   "name": "python",
   "nbconvert_exporter": "python",
   "pygments_lexer": "ipython2",
   "version": "2.7.6"
  }
 },
 "nbformat": 4,
 "nbformat_minor": 0
}
